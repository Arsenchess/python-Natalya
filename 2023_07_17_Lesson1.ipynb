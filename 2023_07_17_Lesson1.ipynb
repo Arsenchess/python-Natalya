{
  "nbformat": 4,
  "nbformat_minor": 0,
  "metadata": {
    "colab": {
      "provenance": [],
      "toc_visible": true,
      "authorship_tag": "ABX9TyNPHV077cRVSCevOoSrk1mo",
      "include_colab_link": true
    },
    "kernelspec": {
      "name": "python3",
      "display_name": "Python 3"
    },
    "language_info": {
      "name": "python"
    }
  },
  "cells": [
    {
      "cell_type": "markdown",
      "metadata": {
        "id": "view-in-github",
        "colab_type": "text"
      },
      "source": [
        "<a href=\"https://colab.research.google.com/github/ProNatalya/python/blob/main/2023_07_17_Lesson1.ipynb\" target=\"_parent\"><img src=\"https://colab.research.google.com/assets/colab-badge.svg\" alt=\"Open In Colab\"/></a>"
      ]
    },
    {
      "cell_type": "code",
      "execution_count": null,
      "metadata": {
        "colab": {
          "base_uri": "https://localhost:8080/"
        },
        "id": "vl2ZNWeFkD8N",
        "outputId": "049a5033-e2bc-445d-b5da-f47a5f7c8676"
      },
      "outputs": [
        {
          "output_type": "stream",
          "name": "stdout",
          "text": [
            "hello world\n"
          ]
        }
      ],
      "source": [
        "print('hello world')\n"
      ]
    },
    {
      "cell_type": "markdown",
      "source": [
        "fork, pull request, commit, git pull"
      ],
      "metadata": {
        "id": "tdMyAojvm40Z"
      }
    },
    {
      "cell_type": "markdown",
      "source": [
        "fork - это собственное ответвление (fork) стороннего проекта в свой репозиторий. Это означает, что GitHub создаст мою собственную копию проекта и я смогу легко делать изменения путём отправки (push) изменений.\n",
        "\n",
        "pull request - запрос на внесение своих правок в репозиторий от которого был сделан fork.\n",
        "\n",
        "git commit - используется для фиксации изменений в документе/файле/ программе, в контексте гита и создания комментария к изменениям.\n",
        "\n",
        "git pull - используется для извлечения и загрузки содержимого из удаленного репозитория и немедленного обновления локального репозитория этим содержимым."
      ],
      "metadata": {
        "id": "8xw8EXLU4Mq1"
      }
    }
  ]
}