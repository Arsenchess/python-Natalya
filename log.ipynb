{
  "nbformat": 4,
  "nbformat_minor": 0,
  "metadata": {
    "colab": {
      "provenance": [],
      "authorship_tag": "ABX9TyM59oXLwC2z58txOXUSmosj",
      "include_colab_link": true
    },
    "kernelspec": {
      "name": "python3",
      "display_name": "Python 3"
    },
    "language_info": {
      "name": "python"
    }
  },
  "cells": [
    {
      "cell_type": "markdown",
      "metadata": {
        "id": "view-in-github",
        "colab_type": "text"
      },
      "source": [
        "<a href=\"https://colab.research.google.com/github/ProNatalya/python/blob/main/log.ipynb\" target=\"_parent\"><img src=\"https://colab.research.google.com/assets/colab-badge.svg\" alt=\"Open In Colab\"/></a>"
      ]
    },
    {
      "cell_type": "markdown",
      "source": [
        " 2023_07_19_lesson2\n",
        "\n",
        "1. Математические операторы (МО):\n",
        "   +, -, /, = ;\n",
        "2. Дополнительные МО:\n",
        "   // - деление с отбрасыванием остатка;\n",
        "   % - деление по модулю, остаток от деления;\n",
        "   ** - возведение в степень;  \n",
        "3. Примеры вычислений с МО и доп МО.\n",
        "4. Булевые операторы:\n",
        "   True;\n",
        "   False.\n",
        "5. Логические операторы:\n",
        "   and - конъюнкция;\n",
        "   or - дизъюнкция;\n",
        "   not - инверсия.\n",
        "6. Команда !python 'имя файла'\n",
        "   Запускает содержимое файла в  colab online.\n",
        "6. Таблица истинности логических   операций (and, or, not)\n",
        "7. Преобразование типов\n",
        "   (True + True; 0 == False)\n"
      ],
      "metadata": {
        "id": "VQvuubza87ho"
      }
    },
    {
      "cell_type": "markdown",
      "source": [
        " 2023_07_24_Lesson 3\n",
        "\n",
        "Data Science, ML - 8 -12 месяцев\n",
        "1. Python beginner - 2 мес\n",
        "2. Дата Аналитика (анализ данных) - 4 месяца\n",
        "3. Парсинг  (сбор данных) - 5-6 месяцев\n",
        "\n",
        "Числа - это числа.\n",
        "Цифры - это числовые символы.\n",
        "Множество натуральных чисел:\n",
        "N = {I, II, III ...}\n",
        "Способы создания множеств:\n",
        "1) перечисление\n",
        "2) описание (определяем свойства их элементов)\n",
        "\n",
        "Диаграмма Венна\n",
        "__________________\n",
        "Виды дробей\n",
        "__________________________\n",
        "Дроби, правила вычислений.\n",
        "____________________________\n",
        "Правила округления.\n",
        "_____________________________\n",
        "Разряды в математике ( классы и разряды - см.pic3_lesson3)\n",
        "_____________________________\n",
        "Q ∪ I = R\n",
        "Объединение множеств"
      ],
      "metadata": {
        "id": "OCl7vGz7lFiV"
      }
    }
  ]
}