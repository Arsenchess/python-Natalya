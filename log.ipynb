{
  "nbformat": 4,
  "nbformat_minor": 0,
  "metadata": {
    "colab": {
      "provenance": [],
      "authorship_tag": "ABX9TyMkgYoQbscCoQrghrzDBb4h",
      "include_colab_link": true
    },
    "kernelspec": {
      "name": "python3",
      "display_name": "Python 3"
    },
    "language_info": {
      "name": "python"
    }
  },
  "cells": [
    {
      "cell_type": "markdown",
      "metadata": {
        "id": "view-in-github",
        "colab_type": "text"
      },
      "source": [
        "<a href=\"https://colab.research.google.com/github/ProNatalya/python/blob/main/log.ipynb\" target=\"_parent\"><img src=\"https://colab.research.google.com/assets/colab-badge.svg\" alt=\"Open In Colab\"/></a>"
      ]
    },
    {
      "cell_type": "code",
      "execution_count": null,
      "metadata": {
        "id": "MKCOMlru8tGn"
      },
      "outputs": [],
      "source": []
    },
    {
      "cell_type": "markdown",
      "source": [
        " 2023_07_19_lesson2\n",
        "\n",
        "1. Математические операторы (МО):\n",
        "   +, -, /, = ;\n",
        "2. Дополнительные МО:\n",
        "   // - деление с отбрасыванием остатка;\n",
        "   % - деление по модулю, остаток от деления;\n",
        "   ** - возведение в степень;  \n",
        "3. Примеры вычислений с МО и доп МО.\n",
        "4. Булевые операторы:\n",
        "   True;\n",
        "   False.\n",
        "5. Логические операторы:\n",
        "   and - конъюнкция;\n",
        "   or - дизъюнкция;\n",
        "   not - инверсия.\n",
        "6. Команда !python 'имя файла'\n",
        "   Запускает содержимое файла в  colab online.\n",
        "6. Таблица истинности логических   операций (c and, or, not)"
      ],
      "metadata": {
        "id": "VQvuubza87ho"
      }
    }
  ]
}