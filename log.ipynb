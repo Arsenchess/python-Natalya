{
  "nbformat": 4,
  "nbformat_minor": 0,
  "metadata": {
    "colab": {
      "provenance": [],
      "authorship_tag": "ABX9TyPMAb1aXw7Ddo/D26RHyo5b",
      "include_colab_link": true
    },
    "kernelspec": {
      "name": "python3",
      "display_name": "Python 3"
    },
    "language_info": {
      "name": "python"
    }
  },
  "cells": [
    {
      "cell_type": "markdown",
      "metadata": {
        "id": "view-in-github",
        "colab_type": "text"
      },
      "source": [
        "<a href=\"https://colab.research.google.com/github/ProNatalya/python/blob/main/log.ipynb\" target=\"_parent\"><img src=\"https://colab.research.google.com/assets/colab-badge.svg\" alt=\"Open In Colab\"/></a>"
      ]
    },
    {
      "cell_type": "markdown",
      "source": [
        " 2023_07_19_lesson2\n",
        "\n",
        "1. Математические операторы (МО):\n",
        "   +, -, /, = ;\n",
        "2. Дополнительные МО:\n",
        "   // - деление с отбрасыванием остатка;\n",
        "   % - деление по модулю, остаток от деления;\n",
        "   ** - возведение в степень;  \n",
        "3. Примеры вычислений с МО и доп МО.\n",
        "4. Булевые операторы:\n",
        "   True;\n",
        "   False.\n",
        "5. Логические операторы:\n",
        "   and - конъюнкция;\n",
        "   or - дизъюнкция;\n",
        "   not - инверсия.\n",
        "6. Команда !python 'имя файла'\n",
        "   Запускает содержимое файла в  colab online.\n",
        "6. Таблица истинности логических   операций (and, or, not)\n",
        "7. Преобразование типов\n",
        "   (True + True; 0 == False)\n"
      ],
      "metadata": {
        "id": "VQvuubza87ho"
      }
    },
    {
      "cell_type": "markdown",
      "source": [
        " 2023_07_24_Lesson 3\n",
        "\n",
        "Data Science, ML - 8 -12 месяцев\n",
        "1. Python beginner - 2 мес\n",
        "2. Дата Аналитика (анализ данных) - 4 месяца\n",
        "3. Парсинг  (сбор данных) - 5-6 месяцев\n",
        "\n",
        "Числа - это числа.\n",
        "Цифры - это числовые символы.\n",
        "Множество натуральных чисел:\n",
        "N = {I, II, III ...}\n",
        "Способы создания множеств:\n",
        "1) перечисление\n",
        "2) описание (определяем свойства их элементов)\n",
        "\n",
        "Диаграмма Венна\n",
        "__________________\n",
        "Виды дробей\n",
        "__________________________\n",
        "Дроби, правила вычислений.\n",
        "____________________________\n",
        "Правила округления.\n",
        "_____________________________\n",
        "Разряды в математике ( классы и разряды - см.pic3_lesson3)\n",
        "_____________________________\n",
        "Q ∪ I = R\n",
        "Объединение множеств"
      ],
      "metadata": {
        "id": "OCl7vGz7lFiV"
      }
    },
    {
      "cell_type": "markdown",
      "source": [
        "2023_08_07_Lesson4\n",
        "\n",
        "Определили план развития на ближайшее время:\n",
        "пройти курс питона степик\n",
        "kaggle питон\n",
        "karpov python\n",
        "free code camp (школьная математика)\n",
        "2 часа день - математика и 1 час python\n",
        "khan academy (математика)\n",
        "math pro экспресс курс по математике (учебник)\n",
        "марафон по математике\n",
        "Настроили vs code для python\n",
        "создали виртуальное окружение (python -m venv venv)\n",
        "активировали виртуальное окружение (venv\\sc+tab\\a+tab)"
      ],
      "metadata": {
        "id": "nxvR1FrzrwKy"
      }
    },
    {
      "cell_type": "markdown",
      "source": [
        "2023_08_14_Lesson5\n",
        "1. Section P.1. from College Algebra Robert Blitzer\n",
        "  - algebraic expressions\n",
        "  - exponential notation (возведение в степень)\n",
        "  - mathematical model\n",
        "2. woodhunt.ru useful vocabulary\n",
        "3. Таблица истинности - знать"
      ],
      "metadata": {
        "id": "2ouWNhSTrzgI"
      }
    },
    {
      "cell_type": "markdown",
      "source": [
        "2023_08_21_Lesson6\n",
        "Discrete mathematics for CS, Chapter1\n",
        "Sets. Ways of creating."
      ],
      "metadata": {
        "id": "1srF-SpyWiEj"
      }
    },
    {
      "cell_type": "markdown",
      "source": [
        "2023_08_28_Lesson7\n",
        "Проходили списки в python.\n",
        "- list\n",
        "- list.append()\n",
        "- dir(list)\n",
        "- type(list)"
      ],
      "metadata": {
        "id": "mWBIwJ3w9gW9"
      }
    },
    {
      "cell_type": "markdown",
      "source": [
        "2023_09_04_Lesson8  Проходили list, class, def, key arguments"
      ],
      "metadata": {
        "id": "IiWC4ivZzppc"
      }
    }
  ]
}