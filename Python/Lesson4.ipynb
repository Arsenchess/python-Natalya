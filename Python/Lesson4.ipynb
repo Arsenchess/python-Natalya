{
 "cells": [
  {
   "cell_type": "markdown",
   "metadata": {},
   "source": [
    "Создание виртуального окружения.\n",
    "python -m venv venv"
   ]
  },
  {
   "cell_type": "markdown",
   "metadata": {},
   "source": [
    "Активация виртуального окружения\n",
    "venv\\sc+tab\\a+tab"
   ]
  },
  {
   "cell_type": "markdown",
   "metadata": {},
   "source": [
    "linter это инструмент анализа и поиска ошибок согласно PEP8 \n",
    "Flake8 это linter \n",
    "Black (shift + alt + f) это инструмент авто форматирования согласно linter\n"
   ]
  },
  {
   "cell_type": "markdown",
   "metadata": {},
   "source": [
    "Принять домашку - git pull\n",
    "Отдать домашку - commit&push\n",
    "\n",
    "fork - это операция клонирования чужого репозитория к себе в личный аккаунт гитхаба, для дальнейшего\n",
    "pull request\n",
    "Склонировать репозиторий с github - clone\n",
    "pull request - операция передачи изменений из личного репозитория в форкнутый репозиторий, возможен только при наличии изменений\n"
   ]
  }
 ],
 "metadata": {
  "kernelspec": {
   "display_name": "venv",
   "language": "python",
   "name": "python3"
  },
  "language_info": {
   "codemirror_mode": {
    "name": "ipython",
    "version": 3
   },
   "file_extension": ".py",
   "mimetype": "text/x-python",
   "name": "python",
   "nbconvert_exporter": "python",
   "pygments_lexer": "ipython3",
   "version": "3.11.4"
  },
  "orig_nbformat": 4
 },
 "nbformat": 4,
 "nbformat_minor": 2
}
