{
  "nbformat": 4,
  "nbformat_minor": 0,
  "metadata": {
    "colab": {
      "provenance": [],
      "authorship_tag": "ABX9TyO/K8/vcPmPBRRXhC7TW1yE",
      "include_colab_link": true
    },
    "kernelspec": {
      "name": "python3",
      "display_name": "Python 3"
    },
    "language_info": {
      "name": "python"
    }
  },
  "cells": [
    {
      "cell_type": "markdown",
      "metadata": {
        "id": "view-in-github",
        "colab_type": "text"
      },
      "source": [
        "<a href=\"https://colab.research.google.com/github/ProNatalya/python/blob/main/Lesson13_numpy_lesson4.ipynb\" target=\"_parent\"><img src=\"https://colab.research.google.com/assets/colab-badge.svg\" alt=\"Open In Colab\"/></a>"
      ]
    },
    {
      "cell_type": "code",
      "execution_count": 2,
      "metadata": {
        "id": "mJlJfmy5s9hd"
      },
      "outputs": [],
      "source": [
        "import numpy as np\n",
        "import matplotlib.pyplot as plt\n"
      ]
    },
    {
      "cell_type": "code",
      "source": [
        "v1 = np.array([\n",
        "    [1, 2],\n",
        "    [3, 4]\n",
        "]\n",
        ") # column vector\n",
        "v2 = np.array([\n",
        "     [1,2,3,4]\n",
        "]) # row vector\n",
        "v1,v2\n",
        "\n",
        ""
      ],
      "metadata": {
        "colab": {
          "base_uri": "https://localhost:8080/"
        },
        "id": "z36eIGhqwQGf",
        "outputId": "d66feb7d-6836-4ee5-efd8-069b1b7c0ed3"
      },
      "execution_count": 3,
      "outputs": [
        {
          "output_type": "execute_result",
          "data": {
            "text/plain": [
              "(array([[1, 2],\n",
              "        [3, 4]]),\n",
              " array([[1, 2, 3, 4]]))"
            ]
          },
          "metadata": {},
          "execution_count": 3
        }
      ]
    },
    {
      "cell_type": "code",
      "source": [
        "v_1 = np.array([1,2]) # () => call function or call method\n",
        "v_2 = np.array([3,4])\n",
        "v_3 = np.array([3,4]) * -1\n",
        "\n",
        "plt.plot([0, v_1[0]],[0, v_1[1]]) # метод создаёт график, принимает два списка, первый список это координаты по х => начальная точка и конечная, второй список по y => начальная и конечная\n",
        "plt.plot([0, v_2[0]],[0, v_2[1]])\n",
        "plt.plot([0, v_3[0]],[0, v_3[1]]) # противополный вектор\n",
        "plt.grid() # сетка\n",
        "plt.axis([-3,3,-3,3]) # оси => маштаб\n",
        "\n",
        "\n"
      ],
      "metadata": {
        "colab": {
          "base_uri": "https://localhost:8080/",
          "height": 452
        },
        "id": "P1N5ornrwvIG",
        "outputId": "ed953ae0-176c-4fcd-c3fb-b02d36e08c5b"
      },
      "execution_count": 4,
      "outputs": [
        {
          "output_type": "execute_result",
          "data": {
            "text/plain": [
              "(-3.0, 3.0, -3.0, 3.0)"
            ]
          },
          "metadata": {},
          "execution_count": 4
        },
        {
          "output_type": "display_data",
          "data": {
            "text/plain": [
              "<Figure size 640x480 with 1 Axes>"
            ],
            "image/png": "[encoded data removed]"
          },
          "metadata": {}
        }
      ]
    }
  ]
}
