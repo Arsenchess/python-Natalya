{
  "nbformat": 4,
  "nbformat_minor": 0,
  "metadata": {
    "colab": {
      "provenance": [],
      "authorship_tag": "ABX9TyPoS6e0i4Tj+TFPw4TaOubT",
      "include_colab_link": true
    },
    "kernelspec": {
      "name": "python3",
      "display_name": "Python 3"
    },
    "language_info": {
      "name": "python"
    }
  },
  "cells": [
    {
      "cell_type": "markdown",
      "metadata": {
        "id": "view-in-github",
        "colab_type": "text"
      },
      "source": [
        "<a href=\"https://colab.research.google.com/github/ProNatalya/python/blob/main/indy_crs_2_2_strings.ipynb\" target=\"_parent\"><img src=\"https://colab.research.google.com/assets/colab-badge.svg\" alt=\"Open In Colab\"/></a>"
      ]
    },
    {
      "cell_type": "code",
      "execution_count": null,
      "metadata": {
        "colab": {
          "base_uri": "https://localhost:8080/",
          "height": 35
        },
        "id": "7-w9_waekGwO",
        "outputId": "1fe8043c-e8b1-4e4c-95d4-bbcba3d19d9a"
      },
      "outputs": [
        {
          "output_type": "execute_result",
          "data": {
            "text/plain": [
              "'d'"
            ],
            "application/vnd.google.colaboratory.intrinsic+json": {
              "type": "string"
            }
          },
          "metadata": {},
          "execution_count": 1
        }
      ],
      "source": [
        "s = \"hello world\"\n",
        "s[len(s) - 1]"
      ]
    },
    {
      "cell_type": "code",
      "source": [
        "s[-1]"
      ],
      "metadata": {
        "colab": {
          "base_uri": "https://localhost:8080/",
          "height": 35
        },
        "id": "tm8O5265l5rh",
        "outputId": "32ea8d61-f880-4f23-f1df-517f0186f6c4"
      },
      "execution_count": null,
      "outputs": [
        {
          "output_type": "execute_result",
          "data": {
            "text/plain": [
              "'d'"
            ],
            "application/vnd.google.colaboratory.intrinsic+json": {
              "type": "string"
            }
          },
          "metadata": {},
          "execution_count": 2
        }
      ]
    },
    {
      "cell_type": "code",
      "source": [
        "s[2:6]"
      ],
      "metadata": {
        "colab": {
          "base_uri": "https://localhost:8080/",
          "height": 35
        },
        "id": "mplpHZD8mKuO",
        "outputId": "2ffb730e-9577-44af-b78c-2cdbfbd8b68d"
      },
      "execution_count": null,
      "outputs": [
        {
          "output_type": "execute_result",
          "data": {
            "text/plain": [
              "'llo '"
            ],
            "application/vnd.google.colaboratory.intrinsic+json": {
              "type": "string"
            }
          },
          "metadata": {},
          "execution_count": 3
        }
      ]
    },
    {
      "cell_type": "code",
      "source": [
        "s[2:7]"
      ],
      "metadata": {
        "colab": {
          "base_uri": "https://localhost:8080/",
          "height": 35
        },
        "id": "tOxcUhYVmOb8",
        "outputId": "2d67a7da-52ea-4595-8797-953815392870"
      },
      "execution_count": null,
      "outputs": [
        {
          "output_type": "execute_result",
          "data": {
            "text/plain": [
              "'llo w'"
            ],
            "application/vnd.google.colaboratory.intrinsic+json": {
              "type": "string"
            }
          },
          "metadata": {},
          "execution_count": 4
        }
      ]
    },
    {
      "cell_type": "code",
      "source": [
        "s[6:9]"
      ],
      "metadata": {
        "colab": {
          "base_uri": "https://localhost:8080/",
          "height": 35
        },
        "id": "WhfyocwtmVgq",
        "outputId": "619e8fd0-68e0-4794-a7f9-f24d12b2310b"
      },
      "execution_count": null,
      "outputs": [
        {
          "output_type": "execute_result",
          "data": {
            "text/plain": [
              "'wor'"
            ],
            "application/vnd.google.colaboratory.intrinsic+json": {
              "type": "string"
            }
          },
          "metadata": {},
          "execution_count": 5
        }
      ]
    },
    {
      "cell_type": "code",
      "source": [
        "s[4:]"
      ],
      "metadata": {
        "colab": {
          "base_uri": "https://localhost:8080/",
          "height": 35
        },
        "id": "TVqK5PC2mY8R",
        "outputId": "4dc54d68-31b9-4717-8208-e82797f60352"
      },
      "execution_count": null,
      "outputs": [
        {
          "output_type": "execute_result",
          "data": {
            "text/plain": [
              "'o world'"
            ],
            "application/vnd.google.colaboratory.intrinsic+json": {
              "type": "string"
            }
          },
          "metadata": {},
          "execution_count": 6
        }
      ]
    },
    {
      "cell_type": "code",
      "source": [
        "s[:]"
      ],
      "metadata": {
        "colab": {
          "base_uri": "https://localhost:8080/",
          "height": 35
        },
        "id": "zovYNrUsmoZg",
        "outputId": "9b465ba1-a264-4510-d148-8ae8ab8e32f6"
      },
      "execution_count": null,
      "outputs": [
        {
          "output_type": "execute_result",
          "data": {
            "text/plain": [
              "'hello world'"
            ],
            "application/vnd.google.colaboratory.intrinsic+json": {
              "type": "string"
            }
          },
          "metadata": {},
          "execution_count": 7
        }
      ]
    },
    {
      "cell_type": "code",
      "source": [
        "s[::2]"
      ],
      "metadata": {
        "colab": {
          "base_uri": "https://localhost:8080/",
          "height": 35
        },
        "id": "GFw0R3F2mrOK",
        "outputId": "80ebc457-c950-464c-a458-55131bcaa451"
      },
      "execution_count": null,
      "outputs": [
        {
          "output_type": "execute_result",
          "data": {
            "text/plain": [
              "'hlowrd'"
            ],
            "application/vnd.google.colaboratory.intrinsic+json": {
              "type": "string"
            }
          },
          "metadata": {},
          "execution_count": 8
        }
      ]
    },
    {
      "cell_type": "code",
      "source": [
        "s[1::2]"
      ],
      "metadata": {
        "colab": {
          "base_uri": "https://localhost:8080/",
          "height": 35
        },
        "id": "KeIqhghAm4H6",
        "outputId": "b047a4a7-60d9-4a03-fab1-c3ce3cc932c7"
      },
      "execution_count": null,
      "outputs": [
        {
          "output_type": "execute_result",
          "data": {
            "text/plain": [
              "'el ol'"
            ],
            "application/vnd.google.colaboratory.intrinsic+json": {
              "type": "string"
            }
          },
          "metadata": {},
          "execution_count": 9
        }
      ]
    },
    {
      "cell_type": "code",
      "source": [
        "s[::-1]"
      ],
      "metadata": {
        "colab": {
          "base_uri": "https://localhost:8080/",
          "height": 35
        },
        "id": "_1WsaaIbm-g0",
        "outputId": "0352644d-2402-4ebf-8f75-6e7c49ac9763"
      },
      "execution_count": null,
      "outputs": [
        {
          "output_type": "execute_result",
          "data": {
            "text/plain": [
              "'dlrow olleh'"
            ],
            "application/vnd.google.colaboratory.intrinsic+json": {
              "type": "string"
            }
          },
          "metadata": {},
          "execution_count": 10
        }
      ]
    },
    {
      "cell_type": "code",
      "source": [
        "s[2:8:3]"
      ],
      "metadata": {
        "colab": {
          "base_uri": "https://localhost:8080/",
          "height": 35
        },
        "id": "10X2eRXNnMOC",
        "outputId": "a28bf9a7-680b-468a-a775-e5a35fff5b1f"
      },
      "execution_count": null,
      "outputs": [
        {
          "output_type": "execute_result",
          "data": {
            "text/plain": [
              "'l '"
            ],
            "application/vnd.google.colaboratory.intrinsic+json": {
              "type": "string"
            }
          },
          "metadata": {},
          "execution_count": 11
        }
      ]
    },
    {
      "cell_type": "code",
      "source": [
        "# строка это неизменяемый объект\n",
        "s[1] = 'a'"
      ],
      "metadata": {
        "colab": {
          "base_uri": "https://localhost:8080/",
          "height": 193
        },
        "id": "QaXN0HsMneR9",
        "outputId": "d1f96876-c39c-4518-a67f-a82210353d72"
      },
      "execution_count": null,
      "outputs": [
        {
          "output_type": "error",
          "ename": "TypeError",
          "evalue": "ignored",
          "traceback": [
            "\u001b[0;31m---------------------------------------------------------------------------\u001b[0m",
            "\u001b[0;31mTypeError\u001b[0m                                 Traceback (most recent call last)",
            "\u001b[0;32m<ipython-input-12-a90c1bacd7e8>\u001b[0m in \u001b[0;36m<cell line: 2>\u001b[0;34m()\u001b[0m\n\u001b[1;32m      1\u001b[0m \u001b[0;31m# строка это неизменяемый объект\u001b[0m\u001b[0;34m\u001b[0m\u001b[0;34m\u001b[0m\u001b[0m\n\u001b[0;32m----> 2\u001b[0;31m \u001b[0ms\u001b[0m\u001b[0;34m[\u001b[0m\u001b[0;36m1\u001b[0m\u001b[0;34m]\u001b[0m \u001b[0;34m=\u001b[0m \u001b[0;34m'a'\u001b[0m\u001b[0;34m\u001b[0m\u001b[0;34m\u001b[0m\u001b[0m\n\u001b[0m",
            "\u001b[0;31mTypeError\u001b[0m: 'str' object does not support item assignment"
          ]
        }
      ]
    },
    {
      "cell_type": "code",
      "source": [
        "s[:4]"
      ],
      "metadata": {
        "colab": {
          "base_uri": "https://localhost:8080/",
          "height": 35
        },
        "id": "90-rPcVrn0ut",
        "outputId": "80b6baba-ea01-487a-f511-b076019868f7"
      },
      "execution_count": null,
      "outputs": [
        {
          "output_type": "execute_result",
          "data": {
            "text/plain": [
              "'hell'"
            ],
            "application/vnd.google.colaboratory.intrinsic+json": {
              "type": "string"
            }
          },
          "metadata": {},
          "execution_count": 13
        }
      ]
    },
    {
      "cell_type": "code",
      "source": [
        "s[:4] + 'a' + s[5:]"
      ],
      "metadata": {
        "colab": {
          "base_uri": "https://localhost:8080/",
          "height": 35
        },
        "id": "TI2AI2OgoBYW",
        "outputId": "46e9b595-0c92-453b-d5f0-b01f16721107"
      },
      "execution_count": null,
      "outputs": [
        {
          "output_type": "execute_result",
          "data": {
            "text/plain": [
              "'hella world'"
            ],
            "application/vnd.google.colaboratory.intrinsic+json": {
              "type": "string"
            }
          },
          "metadata": {},
          "execution_count": 14
        }
      ]
    },
    {
      "cell_type": "markdown",
      "source": [
        "# Задача_1"
      ],
      "metadata": {
        "id": "l-LCFduNqbHl"
      }
    },
    {
      "cell_type": "markdown",
      "source": [
        "Программа получает на вход строку и ваша задача вывести последние 4 символа этой строки.\n",
        "Гарантируется, что вводится будет строка длиной не менее 4 символов."
      ],
      "metadata": {
        "id": "cKW-SOOZqKqQ"
      }
    },
    {
      "cell_type": "markdown",
      "source": [
        "### Sample Input:\n",
        "\n",
        "Манчестер сити\n"
      ],
      "metadata": {
        "id": "EZb1XVThq6Bm"
      }
    },
    {
      "cell_type": "markdown",
      "source": [
        "### Sample Output:\n",
        "\n",
        "сити"
      ],
      "metadata": {
        "id": "bufDxfhxrNJy"
      }
    },
    {
      "cell_type": "code",
      "source": [
        "p = input()\n",
        "print(p[-4::])\n"
      ],
      "metadata": {
        "colab": {
          "base_uri": "https://localhost:8080/"
        },
        "id": "1H80ZGgPrWmb",
        "outputId": "0e9de110-dc3f-4e05-9218-59d4922b0c18"
      },
      "execution_count": null,
      "outputs": [
        {
          "output_type": "stream",
          "name": "stdout",
          "text": [
            "Манчестер сити\n",
            "сити\n"
          ]
        }
      ]
    },
    {
      "cell_type": "markdown",
      "source": [
        "# Задача_2"
      ],
      "metadata": {
        "id": "JrnqWx0Lsev6"
      }
    },
    {
      "cell_type": "markdown",
      "source": [
        "Программа получает на вход строку. Ваша задача вывести все символы этой строки, которые имеют четные индексы"
      ],
      "metadata": {
        "id": "0X8e5STSsh1x"
      }
    },
    {
      "cell_type": "markdown",
      "source": [
        "### Sample Input:\n",
        "\n",
        "Монти Пайтон"
      ],
      "metadata": {
        "id": "K9ePbfCSsjKT"
      }
    },
    {
      "cell_type": "markdown",
      "source": [
        "### Sample Output:\n",
        "\n",
        "МниПйо"
      ],
      "metadata": {
        "id": "5tPl0B2Ns0qj"
      }
    },
    {
      "cell_type": "code",
      "source": [
        "t = input()\n",
        "print(t[::2])"
      ],
      "metadata": {
        "colab": {
          "base_uri": "https://localhost:8080/"
        },
        "id": "6w9Mi7e4svdH",
        "outputId": "0a6dd79b-8a0b-4a33-8b2d-59a3a0172dce"
      },
      "execution_count": null,
      "outputs": [
        {
          "output_type": "stream",
          "name": "stdout",
          "text": [
            "Монти Пайтон\n",
            "МниПйо\n"
          ]
        }
      ]
    },
    {
      "cell_type": "markdown",
      "source": [
        "# Задача_3"
      ],
      "metadata": {
        "id": "JAoVrJqfaj0x"
      }
    },
    {
      "cell_type": "markdown",
      "source": [
        "Программа получает на вход строку. Ваша задача вывести все символы этой строки, которые имеют нечетные индексы"
      ],
      "metadata": {
        "id": "iJKrou60at0y"
      }
    },
    {
      "cell_type": "markdown",
      "source": [
        "### Sample Input:\n",
        "\n",
        "Donald Trump"
      ],
      "metadata": {
        "id": "O-7nNo5sbEcb"
      }
    },
    {
      "cell_type": "markdown",
      "source": [
        "### Sample Output:\n",
        "\n",
        "oadTup"
      ],
      "metadata": {
        "id": "ZjHaChc8bNeW"
      }
    },
    {
      "cell_type": "code",
      "source": [
        "i = input()\n",
        "print(i[1::2])"
      ],
      "metadata": {
        "colab": {
          "base_uri": "https://localhost:8080/"
        },
        "id": "5wRjqOwGa9sq",
        "outputId": "a018f77e-b24c-4b3c-c5f9-fc1abb39ea73"
      },
      "execution_count": null,
      "outputs": [
        {
          "output_type": "stream",
          "name": "stdout",
          "text": [
            "Donald Tramp\n",
            "oadTap\n"
          ]
        }
      ]
    },
    {
      "cell_type": "markdown",
      "source": [
        "# Задача_4"
      ],
      "metadata": {
        "id": "nh4RAdHKcI2l"
      }
    },
    {
      "cell_type": "code",
      "source": [
        "i = input()\n",
        "print(i[::-1])\n",
        "# leetcode.com - input\n",
        "# moc.edocteel - output"
      ],
      "metadata": {
        "colab": {
          "base_uri": "https://localhost:8080/"
        },
        "id": "3V4_fXH7bzYM",
        "outputId": "726818bb-1b20-4a7e-db24-153fdbb15244"
      },
      "execution_count": null,
      "outputs": [
        {
          "output_type": "stream",
          "name": "stdout",
          "text": [
            "leetcode.com\n",
            "moc.edocteel\n"
          ]
        }
      ]
    },
    {
      "cell_type": "markdown",
      "source": [
        "# Задача_5"
      ],
      "metadata": {
        "id": "3oDZVg2xccgR"
      }
    },
    {
      "cell_type": "markdown",
      "source": [
        "Программа получает на вход строку.\n",
        "\n",
        "Выведите каждый третий символ строки в обратном порядке, начиная с последнего."
      ],
      "metadata": {
        "id": "78vZELe8cgCn"
      }
    },
    {
      "cell_type": "markdown",
      "source": [
        "### Sample Input:\n",
        "\n",
        "The Big Bang Theory"
      ],
      "metadata": {
        "id": "uJ-1v8mFcmAw"
      }
    },
    {
      "cell_type": "markdown",
      "source": [
        "### Sample Output:\n",
        "\n",
        "ye ag T\n"
      ],
      "metadata": {
        "id": "9U7Q1wACcs-c"
      }
    },
    {
      "cell_type": "code",
      "source": [
        "f = input()\n",
        "str = f[::-3]\n",
        "print(str)"
      ],
      "metadata": {
        "colab": {
          "base_uri": "https://localhost:8080/"
        },
        "id": "tFuIIAXncvvL",
        "outputId": "d2ac56a0-4bd4-4213-899b-0db6c19396d2"
      },
      "execution_count": null,
      "outputs": [
        {
          "output_type": "stream",
          "name": "stdout",
          "text": [
            "The Big Bang Theory \n",
            " oTn Bh\n"
          ]
        }
      ]
    },
    {
      "cell_type": "markdown",
      "source": [
        "# Задача_6"
      ],
      "metadata": {
        "id": "4KwZycxCdWsN"
      }
    },
    {
      "cell_type": "markdown",
      "source": [
        "Программа получает на вход одно слово. Ваша задача перенести последнюю букву в начало, тем самым сдвинуть все остальные буквы вправо на один разряд. В качестве ответа нужно вывести полученное слово."
      ],
      "metadata": {
        "id": "020uVuXWdZVR"
      }
    },
    {
      "cell_type": "markdown",
      "source": [
        "### Sample Input 1:\n",
        "\n",
        "become"
      ],
      "metadata": {
        "id": "XXghWcCSd4fD"
      }
    },
    {
      "cell_type": "markdown",
      "source": [
        "### Sample Output 1:\n",
        "\n",
        "ebecom"
      ],
      "metadata": {
        "id": "ObexjMpueAku"
      }
    },
    {
      "cell_type": "markdown",
      "source": [
        "### Sample Input 2:\n",
        "\n",
        "come"
      ],
      "metadata": {
        "id": "ehcKq8zheND5"
      }
    },
    {
      "cell_type": "markdown",
      "source": [
        "### Sample Output 2:\n",
        "\n",
        "ecom"
      ],
      "metadata": {
        "id": "PobtPjOTeQq1"
      }
    },
    {
      "cell_type": "code",
      "source": [
        "word = input()\n",
        "\n",
        "result = word[-1] + word[:-1]\n",
        "\n",
        "print(result)"
      ],
      "metadata": {
        "id": "Njokpc82eZ8B",
        "outputId": "0c9aa764-fd97-4814-f87d-428c7b760181",
        "colab": {
          "base_uri": "https://localhost:8080/"
        }
      },
      "execution_count": null,
      "outputs": [
        {
          "output_type": "stream",
          "name": "stdout",
          "text": [
            "come\n",
            "ecom\n"
          ]
        }
      ]
    }
  ]
}
