{
  "nbformat": 4,
  "nbformat_minor": 0,
  "metadata": {
    "colab": {
      "provenance": [],
      "authorship_tag": "ABX9TyMWlGryX75rDvnxJh4tC3uE",
      "include_colab_link": true
    },
    "kernelspec": {
      "name": "python3",
      "display_name": "Python 3"
    },
    "language_info": {
      "name": "python"
    }
  },
  "cells": [
    {
      "cell_type": "markdown",
      "metadata": {
        "id": "view-in-github",
        "colab_type": "text"
      },
      "source": [
        "<a href=\"https://colab.research.google.com/github/ProNatalya/python/blob/main/indy_crs_1_1_to_1_8.ipynb\" target=\"_parent\"><img src=\"https://colab.research.google.com/assets/colab-badge.svg\" alt=\"Open In Colab\"/></a>"
      ]
    },
    {
      "cell_type": "markdown",
      "source": [
        "# Площадь и периметр прямоугольника\n",
        "## Входные данные\n",
        "\n",
        "На вход программе в отдельных строках поступают два вещественных числа a и b: длина и ширина прямоугольника.\n",
        "\n",
        "Выходные данные\n",
        "\n",
        "Программа должна вывести через пробел два значения: сперва площадь S, а затем периметр P прямоугольника"
      ],
      "metadata": {
        "id": "30IcNCWQdyz_"
      }
    },
    {
      "cell_type": "code",
      "execution_count": null,
      "metadata": {
        "colab": {
          "base_uri": "https://localhost:8080/"
        },
        "id": "xbLJGXhFdS1e",
        "outputId": "05f1fe0e-730f-4814-a832-9625369aa76d"
      },
      "outputs": [
        {
          "output_type": "stream",
          "name": "stdout",
          "text": [
            "2\n",
            "3\n",
            "6.0 10.0\n"
          ]
        }
      ],
      "source": [
        "a = float(input())\n",
        "b = float(input())\n",
        "s = a * b\n",
        "p = 2 * (a + b)\n",
        "print(s, p, sep=' ')"
      ]
    },
    {
      "cell_type": "code",
      "source": [
        "a = float(input())\n",
        "b = float(input())\n",
        "print(a * b, 2 * (a + b))"
      ],
      "metadata": {
        "id": "bGAhgOjneRkU"
      },
      "execution_count": null,
      "outputs": []
    },
    {
      "cell_type": "code",
      "source": [
        "a = float(input(\" \"))\n",
        "b = float(input(\" \"))\n",
        "S = a * b\n",
        "P = 2 *(a + b)\n",
        "print(S, P)"
      ],
      "metadata": {
        "colab": {
          "base_uri": "https://localhost:8080/"
        },
        "id": "N6gKv0Reefwk",
        "outputId": "aa91808c-6f27-4e1f-a60f-a0c882dae56e"
      },
      "execution_count": null,
      "outputs": [
        {
          "output_type": "stream",
          "name": "stdout",
          "text": [
            " 2\n",
            " 5\n",
            "10.0 14.0\n"
          ]
        }
      ]
    },
    {
      "cell_type": "code",
      "source": [
        "x1, x2 = float(input()), float(input())\n",
        "print(abs(x1 - x2))\n"
      ],
      "metadata": {
        "colab": {
          "base_uri": "https://localhost:8080/"
        },
        "id": "wbMKnFp2gucm",
        "outputId": "08bd240e-bc5e-41e2-94c1-22d4c98fd2eb"
      },
      "execution_count": null,
      "outputs": [
        {
          "output_type": "stream",
          "name": "stdout",
          "text": [
            "5\n",
            "9\n",
            "4.0\n"
          ]
        }
      ]
    },
    {
      "cell_type": "code",
      "source": [
        "print(*[abs(n1 - n2) for n1, n2 in [map(float, input().split())]])\n",
        "# * распаковывает список"
      ],
      "metadata": {
        "id": "QhkFhoNFgy2G"
      },
      "execution_count": null,
      "outputs": []
    },
    {
      "cell_type": "code",
      "source": [
        "a = float(input())\n",
        "print(round(a, 2), round(a, 3))"
      ],
      "metadata": {
        "colab": {
          "base_uri": "https://localhost:8080/"
        },
        "id": "JVpSxOcuieH1",
        "outputId": "905aee23-130a-445b-fa62-69f9f142e6a9"
      },
      "execution_count": null,
      "outputs": [
        {
          "output_type": "stream",
          "name": "stdout",
          "text": [
            "1.65578\n",
            "1.66 1.656\n"
          ]
        }
      ]
    },
    {
      "cell_type": "markdown",
      "source": [
        "# Выражение\n",
        "## Петя учится в школе и очень любит математику. Уже несколько занятий они с классом проходят арифметические выражения. На последнем уроке учительница написала на доске три положительных целых числа a, b, c. Задание заключалось в том, чтобы расставить между этими числами знаки операций '+' и '*', а также, возможно, скобки. Значение получившегося выражения должно быть как можно больше. Рассмотрим пример: пусть учительница выписала на доску числа 1, 2 и 3. Вот некоторые варианты расстановки знаков и скобок:\n",
        "\n",
        "1+2*3=7\n",
        "1*(2+3)=5\n",
        "1*2*3=6\n",
        "(1+2)*3=9\n",
        "\n",
        "Обратите внимание на то, что знаки операций можно вставлять только между a и b, а также между b и c, то есть нельзя менять числа местами. Так, в приведенном примере нельзя получить выражение (1+3)*2.\n",
        "\n",
        "Легко убедиться, что максимальное значение, которое можно получить, — это 9.\n",
        "\n",
        "Ваша задача — по заданным a, b и c вывести, какое максимальное значение выражения можно получить.\n",
        "\n",
        "Входные данные\n",
        "\n",
        "Во входных данных записаны три целых числа a, b и c, каждое в отдельной строке (1 ≤ a, b, c ≤ 10).\n",
        "\n",
        "Выходные данные\n",
        "\n",
        "Выведите максимальное значение выражения, которое можно получить."
      ],
      "metadata": {
        "id": "m1aBaz9coN6V"
      }
    },
    {
      "cell_type": "code",
      "source": [
        "a = int(input())\n",
        "b = int(input())\n",
        "c = int(input())\n",
        "s1 = a + b + c\n",
        "s2 = a * b * c\n",
        "s3 = a + b * c\n",
        "s4 = a * b + c\n",
        "s5 = a * (b + c)\n",
        "s6 = (a + b) * c\n",
        "print(max(s1, s2, s3, s4, s5, s6))"
      ],
      "metadata": {
        "id": "iF0x-0PFoWZ7"
      },
      "execution_count": null,
      "outputs": []
    },
    {
      "cell_type": "code",
      "source": [
        "a, b, c = (int(input()) for _ in range(3))\n",
        "print(max(a*b*c, a+b+c, (a+b)*c, a*(b+c)))"
      ],
      "metadata": {
        "colab": {
          "base_uri": "https://localhost:8080/"
        },
        "id": "s8OXCT5VpJ1o",
        "outputId": "d82f8df1-d37f-4e75-fa63-1fa02e06c0ac"
      },
      "execution_count": null,
      "outputs": [
        {
          "output_type": "stream",
          "name": "stdout",
          "text": [
            "3\n",
            "7\n",
            "7\n",
            "147\n"
          ]
        }
      ]
    },
    {
      "cell_type": "markdown",
      "source": [
        "# Варианты использования функцииinput()\n",
        "\n",
        "## a = input() - если необходимо ввести строку и сохранить ее в переменную а\n",
        "## a = int(input()) - если необходимо ввести целое число и сохранить его в переменную а\n",
        "## a = float(input()) - если необходимо ввести вещественное число и сохранить его в переменную а\n",
        "## a,b = map(int,input().split()) - если необходимо ввести два целых числа в одну строку через пробел\n",
        "## a,b,c = map(float,input().split()) - если необходимо ввести три вещественных числа в одну строку через пробел"
      ],
      "metadata": {
        "id": "bo3xZjQbp6hP"
      }
    },
    {
      "cell_type": "code",
      "source": [
        "a, b, c, d = map(int, input().split())\n",
        "total = [a, b, c, d]\n",
        "print(sum(total)/4)"
      ],
      "metadata": {
        "id": "ODg3izSaqGhS"
      },
      "execution_count": null,
      "outputs": []
    },
    {
      "cell_type": "code",
      "source": [
        "a, b, c, d, e = map(int, input().split())# 1 вариант\n",
        "print(max(a, b, c, d, e))\n"
      ],
      "metadata": {
        "id": "jZEwcyzat78G"
      },
      "execution_count": null,
      "outputs": []
    },
    {
      "cell_type": "code",
      "source": [
        "print(max(map(int, input().split()))) # 2 вариант"
      ],
      "metadata": {
        "id": "1jCRtFWXuImN"
      },
      "execution_count": null,
      "outputs": []
    },
    {
      "cell_type": "markdown",
      "source": [
        "# Известно, что на обработку одного квадратного метра панели требуется 1г сульфида. Всего необходимо обработать N прямоугольных панелей размером A на B метров. Вам необходимо подсчитать, сколько всего сульфида необходимо на обработку всех панелей. И не забудьте, что панели требуют обработки с обеих сторон.\n",
        "\n",
        "# На вход программе подаются 3 положительных целых числа N,A,B в одну строку"
      ],
      "metadata": {
        "id": "pqaBa5gcwBwf"
      }
    },
    {
      "cell_type": "code",
      "source": [
        "n, a, b = map(int, input().split())\n",
        "result =  n * a * b*2 # 4 стороны у прямоугольника\n",
        "print(result)"
      ],
      "metadata": {
        "id": "RlcQ451qwJoj"
      },
      "execution_count": null,
      "outputs": []
    },
    {
      "cell_type": "markdown",
      "source": [
        "# Журавлики\n",
        "## Петя, Катя и Сережа делают из бумаги журавликов. Вместе они сделали S журавликов. Сколько журавликов сделал каждый ребенок, если известно, что Петя и Сережа сделали одинаковое количество журавликов, а Катя сделала в два раза больше журавликов, чем Петя и Сережа вместе?\n",
        "\n",
        "## Входные данные\n",
        "Поступает одно натуральное число S – общее количество сделанных журавликов.\n",
        "\n",
        "## Выходные данные\n",
        "В единственную строку нужно вывести три числа, разделенных пробелами – количество журавликов, которые сделал каждый ребенок (Петя, Катя и Сережа)."
      ],
      "metadata": {
        "id": "bYmzZXmxC5LF"
      }
    },
    {
      "cell_type": "code",
      "source": [
        "# x - Петя, x - Сережа, 2*2x = 4x\n",
        "# 2x + 4x = s\n",
        "s = int(input())  # 6, 24, 60 - тестовые данные\n",
        "a = int(s/6) # s // 6\n",
        "print(a, 4*a, a)"
      ],
      "metadata": {
        "colab": {
          "base_uri": "https://localhost:8080/"
        },
        "id": "rUN8mcdnDETP",
        "outputId": "34aeaef1-73f8-42a5-b6df-2cecc5613b52"
      },
      "execution_count": null,
      "outputs": [
        {
          "output_type": "stream",
          "name": "stdout",
          "text": [
            "6\n",
            "1 4 1\n"
          ]
        }
      ]
    },
    {
      "cell_type": "code",
      "source": [
        "x, y, z = map(int, input().split())\n",
        "# x - колличество карандашей, y - колличество ручек, z - колличество фломастеров\n",
        "# price_карандаш = 3, price_ручки = 3 + 2 = 5, price_фломастера = 5 + 7 = 12\n",
        "print(3 * x + 5 * y + 12 * z) # стоимость покупки\n",
        "# тестовые данные: 1 1 1, 23 8 76"
      ],
      "metadata": {
        "colab": {
          "base_uri": "https://localhost:8080/"
        },
        "id": "EixZbhqRIbrz",
        "outputId": "668ab638-5527-4d54-eb45-16234ffde602"
      },
      "execution_count": null,
      "outputs": [
        {
          "output_type": "stream",
          "name": "stdout",
          "text": [
            "1 1 1\n",
            "20\n"
          ]
        }
      ]
    },
    {
      "cell_type": "code",
      "source": [
        "a, b = map(int, input().split())\n",
        "total = (a + b) - 1 # тк одна общая\n",
        "print(str(total - a), str(total - b))\n",
        "# 6 3; 2 4; 3 1"
      ],
      "metadata": {
        "colab": {
          "base_uri": "https://localhost:8080/"
        },
        "id": "3WBRhCdwM9Kg",
        "outputId": "ed4e235e-3354-47bb-c159-25727403b536"
      },
      "execution_count": null,
      "outputs": [
        {
          "output_type": "stream",
          "name": "stdout",
          "text": [
            "6 3\n",
            "2 5\n"
          ]
        }
      ]
    },
    {
      "cell_type": "code",
      "source": [
        "# Сумму считать не надо. Каждый недострелял ровно столько, сколько подстрелил\n",
        "# другой минус одна банка (которую подстрелили оба).\n",
        "x, y = map(int, input().split())\n",
        "print(y-1, x-1)"
      ],
      "metadata": {
        "id": "ompQ5A3YNmc_"
      },
      "execution_count": null,
      "outputs": []
    },
    {
      "cell_type": "code",
      "source": [
        "print('Гвидо', 'Ван', 'Россум', sep='*', end='-')\n",
        "print('Основатель', 'Питона', sep='_', end='!')"
      ],
      "metadata": {
        "colab": {
          "base_uri": "https://localhost:8080/"
        },
        "id": "sdi64f85Lhh3",
        "outputId": "17a35f69-5986-4567-826a-a670836a11c4"
      },
      "execution_count": null,
      "outputs": [
        {
          "output_type": "stream",
          "name": "stdout",
          "text": [
            "Гвидо*Ван*Россум-Основатель_Питона!"
          ]
        }
      ]
    },
    {
      "cell_type": "code",
      "source": [
        "# Дано целое положительное число, ваша задача вывести разряд сотен этого числа\n",
        "n = int(input())\n",
        "print(n // 100 % 10)\n"
      ],
      "metadata": {
        "id": "Ja2oGUyCRyWP"
      },
      "execution_count": null,
      "outputs": []
    },
    {
      "cell_type": "code",
      "source": [
        "# Дано целое положительное трехзначное число, ваша задача найти сумму\n",
        "# разрядов этого числа\n",
        "n = int(input())\n",
        "last_digit = n % 10\n",
        "second_digit = n // 10 % 10\n",
        "first_digit = n // 100\n",
        "print(last_digit + second_digit + first_digit)\n"
      ],
      "metadata": {
        "colab": {
          "base_uri": "https://localhost:8080/"
        },
        "id": "0291oY1TT2IV",
        "outputId": "3fa802bf-99fa-4ff6-e433-f5dddab95ab9"
      },
      "execution_count": null,
      "outputs": [
        {
          "output_type": "stream",
          "name": "stdout",
          "text": [
            "456\n",
            "15\n"
          ]
        }
      ]
    },
    {
      "cell_type": "code",
      "source": [
        "n = int(input())\n",
        "one = n//100\n",
        "two =  n%100//10\n",
        "three = n%10\n",
        "print(one + two + three)"
      ],
      "metadata": {
        "colab": {
          "base_uri": "https://localhost:8080/"
        },
        "id": "OuGb4o-TUNKc",
        "outputId": "1bb98d77-1410-47a4-f6e3-4b24c958120a"
      },
      "execution_count": null,
      "outputs": [
        {
          "output_type": "stream",
          "name": "stdout",
          "text": [
            "234\n",
            "9\n"
          ]
        }
      ]
    },
    {
      "cell_type": "markdown",
      "source": [
        "# Выиграть в лотерею\n",
        "## У Олега в банке есть n евро. Он хочет снять всю сумму наличными. Номиналы еврокупюр равны 1, 5, 10, 20, 100. Какое минимальное число купюр должен получить Олег после того, как снимет все деньги? На вход программе поступает одно положительные целое число n."
      ],
      "metadata": {
        "id": "cI9kSzuWfj6E"
      }
    },
    {
      "cell_type": "code",
      "source": [
        "n = int(input())\n",
        "# используем жадный алгоритм\n",
        "count_100 = n // 100\n",
        "n = n % 100\n",
        "count_20 = n // 20\n",
        "n = n % 20\n",
        "count_10 = n // 10\n",
        "n = n % 10\n",
        "count_5 = n // 5\n",
        "n = n % 5\n",
        "count_1 = n // 1\n",
        "result = count_100 + count_20 + count_10 + count_5 + count_1\n",
        "print(result)\n"
      ],
      "metadata": {
        "colab": {
          "base_uri": "https://localhost:8080/"
        },
        "id": "F2JBikyrfyRO",
        "outputId": "b38858c0-d212-4f94-e3a4-ecf506a3de2a"
      },
      "execution_count": null,
      "outputs": [
        {
          "output_type": "stream",
          "name": "stdout",
          "text": [
            "4677\n",
            "53\n"
          ]
        }
      ]
    },
    {
      "cell_type": "code",
      "source": [
        "cash = int(input())\n",
        "sum = 0\n",
        "for i in [100, 20, 10, 5, 1]:\n",
        "    sum += cash // i\n",
        "    cash = cash % i\n",
        "print(sum)\n"
      ],
      "metadata": {
        "colab": {
          "base_uri": "https://localhost:8080/"
        },
        "id": "zN3ZAaV6gVBH",
        "outputId": "99ac758a-3a69-4111-ae47-1d1ecc402e82"
      },
      "execution_count": null,
      "outputs": [
        {
          "output_type": "stream",
          "name": "stdout",
          "text": [
            "456\n",
            "9\n"
          ]
        }
      ]
    },
    {
      "cell_type": "markdown",
      "source": [
        "#  Электронные часы - 1\n",
        "## Дано число n. С начала суток прошло n минут. Определите, сколько часов и минут будут показывать электронные часы в этот момент.\n",
        "\n",
        "## Программа должна вывести два числа: количество часов (от 0 до 23) и количество минут (от 0 до 59).\n",
        "\n",
        "## Учтите, что число n может быть больше, чем количество минут в сутках."
      ],
      "metadata": {
        "id": "U9MhlIYyRKXM"
      }
    },
    {
      "cell_type": "code",
      "source": [
        "n = int(input())\n",
        "n = n % 1440 # отбрасываем полное количество суток, 24 часа*60 мин\n",
        "print(n//60, n % 60) # 2 % 60 = 2\n",
        "# тестовые : 1450, 137"
      ],
      "metadata": {
        "colab": {
          "base_uri": "https://localhost:8080/"
        },
        "id": "bF1gYlYDRYkU",
        "outputId": "40dcbbc0-a185-4cd3-cc10-bb22ead081d6"
      },
      "execution_count": null,
      "outputs": [
        {
          "output_type": "stream",
          "name": "stdout",
          "text": [
            "1450\n",
            "0 10\n"
          ]
        }
      ]
    },
    {
      "cell_type": "markdown",
      "source": [
        "# Следующее четное\n",
        "## Дано целое число n. Выведите следующее за ним четное число.\n",
        "\n",
        "Задачу необходимо решить целочисленными операциями без использования условных операторов и\\или циклов."
      ],
      "metadata": {
        "id": "RcJm1Y0RXXDa"
      }
    },
    {
      "cell_type": "code",
      "source": [
        "n = int(input())\n",
        "next = n + 2 - n % 2\n",
        "print(next)\n"
      ],
      "metadata": {
        "colab": {
          "base_uri": "https://localhost:8080/"
        },
        "id": "opIXgnLbYDQI",
        "outputId": "2c0f9dec-73f2-4a80-d1ad-f658702e3a8d"
      },
      "execution_count": null,
      "outputs": [
        {
          "output_type": "stream",
          "name": "stdout",
          "text": [
            "3456\n",
            "3458\n"
          ]
        }
      ]
    },
    {
      "cell_type": "markdown",
      "source": [
        "# Электронные часы - 2\n",
        "## Электронные часы показывают время в формате h:mm:ss, то есть сначала записывается количество часов в диапазоне от 0 до 23, потом обязательно двузначное количество минут, затем обязательно двузначное количество секунд. Количество минут и секунд при необходимости дополняются до двузначного числа нулями.\n",
        "\n",
        "## Программа получает на вход число n - количество секунд, которое прошло с начала суток.\n",
        "\n",
        "## Выведите показания часов, соблюдая формат."
      ],
      "metadata": {
        "id": "YGsEdbubYx31"
      }
    },
    {
      "cell_type": "code",
      "source": [
        "n = int(input()) # количество секунд\n",
        "hour = (n // 3600) % 24 # убираем полное количество суток\n",
        "n = n % 3600\n",
        "minute = n // 60\n",
        "n = n % 60\n",
        "sec = n\n",
        "print(hour, ':', minute // 10, minute % 10, ':', sec // 10, sec % 10,sep='')\n"
      ],
      "metadata": {
        "id": "JUZ2M3JvY-4B",
        "colab": {
          "base_uri": "https://localhost:8080/"
        },
        "outputId": "e4f18c38-950f-4a19-f475-06d534f6a507"
      },
      "execution_count": 1,
      "outputs": [
        {
          "output_type": "stream",
          "name": "stdout",
          "text": [
            "2456\n",
            "0:40:56\n"
          ]
        }
      ]
    }
  ]
}
