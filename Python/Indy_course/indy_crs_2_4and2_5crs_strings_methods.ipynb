{
  "nbformat": 4,
  "nbformat_minor": 0,
  "metadata": {
    "colab": {
      "provenance": [],
      "authorship_tag": "ABX9TyMraf/Y3ueLGEo79wSdr992",
      "include_colab_link": true
    },
    "kernelspec": {
      "name": "python3",
      "display_name": "Python 3"
    },
    "language_info": {
      "name": "python"
    }
  },
  "cells": [
    {
      "cell_type": "markdown",
      "metadata": {
        "id": "view-in-github",
        "colab_type": "text"
      },
      "source": [
        "<a href=\"https://colab.research.google.com/github/ProNatalya/python/blob/main/indy_crs_2_4and2_5crs_strings_methods.ipynb\" target=\"_parent\"><img src=\"https://colab.research.google.com/assets/colab-badge.svg\" alt=\"Open In Colab\"/></a>"
      ]
    },
    {
      "cell_type": "markdown",
      "source": [
        "## **Метод split()**"
      ],
      "metadata": {
        "id": "6ZvEM49ougU_"
      }
    },
    {
      "cell_type": "markdown",
      "source": [
        " Метод .split выполняет разбиение исходной строки S на подстроки по разделителю sep и возвращает их в виде списка. Со списками мы познакомимся с вами позднее. По умолчанию разделитель sep равен пробелу."
      ],
      "metadata": {
        "id": "qMdO7Jbmu_yG"
      }
    },
    {
      "cell_type": "code",
      "execution_count": null,
      "metadata": {
        "id": "p3ruzgofsmzL"
      },
      "outputs": [],
      "source": [
        "# S.split(sep=None, maxsplit=-1)"
      ]
    },
    {
      "cell_type": "code",
      "source": [
        "w='ivanov ivan ivanovich'\n",
        "print(w.split())\n",
        "print(len(w.split()))\n",
        "\n",
        "print('a b C d e'.split())"
      ],
      "metadata": {
        "colab": {
          "base_uri": "https://localhost:8080/"
        },
        "id": "_r110ajGuyfm",
        "outputId": "eb6af5fe-399a-40a2-becf-a41c3cfcb61a"
      },
      "execution_count": null,
      "outputs": [
        {
          "output_type": "stream",
          "name": "stdout",
          "text": [
            "['ivanov', 'ivan', 'ivanovich']\n",
            "3\n",
            "['a', 'b', 'C', 'd', 'e']\n"
          ]
        }
      ]
    },
    {
      "cell_type": "markdown",
      "source": [
        "Вы можете задать параметру другое значение. Когда параметр sep будет задан, то следующие друг за другом разделители не воспринимаются как один и считаются разделителями пустых строк:"
      ],
      "metadata": {
        "id": "iEbZqYwOvMpA"
      }
    },
    {
      "cell_type": "code",
      "source": [
        "print('1, 2, 3, 4, 5'.split(', '))\n",
        "print('a->b->C->->d->e'.split('->'))\n",
        "print('1      4      5'.split())\n",
        "print('   a  b   c   '.split())\n",
        "print('    '.split())\n",
        "print('wwwww'.split('w'))"
      ],
      "metadata": {
        "colab": {
          "base_uri": "https://localhost:8080/"
        },
        "id": "j93CkVTnvPVv",
        "outputId": "06ca1df8-be78-415a-c8b8-c6469bedde40"
      },
      "execution_count": null,
      "outputs": [
        {
          "output_type": "stream",
          "name": "stdout",
          "text": [
            "['1', '2', '3', '4', '5']\n",
            "['a', 'b', 'C', '', 'd', 'e']\n",
            "['1', '4', '5']\n",
            "['a', 'b', 'c']\n",
            "[]\n",
            "['', '', '', '', '', '']\n"
          ]
        }
      ]
    },
    {
      "cell_type": "code",
      "source": [
        "# Также можно передать вторым параметром maxsplit какое максимальное\n",
        "# количество разбиений вы хотите выполнить\n",
        "print('1, 2, 3, 4, 5'.split(', ', maxsplit=2))\n",
        "print('a b C d e'.split(maxsplit=1))\n",
        "print('a b C d e'.split(maxsplit=2))\n",
        "print('a b C d e'.split(maxsplit=3))"
      ],
      "metadata": {
        "colab": {
          "base_uri": "https://localhost:8080/"
        },
        "id": "-Zxm81Dww4dO",
        "outputId": "96dfccd8-c5de-412b-931f-b1b24dc1f450"
      },
      "execution_count": null,
      "outputs": [
        {
          "output_type": "stream",
          "name": "stdout",
          "text": [
            "['1', '2', '3, 4, 5']\n",
            "['a', 'b C d e']\n",
            "['a', 'b', 'C d e']\n",
            "['a', 'b', 'C', 'd e']\n"
          ]
        }
      ]
    },
    {
      "cell_type": "markdown",
      "source": [
        "Метод .split используется очень часто, его вы обязаны знать. При помощи него можно узнать сколько отдельных слов было в исходной строке. Для этого достаточно посчитать длину списка после разбиения."
      ],
      "metadata": {
        "id": "xT2L71nBxlZd"
      }
    },
    {
      "cell_type": "code",
      "source": [
        "S = 'Скоро Новый год'\n",
        "print(len(S.split()))\n"
      ],
      "metadata": {
        "colab": {
          "base_uri": "https://localhost:8080/"
        },
        "id": "pDRZSX10xnje",
        "outputId": "292c165f-6f82-4a19-ae2e-c7e1eb03f43d"
      },
      "execution_count": null,
      "outputs": [
        {
          "output_type": "stream",
          "name": "stdout",
          "text": [
            "3\n"
          ]
        }
      ]
    },
    {
      "cell_type": "markdown",
      "source": [
        "# Task1"
      ],
      "metadata": {
        "id": "oC6YflpAx-TW"
      }
    },
    {
      "cell_type": "markdown",
      "source": [
        "### Sample Input 1:\n",
        "Hello my friend"
      ],
      "metadata": {
        "id": "xEFX5OtHyKcV"
      }
    },
    {
      "cell_type": "markdown",
      "source": [
        "### Sample Output 1:\n",
        "3"
      ],
      "metadata": {
        "id": "Ij5zU-8TyTy9"
      }
    },
    {
      "cell_type": "markdown",
      "source": [
        "### Sample Input 2:\n",
        "Золотистый ретривер"
      ],
      "metadata": {
        "id": "w63fzFqsygpd"
      }
    },
    {
      "cell_type": "markdown",
      "source": [
        "### Sample Output 2:\n",
        "2"
      ],
      "metadata": {
        "id": "LLPzXN3cyl-d"
      }
    },
    {
      "cell_type": "markdown",
      "source": [
        "### Sample Input 3:\n",
        "aa bbb ccc dddd"
      ],
      "metadata": {
        "id": "HsuoKwfTys4O"
      }
    },
    {
      "cell_type": "markdown",
      "source": [
        "### Sample Output 3:\n",
        "4"
      ],
      "metadata": {
        "id": "OITp2ix4yy7l"
      }
    },
    {
      "cell_type": "code",
      "source": [
        "w = input()\n",
        "print(len(w.split()))\n",
        "# Золотистый ретривер"
      ],
      "metadata": {
        "colab": {
          "base_uri": "https://localhost:8080/"
        },
        "id": "Lmu12nz_y2UV",
        "outputId": "21eb03ac-4414-4309-bc1b-c38426090939"
      },
      "execution_count": null,
      "outputs": [
        {
          "output_type": "stream",
          "name": "stdout",
          "text": [
            "Золотистый ретривер\n",
            "2\n"
          ]
        }
      ]
    },
    {
      "cell_type": "code",
      "source": [
        "print(len(input().split()))\n",
        "# Hello my friend"
      ],
      "metadata": {
        "colab": {
          "base_uri": "https://localhost:8080/"
        },
        "id": "nKCXxtdHyDCt",
        "outputId": "8663e902-b9be-4fc3-f274-3236be2d8d60"
      },
      "execution_count": null,
      "outputs": [
        {
          "output_type": "stream",
          "name": "stdout",
          "text": [
            "Hello my friend\n",
            "3\n"
          ]
        }
      ]
    },
    {
      "cell_type": "markdown",
      "source": [
        "## **Метод join()**"
      ],
      "metadata": {
        "id": "VHZ9DU3gz7Xc"
      }
    },
    {
      "cell_type": "markdown",
      "source": [
        "Метод .join является противоположностью метода .split. При помощи него вы можете разбитую строку вновь собрать в одно целое."
      ],
      "metadata": {
        "id": "YFJxPii70GPE"
      }
    },
    {
      "cell_type": "code",
      "source": [
        "# S.join(iterable)"
      ],
      "metadata": {
        "id": "6BJba9UU0Me8"
      },
      "execution_count": null,
      "outputs": []
    },
    {
      "cell_type": "markdown",
      "source": [
        "Метод .join заставляет нас встретиться с темой, которую мы еще не проходили: итерабельные(iterable) объекты. Не волнуйтесь, мы ее в дальнейшем конечно же разберем. И советую вернуться к этому уроку. Сейчас для упрощения лишь скажу, что к iterable относятся строки и списки, и мы их можем передать в данный метод."
      ],
      "metadata": {
        "id": "mmLIZv4k0Sh7"
      }
    },
    {
      "cell_type": "markdown",
      "source": [
        "Метод .join отвечает за объединение списка строк с помощью определенного указателя. Часто это используется при конвертации списка в строку. Вначале вы пишете строку-соединитель, затем ставите точку и вызываете метод  .join. В скобках указываете переменную, в которой у вас храниться список или другая строка."
      ],
      "metadata": {
        "id": "vbjTO7FZ0bPc"
      }
    },
    {
      "cell_type": "code",
      "source": [
        "w = 'ivanov ivan ivanovich'\n",
        "s = w.split()\n",
        "print(s)\n",
        "print('!'.join(s))\n",
        "\n",
        "y = 'hello world'\n",
        "print('&'.join(y))\n",
        "\n",
        "words = ['London', 'is', 'the', 'capital', 'of', 'GB']\n",
        "print(','.join(words))"
      ],
      "metadata": {
        "colab": {
          "base_uri": "https://localhost:8080/"
        },
        "id": "QyHB6TTK0fe8",
        "outputId": "81fac980-8198-482f-a398-e02d6c11b383"
      },
      "execution_count": null,
      "outputs": [
        {
          "output_type": "stream",
          "name": "stdout",
          "text": [
            "['ivanov', 'ivan', 'ivanovich']\n",
            "ivanov!ivan!ivanovich\n",
            "h&e&l&l&o& &w&o&r&l&d\n",
            "London,is,the,capital,of,GB\n"
          ]
        }
      ]
    },
    {
      "cell_type": "markdown",
      "source": [
        "## Task1"
      ],
      "metadata": {
        "id": "RiYBknqP03vk"
      }
    },
    {
      "cell_type": "markdown",
      "source": [
        "Ниже перед вами представлен список list_strings, состоящий из строк. При помощи метода .join и соединителя - получите строку из этих элементов и выведите ее на экран."
      ],
      "metadata": {
        "id": "D9lxG7Jx08bc"
      }
    },
    {
      "cell_type": "markdown",
      "source": [
        "## Sample Input:"
      ],
      "metadata": {
        "id": "9cXx2nie0_nM"
      }
    },
    {
      "cell_type": "markdown",
      "source": [
        "## Sample Output:\n",
        "Follow-the-Cops-Back-Home"
      ],
      "metadata": {
        "id": "LlCMmVbZ1Ehs"
      }
    },
    {
      "cell_type": "code",
      "source": [
        "list_strings = ['Follow', 'the', 'Cops', 'Back', 'Home']\n",
        "print('-'.join(list_strings))"
      ],
      "metadata": {
        "colab": {
          "base_uri": "https://localhost:8080/"
        },
        "id": "ZAPwfXr91Qzc",
        "outputId": "7e6afe40-be98-4fb5-92d6-698866c8e863"
      },
      "execution_count": null,
      "outputs": [
        {
          "output_type": "stream",
          "name": "stdout",
          "text": [
            "Follow-the-Cops-Back-Home\n"
          ]
        }
      ]
    },
    {
      "cell_type": "markdown",
      "source": [
        "# **Методы строк_2**"
      ],
      "metadata": {
        "id": "OW2kOcIp2Ml7"
      }
    },
    {
      "cell_type": "markdown",
      "source": [
        "## Продолжаем знакомиться с методами строк и вот еще парочка методов: .startswith и .endswith"
      ],
      "metadata": {
        "id": "lynVeO7v2Trs"
      }
    },
    {
      "cell_type": "markdown",
      "source": [
        "## Не забывайте, что строка - неизменяемый объект. Поэтому любой вызов метода строки не изменяет первоначальный объект."
      ],
      "metadata": {
        "id": "aSomEs1M2jnz"
      }
    },
    {
      "cell_type": "markdown",
      "source": [
        "## **Метод startswith**"
      ],
      "metadata": {
        "id": "1cJkmOmv2oLC"
      }
    },
    {
      "cell_type": "code",
      "source": [
        "# S.startswith(prefix[, start[, end]])"
      ],
      "metadata": {
        "id": "vEj3seRe2rdM"
      },
      "execution_count": null,
      "outputs": []
    },
    {
      "cell_type": "markdown",
      "source": [
        "Данный метод возвращает True если строка S начинается с последовательности символов prefix (префикса) и False в противном случае.  При передаче параметра start проверка начнется именно с этой позиции. Если передать значение  end, проверка закончится в этой позиции."
      ],
      "metadata": {
        "id": "2nl2hd672w1z"
      }
    },
    {
      "cell_type": "code",
      "source": [
        "s = 'Мила Кунис'\n",
        "print(s.startswith('Мила'))\n",
        "print(s.startswith('М'))\n",
        "print(s.startswith('Бред'))\n",
        "print('-----')\n",
        "print(s.startswith('Мила', 1))\n",
        "print(s.startswith('ила', 1))\n",
        "print('-----')\n",
        "print(s.startswith('ил', 1, 2))\n",
        "print(s.startswith('ил', 1, 3))"
      ],
      "metadata": {
        "colab": {
          "base_uri": "https://localhost:8080/"
        },
        "id": "3SiUhJ0v20YT",
        "outputId": "3701fe19-6e6d-49a7-ba4f-4e1dea22a859"
      },
      "execution_count": null,
      "outputs": [
        {
          "output_type": "stream",
          "name": "stdout",
          "text": [
            "True\n",
            "True\n",
            "False\n",
            "-----\n",
            "False\n",
            "True\n",
            "-----\n",
            "False\n",
            "True\n"
          ]
        }
      ]
    },
    {
      "cell_type": "markdown",
      "source": [
        "## **Метод endswith**"
      ],
      "metadata": {
        "id": "byxt7ItO2_3r"
      }
    },
    {
      "cell_type": "code",
      "source": [
        "# S.endswith(prefix[, start[, end]])"
      ],
      "metadata": {
        "id": "IoBwgazj3EAr"
      },
      "execution_count": null,
      "outputs": []
    },
    {
      "cell_type": "markdown",
      "source": [
        "Данный метод возвращает True если строка S заканчивается последовательностью символов prefix (префикса) и False в противном случае.  При передаче параметра start проверка начнется именно с этой позиции. Если передать значение  end, проверка закончится в этой позиции."
      ],
      "metadata": {
        "id": "emZSzrgF3G2r"
      }
    },
    {
      "cell_type": "code",
      "source": [
        "s = 'Мила Кунис'\n",
        "\n",
        "print(s.endswith('Кунис'))\n",
        "print(s.endswith('с'))\n",
        "print(s.endswith('Бред'))\n",
        "print('-----')\n",
        "print(s.endswith('нис', 10))\n",
        "print(s.endswith('нис', 7))\n",
        "print(s.endswith('нис', -3))\n",
        "print('-----')\n",
        "print(s.endswith('ис', 8, 9))\n",
        "print(s.endswith('ис', 8, 10))"
      ],
      "metadata": {
        "colab": {
          "base_uri": "https://localhost:8080/"
        },
        "id": "7en7SbPK3Spc",
        "outputId": "277f5a89-025b-4b0b-df5b-b6424805beed"
      },
      "execution_count": null,
      "outputs": [
        {
          "output_type": "stream",
          "name": "stdout",
          "text": [
            "True\n",
            "True\n",
            "False\n",
            "-----\n",
            "False\n",
            "True\n",
            "True\n",
            "-----\n",
            "False\n",
            "True\n"
          ]
        }
      ]
    },
    {
      "cell_type": "markdown",
      "source": [
        "## Task_2"
      ],
      "metadata": {
        "id": "dDStQQdd4ZTC"
      }
    },
    {
      "cell_type": "markdown",
      "source": [
        "Напишите программу, которая проверяет начинается ли введенная фраза строкой mam вне зависимости от регистра букв\n",
        "\n",
        "В качестве ответа необходимо вывести True, если введенная строка начинается с mam, во всех остальных случаях нужно вывести False."
      ],
      "metadata": {
        "id": "h7d9Z3wq4os6"
      }
    },
    {
      "cell_type": "markdown",
      "source": [
        "## Sample Input 1:\n",
        "MaMba"
      ],
      "metadata": {
        "id": "xC7-xgtB4ugi"
      }
    },
    {
      "cell_type": "markdown",
      "source": [
        "## Sample Output 1:\n",
        "True"
      ],
      "metadata": {
        "id": "5XEER4ko4zI0"
      }
    },
    {
      "cell_type": "markdown",
      "source": [
        "## Sample Input 2:\n",
        "Marka"
      ],
      "metadata": {
        "id": "Mma2815a46R6"
      }
    },
    {
      "cell_type": "markdown",
      "source": [
        "## Sample Output 2:\n",
        "False"
      ],
      "metadata": {
        "id": "CMDXb2N85Kg8"
      }
    },
    {
      "cell_type": "markdown",
      "source": [
        "## Sample Input 3:\n",
        "mAma"
      ],
      "metadata": {
        "id": "klNKkGKX5tVC"
      }
    },
    {
      "cell_type": "markdown",
      "source": [
        "## Sample Output 3:\n",
        "True"
      ],
      "metadata": {
        "id": "0hD46Bax55Mi"
      }
    },
    {
      "cell_type": "code",
      "source": [
        "m = input().lower()\n",
        "print(m.startswith('mam'))"
      ],
      "metadata": {
        "colab": {
          "base_uri": "https://localhost:8080/"
        },
        "id": "yoKIiOxM6A1S",
        "outputId": "9bf6e3f8-94b3-43f2-ddb4-4940e6a74855"
      },
      "execution_count": null,
      "outputs": [
        {
          "output_type": "stream",
          "name": "stdout",
          "text": [
            "mAma\n",
            "True\n"
          ]
        }
      ]
    },
    {
      "cell_type": "code",
      "source": [
        "print(input().lower().startswith('mam'))"
      ],
      "metadata": {
        "id": "nbMsUdDK6J1S"
      },
      "execution_count": null,
      "outputs": []
    },
    {
      "cell_type": "markdown",
      "source": [
        "## Task_3"
      ],
      "metadata": {
        "id": "cpSDMl-G6Zpi"
      }
    },
    {
      "cell_type": "markdown",
      "source": [
        "Программа получает на вход две строки, назовем их s и postfix. Напишите программу, которая проверяет заканчивается ли введенная фраза s строкой postfix.\n",
        "\n",
        "Входные данные:\n",
        "В отдельных строках вводятся два значения: сперва строка s, затем строка postfix\n",
        "\n",
        "Выходные данные:\n",
        "Нужно вывести True, если введенная строка s заканчивается строкой postfix , во всех остальных случаях нужно вывести False. Регистр букв нужно учитывать."
      ],
      "metadata": {
        "id": "nKTg2vFL6cIL"
      }
    },
    {
      "cell_type": "markdown",
      "source": [
        "## Sample Input 1:\n",
        "привет как дела\n",
        "\n",
        "дела\n"
      ],
      "metadata": {
        "id": "I77AfSoU6tbZ"
      }
    },
    {
      "cell_type": "markdown",
      "source": [
        "## Sample Output 1:\n",
        "True"
      ],
      "metadata": {
        "id": "MWnMJKhT646p"
      }
    },
    {
      "cell_type": "markdown",
      "source": [
        "## Sample Input 2:\n",
        "Привет Как Дела\n",
        "\n",
        "дела"
      ],
      "metadata": {
        "id": "ZalS805a7PRB"
      }
    },
    {
      "cell_type": "markdown",
      "source": [
        "## Sample Output 2:\n",
        "False"
      ],
      "metadata": {
        "id": "mVVW0IPK7ZrS"
      }
    },
    {
      "cell_type": "markdown",
      "source": [
        "## Sample Input 3:\n",
        "Egs and Bakery\n",
        "\n",
        "kery"
      ],
      "metadata": {
        "id": "Xxuuyd607dSR"
      }
    },
    {
      "cell_type": "markdown",
      "source": [
        "## Sample Output 3:\n",
        "True"
      ],
      "metadata": {
        "id": "Hw1MVJD47yCK"
      }
    },
    {
      "cell_type": "code",
      "source": [
        "m = input()\n",
        "print(m.endswith(input()))\n"
      ],
      "metadata": {
        "colab": {
          "base_uri": "https://localhost:8080/"
        },
        "id": "UajCb4889K1w",
        "outputId": "d687aff5-e6c9-406d-c6f4-fce8206b6a30"
      },
      "execution_count": null,
      "outputs": [
        {
          "output_type": "stream",
          "name": "stdout",
          "text": [
            "Egs and Bakery\n",
            "kery\n",
            "True\n"
          ]
        }
      ]
    },
    {
      "cell_type": "code",
      "source": [
        "s, postfix = input(), input()\n",
        "print(s.endswith(postfix))"
      ],
      "metadata": {
        "colab": {
          "base_uri": "https://localhost:8080/"
        },
        "id": "vTGnhcs49ZEh",
        "outputId": "35e95ded-4305-426f-e424-93015e90ed6b"
      },
      "execution_count": null,
      "outputs": [
        {
          "output_type": "stream",
          "name": "stdout",
          "text": [
            "Привет Как Дела\n",
            "ltkf\n",
            "False\n"
          ]
        }
      ]
    },
    {
      "cell_type": "markdown",
      "source": [
        "## Task_4"
      ],
      "metadata": {
        "id": "1V4Eklhk9x4Y"
      }
    },
    {
      "cell_type": "markdown",
      "source": [
        "Напишите программу, которая проверяет, чтобы введенная фраза s одновременно начиналась со строки prefix и заканчивалась строкой postfix\n",
        "\n",
        "Входные данные:\n",
        "В отдельных строках вводится три значения: сперва строка s, затем строка prefix и потом postfix\n",
        "\n",
        "Выходные данные:\n",
        "Нужно вывести True, если введенная строка s одновременно начинается со строки prefix и заканчивается строкой postfix . Во всех остальных случаях нужно вывести False. Регистр букв нужно учитывать."
      ],
      "metadata": {
        "id": "lD2mv3jJ92yI"
      }
    },
    {
      "cell_type": "markdown",
      "source": [
        "## Sample Input 1:\n",
        "translate russian to english\n",
        "\n",
        "translate\n",
        "\n",
        "english"
      ],
      "metadata": {
        "id": "SI2UqUCJ9-u4"
      }
    },
    {
      "cell_type": "markdown",
      "source": [
        "## Sample Output 1:\n",
        "True"
      ],
      "metadata": {
        "id": "5od7zld6-Lqo"
      }
    },
    {
      "cell_type": "markdown",
      "source": [
        "## Sample Input 2:\n",
        "translate russian to english\n",
        "\n",
        "translate\n",
        "\n",
        "SH"
      ],
      "metadata": {
        "id": "WuOFl-p_-Sbg"
      }
    },
    {
      "cell_type": "markdown",
      "source": [
        "## Sample Output 2:\n",
        "False"
      ],
      "metadata": {
        "id": "VzNMzU2w-aIY"
      }
    },
    {
      "cell_type": "markdown",
      "source": [
        "## Sample Input 3:\n",
        "TRanSlate russian to english\n",
        "\n",
        "TRa\n",
        "\n",
        "lish"
      ],
      "metadata": {
        "id": "cAf3eOoK-eyI"
      }
    },
    {
      "cell_type": "markdown",
      "source": [
        "## Sample Output 3:\n",
        "True"
      ],
      "metadata": {
        "id": "kiN5oA9F-kxo"
      }
    },
    {
      "cell_type": "code",
      "source": [
        "s, prefix, postfix = input(), input(), input()\n",
        "if s.startswith(prefix) and s.endswith(postfix):\n",
        "    print(True)\n",
        "else:\n",
        "    print(False)\n"
      ],
      "metadata": {
        "colab": {
          "base_uri": "https://localhost:8080/"
        },
        "id": "maj4nDRQ_Xh3",
        "outputId": "45990f9c-d10f-42e7-e6fe-75e38f8c006a"
      },
      "execution_count": null,
      "outputs": [
        {
          "output_type": "stream",
          "name": "stdout",
          "text": [
            "TRanSlate russian to english\n",
            "TRa\n",
            "lish\n",
            "True\n"
          ]
        }
      ]
    },
    {
      "cell_type": "code",
      "source": [
        "s = input()\n",
        "print(s.startswith(input()) + s.endswith(input()) == 2 )"
      ],
      "metadata": {
        "colab": {
          "base_uri": "https://localhost:8080/"
        },
        "id": "064Y08lIFo6d",
        "outputId": "885f5f5c-fd08-4969-ba3c-1399c4eff556"
      },
      "execution_count": null,
      "outputs": [
        {
          "output_type": "stream",
          "name": "stdout",
          "text": [
            "TRanSlate russian to english\n",
            "TRa\n",
            "lish\n",
            "True\n"
          ]
        }
      ]
    },
    {
      "cell_type": "code",
      "source": [
        "s = input()\n",
        "print(s.startswith(input()) and s.endswith(input()))"
      ],
      "metadata": {
        "id": "W-FPsPRkF-R1"
      },
      "execution_count": null,
      "outputs": []
    },
    {
      "cell_type": "code",
      "source": [
        "s, prefix, postfix = (input() for _ in range(3))\n",
        "print(s.startswith(prefix) and s.endswith(postfix))"
      ],
      "metadata": {
        "id": "vU7zkCZ1GD1c"
      },
      "execution_count": null,
      "outputs": []
    },
    {
      "cell_type": "code",
      "source": [
        "s, prefix, postfix = input(), input(), input()\n",
        "print(s.startswith(prefix) == s.endswith(postfix))\n"
      ],
      "metadata": {
        "colab": {
          "base_uri": "https://localhost:8080/"
        },
        "id": "BpTn1id2GNS1",
        "outputId": "ff5e9aed-b152-4337-9e0a-a5d94a39f6c4"
      },
      "execution_count": null,
      "outputs": [
        {
          "output_type": "stream",
          "name": "stdout",
          "text": [
            "TRanSlate russian to english\n",
            "TRa\n",
            "lish\n",
            "True\n"
          ]
        }
      ]
    },
    {
      "cell_type": "markdown",
      "source": [
        "# **Группа методов is**"
      ],
      "metadata": {
        "id": "oeoa1KgKLZKx"
      }
    },
    {
      "cell_type": "markdown",
      "source": [
        "У строк есть целая группа методов, которая начинается на строку is. Все эти методы объединяет одно: они выполняют проверку и результат будет либо  True, либо False."
      ],
      "metadata": {
        "id": "U4MmZKBoLidh"
      }
    },
    {
      "cell_type": "markdown",
      "source": [
        "## **Метод islower**"
      ],
      "metadata": {
        "id": "exsy0aPfLpb5"
      }
    },
    {
      "cell_type": "code",
      "source": [
        "# S.islower()"
      ],
      "metadata": {
        "id": "v-r-J1aZLuBR"
      },
      "execution_count": null,
      "outputs": []
    },
    {
      "cell_type": "code",
      "source": [
        "print(''.islower())\n",
        "print('abcdefg', 'abcdefg'.islower())\n",
        "print('abcDefG', 'abcDefG'.islower())\n",
        "print('qwerty!', 'qwerty!'.islower())\n",
        "print('12345', '12345'.islower())\n",
        "print('12345abc', '12345abc'.islower())\n",
        "print('12345aBc', '12345aBc'.islower())"
      ],
      "metadata": {
        "colab": {
          "base_uri": "https://localhost:8080/"
        },
        "id": "liIkOgYDL1d6",
        "outputId": "0c7e6188-ed44-4487-b6ff-2263db2c041c"
      },
      "execution_count": null,
      "outputs": [
        {
          "output_type": "stream",
          "name": "stdout",
          "text": [
            "False\n",
            "abcdefg True\n",
            "abcDefG False\n",
            "qwerty! True\n",
            "12345 False\n",
            "12345abc True\n",
            "12345aBc False\n"
          ]
        }
      ]
    },
    {
      "cell_type": "markdown",
      "source": [
        "## **Метод isupper**"
      ],
      "metadata": {
        "id": "C6t-_iRwL6lq"
      }
    },
    {
      "cell_type": "code",
      "source": [
        "# S.isupper()"
      ],
      "metadata": {
        "id": "NbkZrYn9L9hq"
      },
      "execution_count": null,
      "outputs": []
    },
    {
      "cell_type": "markdown",
      "source": [
        "Данный метод возвращает True , если строка S не пустая и состоит только из алфавитных заглавных(верхний регистр) букв. Если в строке имеется хотя бы одна строчная буква, будет возвращено False. Все символы цифр или знак пунктуации игнорируются в проверках."
      ],
      "metadata": {
        "id": "1AVs8BfgMA3a"
      }
    },
    {
      "cell_type": "code",
      "source": [
        "print(''.isupper())\n",
        "print('ABCDEF', 'ABCDEF'.isupper())\n",
        "print('ABCdEF', 'ABCdEF'.isupper())\n",
        "print('QWERTY!', 'QWERTY!'.isupper())\n",
        "print('12345', '12345'.isupper())\n",
        "print('12345ZXC', '12345ZXC'.isupper())\n",
        "print('12345ZxC', '12345ZxC'.isupper())"
      ],
      "metadata": {
        "colab": {
          "base_uri": "https://localhost:8080/"
        },
        "id": "TbLRhFpEMDzi",
        "outputId": "4a91ea4a-1ca8-4a76-e5d3-11daeaaa7fd9"
      },
      "execution_count": null,
      "outputs": [
        {
          "output_type": "stream",
          "name": "stdout",
          "text": [
            "False\n",
            "ABCDEF True\n",
            "ABCdEF False\n",
            "QWERTY! True\n",
            "12345 False\n",
            "12345ZXC True\n",
            "12345ZxC False\n"
          ]
        }
      ]
    },
    {
      "cell_type": "markdown",
      "source": [
        "## **Метод isdigit**"
      ],
      "metadata": {
        "id": "ZxN_pI_eMIMa"
      }
    },
    {
      "cell_type": "code",
      "source": [
        "# S.isdigit()"
      ],
      "metadata": {
        "id": "lbP4pYWDMLSC"
      },
      "execution_count": null,
      "outputs": []
    },
    {
      "cell_type": "markdown",
      "source": [
        "Данный метод возвращает True , если строка S не пустая и состоит только из десятичных цифр и символов, которые так же относятся к цифрам. В случае, если встретится другой символ, вернется False."
      ],
      "metadata": {
        "id": "-ca7h9cOMO1R"
      }
    },
    {
      "cell_type": "code",
      "source": [
        "print(''.isdigit())\n",
        "print('0123456789', '0123456789'.isdigit())\n",
        "print('0,1', '0,1'.isdigit())\n",
        "print('qwerty', 'qwerty'.isdigit())\n",
        "print('12a45', '12a45'.isdigit())\n",
        "# Эта проверка на цифры может быть полезна перед преобразованием строки\n",
        "# в целое число."
      ],
      "metadata": {
        "colab": {
          "base_uri": "https://localhost:8080/"
        },
        "id": "opJRHkwrMrSx",
        "outputId": "ff588af8-3d4e-42c3-9dd2-a110ad384fe8"
      },
      "execution_count": null,
      "outputs": [
        {
          "output_type": "stream",
          "name": "stdout",
          "text": [
            "False\n",
            "0123456789 True\n",
            "0,1 False\n",
            "qwerty False\n",
            "12a45 False\n"
          ]
        }
      ]
    },
    {
      "cell_type": "markdown",
      "source": [
        "## **Метод isalpha**"
      ],
      "metadata": {
        "id": "RixDYPY_M-bR"
      }
    },
    {
      "cell_type": "code",
      "source": [
        "# Данный метод возвращает True , если строка S не пустая и состоит только из букв."
      ],
      "metadata": {
        "id": "-WtxLLoXNc85"
      },
      "execution_count": null,
      "outputs": []
    },
    {
      "cell_type": "code",
      "source": [
        "print(''.isalpha())\n",
        "print('ЗемфиРа', 'ЗемфиРа'.isalpha())\n",
        "print('Я искала тебя', 'Я искала тебя'.isalpha())\n",
        "print('Годами', 'Годами'.isalpha())\n",
        "print('qwerty', 'qwerty'.isalpha())\n",
        "print('12a45', '12a45'.isalpha())\n",
        "print('qwerty!', 'qwerty!'.isalpha())"
      ],
      "metadata": {
        "colab": {
          "base_uri": "https://localhost:8080/"
        },
        "id": "lTYfDuC3NL1x",
        "outputId": "11f77c43-d08f-491f-dd3d-5592367900bf"
      },
      "execution_count": null,
      "outputs": [
        {
          "output_type": "stream",
          "name": "stdout",
          "text": [
            "False\n",
            "ЗемфиРа True\n",
            "Я искала тебя False\n",
            "Годами True\n",
            "qwerty True\n",
            "12a45 False\n",
            "qwerty! False\n"
          ]
        }
      ]
    },
    {
      "cell_type": "markdown",
      "source": [
        "## **Метод isalnum**"
      ],
      "metadata": {
        "id": "pW2vsyjvNk3R"
      }
    },
    {
      "cell_type": "code",
      "source": [
        "# S.isalnum()"
      ],
      "metadata": {
        "id": "VXv58jCyNsCp"
      },
      "execution_count": null,
      "outputs": []
    },
    {
      "cell_type": "markdown",
      "source": [
        "Данный метод возвращает True , если строка S не пустая и состоит только из букв и цифр. Если в строке имеется хотя бы один не буквенный и не числовой символ, то будет возвращено False:"
      ],
      "metadata": {
        "id": "yWMcFT4CNvF5"
      }
    },
    {
      "cell_type": "code",
      "source": [
        "print(''.isalnum())\n",
        "print('ЗемфиРа', 'ЗемфиРа'.isalnum())\n",
        "print('Я искала тебя', 'Я искала тебя'.isalnum())\n",
        "print('Годами', 'Годами'.isalnum())\n",
        "print('qwerty', 'qwerty'.isalnum())\n",
        "print('12a45', '12a45'.isalnum())\n",
        "print('qwerty!', 'qwerty!'.isalnum())"
      ],
      "metadata": {
        "colab": {
          "base_uri": "https://localhost:8080/"
        },
        "id": "7ikhQSf4NyHB",
        "outputId": "8bf91f9d-2be4-4afa-efcd-239c2d0458d9"
      },
      "execution_count": null,
      "outputs": [
        {
          "output_type": "stream",
          "name": "stdout",
          "text": [
            "False\n",
            "ЗемфиРа True\n",
            "Я искала тебя False\n",
            "Годами True\n",
            "qwerty True\n",
            "12a45 True\n",
            "qwerty! False\n"
          ]
        }
      ]
    },
    {
      "cell_type": "markdown",
      "source": [
        "## **Метод istitle**"
      ],
      "metadata": {
        "id": "nOOkJm75QnAX"
      }
    },
    {
      "cell_type": "code",
      "source": [
        "# S.istitle()"
      ],
      "metadata": {
        "id": "6IAqh0ivRDSP"
      },
      "execution_count": null,
      "outputs": []
    },
    {
      "cell_type": "markdown",
      "source": [
        "Данный метод возвращает True , если строка S не пустая и является строкой заголовков: каждое новое слово начинается с заглавной буквы."
      ],
      "metadata": {
        "id": "OPo1r2yTRG8H"
      }
    },
    {
      "cell_type": "code",
      "source": [
        "print(''.istitle())\n",
        "print('ЗемфиРа', 'ЗемфиРа'.istitle())\n",
        "print('Хочешь солнце', 'Хочешь солнце'.istitle())\n",
        "print('вместо лампы', 'вместо лампы'.istitle())\n",
        "print('Хочешь', 'Хочешь'.istitle())\n",
        "print('За Окошком Альпы?', 'За Окошком Альпы?'.istitle())\n",
        "print('12345', '12345'.istitle())"
      ],
      "metadata": {
        "colab": {
          "base_uri": "https://localhost:8080/"
        },
        "id": "4NkjPiZnRMgn",
        "outputId": "f96b6af0-fffa-4e07-bb53-452e82f7ef48"
      },
      "execution_count": null,
      "outputs": [
        {
          "output_type": "stream",
          "name": "stdout",
          "text": [
            "False\n",
            "ЗемфиРа False\n",
            "Хочешь солнце False\n",
            "вместо лампы False\n",
            "Хочешь True\n",
            "За Окошком Альпы? True\n",
            "12345 False\n"
          ]
        }
      ]
    },
    {
      "cell_type": "markdown",
      "source": [
        "## Task_5"
      ],
      "metadata": {
        "id": "y76GOqdASJmn"
      }
    },
    {
      "cell_type": "markdown",
      "source": [
        "Напишите программу, которая проверяет состоит ли введенная строка целиком из десятичных цифр\n",
        "\n",
        "В качестве ответа необходимо вывести True, если условие выполняется, во всех остальных случаях нужно вывести False."
      ],
      "metadata": {
        "id": "zT9MqJL6SznO"
      }
    },
    {
      "cell_type": "code",
      "source": [
        "s = input()\n",
        "print(s.isdigit())\n",
        "# 12345\n",
        "# K9"
      ],
      "metadata": {
        "colab": {
          "base_uri": "https://localhost:8080/"
        },
        "id": "K8R0p2S4S4NG",
        "outputId": "76402432-0b8b-4af7-e361-3957cc4b254a"
      },
      "execution_count": null,
      "outputs": [
        {
          "output_type": "stream",
          "name": "stdout",
          "text": [
            "K9\n",
            "False\n"
          ]
        }
      ]
    },
    {
      "cell_type": "markdown",
      "source": [
        "## Task_6"
      ],
      "metadata": {
        "id": "vJMh2WGf465M"
      }
    },
    {
      "cell_type": "markdown",
      "source": [
        "Напишите программу, которая проверяет состоит ли введенная строка целиком из заглавных букв\n",
        "\n",
        "В качестве ответа необходимо вывести True, если условие выполняется, во всех остальных случаях нужно вывести False."
      ],
      "metadata": {
        "id": "sdjJrO_p43t8"
      }
    },
    {
      "cell_type": "code",
      "source": [
        "s = input()\n",
        "print(s.isupper())"
      ],
      "metadata": {
        "colab": {
          "base_uri": "https://localhost:8080/"
        },
        "id": "9kX5ArGw5E7E",
        "outputId": "b2104764-015f-4730-887b-6908a687f14a"
      },
      "execution_count": 2,
      "outputs": [
        {
          "output_type": "stream",
          "name": "stdout",
          "text": [
            "ABRACADABRA\n",
            "True\n"
          ]
        }
      ]
    },
    {
      "cell_type": "code",
      "source": [
        "print(input().isupper())"
      ],
      "metadata": {
        "colab": {
          "base_uri": "https://localhost:8080/"
        },
        "id": "GXH3rXQJ6So1",
        "outputId": "b15956d4-a01f-48d3-de45-3cd23b4f9fdb"
      },
      "execution_count": 1,
      "outputs": [
        {
          "output_type": "stream",
          "name": "stdout",
          "text": [
            "FghjjH\n",
            "False\n"
          ]
        }
      ]
    },
    {
      "cell_type": "markdown",
      "source": [
        "## Task_7"
      ],
      "metadata": {
        "id": "hak-h4Dk6iAM"
      }
    },
    {
      "cell_type": "markdown",
      "source": [
        "Напишите программу, которая проверяет состоит ли введенная строка целиком из строчных букв\n",
        "\n",
        "В качестве ответа необходимо вывести True, если условие выполняется, во всех остальных случаях нужно вывести False."
      ],
      "metadata": {
        "id": "QT-OE78b6joU"
      }
    },
    {
      "cell_type": "code",
      "source": [
        "s = input()\n",
        "print(s.islower())\n",
        "# Salary\n",
        "# cowboy"
      ],
      "metadata": {
        "id": "QTub4d3u67Kk"
      },
      "execution_count": null,
      "outputs": []
    },
    {
      "cell_type": "markdown",
      "source": [
        "## **Метод ljust**"
      ],
      "metadata": {
        "id": "eEcKnrX47Q8r"
      }
    },
    {
      "cell_type": "code",
      "source": [
        "#S.ljust(width[, fillchar])"
      ],
      "metadata": {
        "id": "8bZalLL87aeU"
      },
      "execution_count": null,
      "outputs": []
    },
    {
      "cell_type": "code",
      "source": [],
      "metadata": {
        "id": "tCyBfhGy8V8j"
      },
      "execution_count": null,
      "outputs": []
    },
    {
      "cell_type": "markdown",
      "source": [
        "Метод  .ljust принимает один обязательный параметр width - ширину строки и один необязательный параметр fillchar - знак заполнителя (по умолчанию пробел) . Возвращает новую строку, в которой исходная строка S дополнена справа символами fillchar до указанной длины width. Если параметр width меньше длины строки, то будет возвращена исходная строка без изменений:"
      ],
      "metadata": {
        "id": "8HZT2erW7YRz"
      }
    },
    {
      "cell_type": "code",
      "source": [
        "d = 'qwerty'\n",
        "print(d.ljust(10))\n",
        "print(d.ljust(10, '-'))\n",
        "print(d.ljust(10, '&'))\n",
        "print(d.ljust(5, '!'))"
      ],
      "metadata": {
        "colab": {
          "base_uri": "https://localhost:8080/"
        },
        "id": "xK-6V_uW7nDU",
        "outputId": "eb553c4c-1a0d-40a2-8ef8-415cd647443d"
      },
      "execution_count": 3,
      "outputs": [
        {
          "output_type": "stream",
          "name": "stdout",
          "text": [
            "qwerty    \n",
            "qwerty----\n",
            "qwerty&&&&\n",
            "qwerty\n"
          ]
        }
      ]
    },
    {
      "cell_type": "markdown",
      "source": [
        "В параметр fillchar можно передать только строку, состоящую из одного символа. Если передать пустую строку или более одного символа, произойдет ошибка:"
      ],
      "metadata": {
        "id": "aV8RM9l776nD"
      }
    },
    {
      "cell_type": "code",
      "source": [
        "d = 'qwerty'\n",
        "print(d.ljust(10, '!@'))\n",
        "print(d.ljust(10, ''))"
      ],
      "metadata": {
        "id": "awOtW56Z77aj"
      },
      "execution_count": null,
      "outputs": []
    },
    {
      "cell_type": "markdown",
      "source": [
        "## **Метод rjust**"
      ],
      "metadata": {
        "id": "DjzhCQVn8Dtz"
      }
    },
    {
      "cell_type": "code",
      "source": [
        "# S.rjust(width[, fillchar])"
      ],
      "metadata": {
        "id": "rIKLK8PJ8Iv0"
      },
      "execution_count": null,
      "outputs": []
    },
    {
      "cell_type": "markdown",
      "source": [
        "Метод .rjust принимает один обязательный параметр width - ширину строки и один необязательный параметр fillchar - знак заполнителя (по умолчанию пробел) . Возвращает новую строку, в которой исходная строка S дополнена слева символами fillchar до указанной длины width. Если параметр width меньше длины строки, то будет возвращена исходная строка без изменений:"
      ],
      "metadata": {
        "id": "dVeu9nPi8Nfc"
      }
    },
    {
      "cell_type": "code",
      "source": [
        "d = 'qwerty'\n",
        "print(d.rjust(10))\n",
        "print(d.rjust(10, '-'))\n",
        "print(d.rjust(10, '&'))\n",
        "print(d.rjust(5, '!'))\n",
        "# В параметр fillchar также можно передать только строку, состоящую из одного символа."
      ],
      "metadata": {
        "colab": {
          "base_uri": "https://localhost:8080/"
        },
        "id": "hO85mBnP8ZKz",
        "outputId": "b5306b97-4464-4a27-b509-c9fd4c04c90b"
      },
      "execution_count": 4,
      "outputs": [
        {
          "output_type": "stream",
          "name": "stdout",
          "text": [
            "    qwerty\n",
            "----qwerty\n",
            "&&&&qwerty\n",
            "qwerty\n"
          ]
        }
      ]
    },
    {
      "cell_type": "markdown",
      "source": [
        "## **Метод center**"
      ],
      "metadata": {
        "id": "58yNrKfY8k9q"
      }
    },
    {
      "cell_type": "code",
      "source": [
        "# S.center(width[, fillchar])"
      ],
      "metadata": {
        "id": "VxUQyVab8ro8"
      },
      "execution_count": null,
      "outputs": []
    },
    {
      "cell_type": "markdown",
      "source": [
        "Метод .center принимает один обязательный параметр width - ширину строки и один необязательный параметр fillchar - знак заполнителя (по умолчанию пробел) . Возвращает новую строку длины width, в которой исходная строка S находится в центре, а справа и слева от нее находятся символы fillchar . Если параметр width меньше длины строки, то будет возвращена исходная строка без изменений.\n",
        "\n"
      ],
      "metadata": {
        "id": "XnX9owoz8yjK"
      }
    },
    {
      "cell_type": "code",
      "source": [
        "d = 'qwerty'\n",
        "print(d.center(10))\n",
        "print(d.center(12, '!'))\n",
        "print(d.center(13, '?'))\n",
        "print(d.center(5, '!'))\n"
      ],
      "metadata": {
        "colab": {
          "base_uri": "https://localhost:8080/"
        },
        "id": "45nUT1lC81tC",
        "outputId": "b817cc98-7eed-48c5-9acf-42462f98ab94"
      },
      "execution_count": 15,
      "outputs": [
        {
          "output_type": "stream",
          "name": "stdout",
          "text": [
            "  qwerty  \n",
            "!!!qwerty!!!\n",
            "????qwerty???\n",
            "qwerty\n"
          ]
        }
      ]
    },
    {
      "cell_type": "markdown",
      "source": [
        "В параметр fillchar также можно передать только строку, состоящую из одного символа. В случаях, когда количество необходимых для дополнения символов нечетно, слева будет на один символ fillchar больше чем справа."
      ],
      "metadata": {
        "id": "EJwwIKDH91F7"
      }
    },
    {
      "cell_type": "markdown",
      "source": [
        "## **Метод zfill**"
      ],
      "metadata": {
        "id": "H9mvn5QQ9_Vh"
      }
    },
    {
      "cell_type": "code",
      "source": [
        "# S.zfill(width)"
      ],
      "metadata": {
        "id": "Uue54QS6-FHK"
      },
      "execution_count": null,
      "outputs": []
    },
    {
      "cell_type": "markdown",
      "source": [
        "Метод .zfill возвращает новую строку, в которой исходная строка S дополнена нулями слева так, чтобы длина новой строки стала равна width."
      ],
      "metadata": {
        "id": "u44aVWYX-Jaa"
      }
    },
    {
      "cell_type": "code",
      "source": [
        "d = '123'\n",
        "print(d.zfill(5))\n",
        "print(d.zfill(6))\n",
        "print(d.zfill(2))\n",
        "print(d.zfill(3))\n",
        "print('0.123'.zfill(6))"
      ],
      "metadata": {
        "colab": {
          "base_uri": "https://localhost:8080/"
        },
        "id": "6jwE0ls5-TrS",
        "outputId": "ca1087ef-fb1a-4f91-da3b-7e5a4b1a1e0e"
      },
      "execution_count": 16,
      "outputs": [
        {
          "output_type": "stream",
          "name": "stdout",
          "text": [
            "00123\n",
            "000123\n",
            "123\n",
            "123\n",
            "00.123\n"
          ]
        }
      ]
    },
    {
      "cell_type": "markdown",
      "source": [
        "Метод .zfill используется редко, но полезно знать о его существовании."
      ],
      "metadata": {
        "id": "SsWYHT9P-Zrq"
      }
    },
    {
      "cell_type": "markdown",
      "source": [
        "## Task_8"
      ],
      "metadata": {
        "id": "eU0dMTqE_EuR"
      }
    },
    {
      "cell_type": "markdown",
      "source": [
        "На вход программе поступает строка, состоящая из произвольного количества символов. Ваша задача дополнить введенную строку до 15 символов в том случае, когда ей не хватает длины. Дополнять ее нужно символом -, ставя его в конец строки. В качестве ответа нужно вывести преобразованную строку\n",
        "\n",
        "Если поступала на вход строка, у которой уже имелось как минимум 15 символов, то преобразований выполнять никаких не нужно. Выведите строку в том виде, в котором она вводилась."
      ],
      "metadata": {
        "id": "sIZOXbV1_HM6"
      }
    },
    {
      "cell_type": "markdown",
      "source": [
        "## Sample Input 1:\n",
        "МонеточКа"
      ],
      "metadata": {
        "id": "rJEKnXky_MjM"
      }
    },
    {
      "cell_type": "markdown",
      "source": [
        "## Sample Output 1:\n",
        "МонеточКа------"
      ],
      "metadata": {
        "id": "UTObnjnB_Qjh"
      }
    },
    {
      "cell_type": "code",
      "source": [
        "m = input()\n",
        "print(m.ljust(15, '-'))\n"
      ],
      "metadata": {
        "colab": {
          "base_uri": "https://localhost:8080/"
        },
        "id": "GUHDOFFz_biZ",
        "outputId": "2d3b27bb-928e-421d-bd0a-8a9fedcabf07"
      },
      "execution_count": 17,
      "outputs": [
        {
          "output_type": "stream",
          "name": "stdout",
          "text": [
            "МонеточКа\n",
            "МонеточКа------\n"
          ]
        }
      ]
    },
    {
      "cell_type": "code",
      "source": [
        "print(input().ljust(15,'-'))"
      ],
      "metadata": {
        "colab": {
          "base_uri": "https://localhost:8080/"
        },
        "id": "02YG71ZMAMRh",
        "outputId": "bfdc4409-a48f-4f8a-e762-af21b0a31cef"
      },
      "execution_count": 18,
      "outputs": [
        {
          "output_type": "stream",
          "name": "stdout",
          "text": [
            "МонеточКа\n",
            "МонеточКа------\n"
          ]
        }
      ]
    },
    {
      "cell_type": "markdown",
      "source": [
        "## Task_9"
      ],
      "metadata": {
        "id": "XTZ1XYaKAZRp"
      }
    },
    {
      "cell_type": "markdown",
      "source": [
        "На вход программе поступает строка. Ваша задача дополнить ее впереди восклицательными знаками так, чтобы длина строки стала 10 символов.\n",
        "\n",
        "Если на вход поступила строка, длина которой уже превысила 9 символов, то дополнять ее знаками ! не нужно. Просто выведите строку в том виде, в котором она вводилась."
      ],
      "metadata": {
        "id": "LUa13EABAbLR"
      }
    },
    {
      "cell_type": "code",
      "source": [
        "m = input()\n",
        "print(m.rjust(10, '!'))\n",
        "# AC-DC\n",
        "# 123"
      ],
      "metadata": {
        "colab": {
          "base_uri": "https://localhost:8080/"
        },
        "id": "56AUurC9AfXp",
        "outputId": "b415d80b-c1ef-40f8-a626-a2f114deefed"
      },
      "execution_count": 20,
      "outputs": [
        {
          "output_type": "stream",
          "name": "stdout",
          "text": [
            "123\n",
            "!!!!!!!123\n"
          ]
        }
      ]
    },
    {
      "cell_type": "markdown",
      "source": [
        "## Task_10"
      ],
      "metadata": {
        "id": "gzqsj3hqBTFY"
      }
    },
    {
      "cell_type": "markdown",
      "source": [
        "При помощи метода .center дополните введенную строку до 15 символов. В качестве параметра fillchar возьмите нижнее подчеркивание _."
      ],
      "metadata": {
        "id": "ErJOog6ZBV7p"
      }
    },
    {
      "cell_type": "code",
      "source": [
        "n = input()\n",
        "print(n.center(15, '_'))\n",
        "# Конор"
      ],
      "metadata": {
        "colab": {
          "base_uri": "https://localhost:8080/"
        },
        "id": "fm6zxOh5BY2R",
        "outputId": "bb13dcf4-e350-4ce6-add6-542e3ac5d424"
      },
      "execution_count": 21,
      "outputs": [
        {
          "output_type": "stream",
          "name": "stdout",
          "text": [
            "Конор\n",
            "_____Конор_____\n"
          ]
        }
      ]
    },
    {
      "cell_type": "code",
      "source": [
        "print(input().center(15, '_'))"
      ],
      "metadata": {
        "colab": {
          "base_uri": "https://localhost:8080/"
        },
        "id": "vr0qY2h6B1qS",
        "outputId": "c35287d6-5297-4b84-9043-dd7f1f8a5f4c"
      },
      "execution_count": 23,
      "outputs": [
        {
          "output_type": "stream",
          "name": "stdout",
          "text": [
            "Конор\n",
            "_____Конор_____\n"
          ]
        }
      ]
    },
    {
      "cell_type": "markdown",
      "source": [
        "## Task_11"
      ],
      "metadata": {
        "id": "fjv7L-yuCLWY"
      }
    },
    {
      "cell_type": "markdown",
      "source": [
        "На вход программе поступает натуральное число, которое не превосходит значение 109\n",
        "\n",
        "Ваша задача вывести данное число так, чтобы вывод занимал 10 разрядов. Если у числа не хватает разрядов, необходимо добавлять вперед незначащие нули."
      ],
      "metadata": {
        "id": "OgofktPXCNIY"
      }
    },
    {
      "cell_type": "code",
      "source": [
        "n = input()\n",
        "print(n.zfill(10))\n",
        "# 6873621\n",
        "# 321423\n"
      ],
      "metadata": {
        "colab": {
          "base_uri": "https://localhost:8080/"
        },
        "id": "ojWTXv6mCPpg",
        "outputId": "f15a7f24-f5a0-4249-d067-8a85d6cb41b0"
      },
      "execution_count": 24,
      "outputs": [
        {
          "output_type": "stream",
          "name": "stdout",
          "text": [
            "321423\n",
            "0000321423\n"
          ]
        }
      ]
    },
    {
      "cell_type": "code",
      "source": [
        "print(input().rjust(10, '0'))"
      ],
      "metadata": {
        "colab": {
          "base_uri": "https://localhost:8080/"
        },
        "id": "7TIFF0qaDG5w",
        "outputId": "7fc9eff0-4e53-428c-dbb3-1d49d8413e24"
      },
      "execution_count": 25,
      "outputs": [
        {
          "output_type": "stream",
          "name": "stdout",
          "text": [
            "321423\n",
            "0000321423\n"
          ]
        }
      ]
    },
    {
      "cell_type": "markdown",
      "source": [
        "## **Метод strip**"
      ],
      "metadata": {
        "id": "2y0A6rdWOkFK"
      }
    },
    {
      "cell_type": "code",
      "source": [
        "# S.strip([chars])"
      ],
      "metadata": {
        "id": "5rSJr3TZOpeb"
      },
      "execution_count": null,
      "outputs": []
    },
    {
      "cell_type": "markdown",
      "source": [
        "Метод  .strip возвращает копию строки, удаляя как начальные, так и конечные символы (в зависимости от переданного строкового аргумента). Метод удаляет символы как слева, так и справа в зависимости от аргумента chars . Если аргумент chars не передан, то по умолчанию удаляться пробелы и символы переноса на новую строку \\n."
      ],
      "metadata": {
        "id": "U-noyszSOnXb"
      }
    },
    {
      "cell_type": "code",
      "source": [
        "q = '   hello   '\n",
        "print(q)\n",
        "print(q.strip())\n",
        "print('\\n\\n\\n_USB_\\n\\n\\n\\n'.strip())\n",
        "print('123_USB_123'.strip('123'))"
      ],
      "metadata": {
        "colab": {
          "base_uri": "https://localhost:8080/"
        },
        "id": "1DKsqokJOylC",
        "outputId": "78a5fe33-08cf-4685-8b8b-e3334a40511c"
      },
      "execution_count": 26,
      "outputs": [
        {
          "output_type": "stream",
          "name": "stdout",
          "text": [
            "   hello   \n",
            "hello\n",
            "_USB_\n",
            "_USB_\n"
          ]
        }
      ]
    },
    {
      "cell_type": "markdown",
      "source": [
        "Символы в параметре chars рассматриваются не как последовательность, а как набор символов, которые необходимо удалить:"
      ],
      "metadata": {
        "id": "4xidKznvPKr7"
      }
    },
    {
      "cell_type": "code",
      "source": [
        "print('321232321_USB_31121312'.strip('123'))"
      ],
      "metadata": {
        "id": "mJUruoc4PL2T"
      },
      "execution_count": null,
      "outputs": []
    },
    {
      "cell_type": "markdown",
      "source": [
        "### **Метод .strip используется очень часто, его вы обязаны знать. Очень часто используется при обработке файлов для удаления пробельных символов и символов переноса.**"
      ],
      "metadata": {
        "id": "zG74pHA1PW4i"
      }
    },
    {
      "cell_type": "markdown",
      "source": [
        "## **Метод rstrip**"
      ],
      "metadata": {
        "id": "wd2PDv32Pgwq"
      }
    },
    {
      "cell_type": "code",
      "source": [
        "# S.rstrip([chars])"
      ],
      "metadata": {
        "id": "M-zG7E-SPnxy"
      },
      "execution_count": 27,
      "outputs": []
    },
    {
      "cell_type": "markdown",
      "source": [
        "Метод  .rstrip возвращает копию строки, в которой справа удалены указанные символы (по умолчанию удаляются пробельные символы)."
      ],
      "metadata": {
        "id": "kmaM_NVfPu_8"
      }
    },
    {
      "cell_type": "code",
      "source": [
        "q = '   hello   '\n",
        "print(q)\n",
        "print(q.rstrip())\n",
        "print('\\n\\n\\n_USB_\\n\\n\\n\\n'.rstrip())\n",
        "print('123_USB_123'.rstrip('123'))\n",
        "print('321232321_USB_31121312'.rstrip('123'))"
      ],
      "metadata": {
        "colab": {
          "base_uri": "https://localhost:8080/"
        },
        "id": "5fn1aKiaP006",
        "outputId": "48c20536-414b-4194-870c-452edb4cd9be"
      },
      "execution_count": 30,
      "outputs": [
        {
          "output_type": "stream",
          "name": "stdout",
          "text": [
            "   hello   \n",
            "   hello\n",
            "\n",
            "\n",
            "\n",
            "_USB_\n",
            "123_USB_\n",
            "321232321_USB_\n"
          ]
        }
      ]
    },
    {
      "cell_type": "markdown",
      "source": [
        "## **Метод lstrip**"
      ],
      "metadata": {
        "id": "o7cjT_7rQd4B"
      }
    },
    {
      "cell_type": "code",
      "source": [
        "# S.lstrip([chars])"
      ],
      "metadata": {
        "id": "511Bsk3dQjza"
      },
      "execution_count": null,
      "outputs": []
    },
    {
      "cell_type": "markdown",
      "source": [
        "Метод  .lstrip возвращает копию строки, в которой слева удалены указанные символы (по умолчанию удаляются пробельные символы)."
      ],
      "metadata": {
        "id": "odyk9YhDQm8r"
      }
    },
    {
      "cell_type": "code",
      "source": [
        "q = '   hello   '\n",
        "print(q)\n",
        "print(q.lstrip())\n",
        "print('\\n\\n\\n_USB_\\n\\n\\n\\n'.lstrip())\n",
        "print('123_USB_123'.lstrip('123'))\n",
        "print('321232321_USB_31121312'.lstrip('123'))\n"
      ],
      "metadata": {
        "colab": {
          "base_uri": "https://localhost:8080/"
        },
        "id": "16024onYQtki",
        "outputId": "2b3dda1f-b51c-48e8-a7c1-539603424ec6"
      },
      "execution_count": 31,
      "outputs": [
        {
          "output_type": "stream",
          "name": "stdout",
          "text": [
            "   hello   \n",
            "hello   \n",
            "_USB_\n",
            "\n",
            "\n",
            "\n",
            "\n",
            "_USB_123\n",
            "_USB_31121312\n"
          ]
        }
      ]
    },
    {
      "cell_type": "markdown",
      "source": [
        "## Task_12"
      ],
      "metadata": {
        "id": "vaJfCXT0V-mv"
      }
    },
    {
      "cell_type": "markdown",
      "source": [
        "Вводится строка, которая может быть окружена символами -, _, !, ?\n",
        "\n",
        "Ваша задача избавиться от символов -, _, !, ? и вывести полученную строку."
      ],
      "metadata": {
        "id": "aq0KqIXDWOz_"
      }
    },
    {
      "cell_type": "markdown",
      "source": [
        "## Sample Input 1:\n",
        "-----Hello----"
      ],
      "metadata": {
        "id": "BoYeYTdaWUQ4"
      }
    },
    {
      "cell_type": "markdown",
      "source": [
        "## Sample Output 1:\n",
        "Hello"
      ],
      "metadata": {
        "id": "dvoKp8saWYLP"
      }
    },
    {
      "cell_type": "markdown",
      "source": [
        "## Sample Input 2:\n",
        "!!!World?????????"
      ],
      "metadata": {
        "id": "c_PsjHUiWetI"
      }
    },
    {
      "cell_type": "markdown",
      "source": [
        "## Sample Output 2:\n",
        "World"
      ],
      "metadata": {
        "id": "oqLTe4qQWkKP"
      }
    },
    {
      "cell_type": "code",
      "source": [
        "v = input()\n",
        "print(v.strip('_, -, !, ?'))"
      ],
      "metadata": {
        "colab": {
          "base_uri": "https://localhost:8080/"
        },
        "id": "UG40W8UuWxQI",
        "outputId": "1409d076-a29f-487c-8e5b-cb77dab1449a"
      },
      "execution_count": 32,
      "outputs": [
        {
          "output_type": "stream",
          "name": "stdout",
          "text": [
            "!!!World?????????\n",
            "World\n"
          ]
        }
      ]
    },
    {
      "cell_type": "code",
      "source": [
        "print(input().strip('-_!?'))"
      ],
      "metadata": {
        "colab": {
          "base_uri": "https://localhost:8080/"
        },
        "id": "o3LWo0swW7wB",
        "outputId": "e6e2d0a4-4e9c-46d8-a210-723018ec7c83"
      },
      "execution_count": 33,
      "outputs": [
        {
          "output_type": "stream",
          "name": "stdout",
          "text": [
            "-----Hello----\n",
            "Hello\n"
          ]
        }
      ]
    },
    {
      "cell_type": "markdown",
      "source": [
        "## Task_13"
      ],
      "metadata": {
        "id": "2eKtsdinbY0M"
      }
    },
    {
      "cell_type": "markdown",
      "source": [
        "Вводится строка, которая может быть окружена символами -, _, !, ?\n",
        "\n",
        "Ваша задача убрать`все символы -, _, !, ? слева от строки и вывести полученный результат."
      ],
      "metadata": {
        "id": "JDYptc2Oba-1"
      }
    },
    {
      "cell_type": "markdown",
      "source": [
        "## Sample Input 1:\n",
        "-----Hello----"
      ],
      "metadata": {
        "id": "tZJgHdjCbiDl"
      }
    },
    {
      "cell_type": "markdown",
      "source": [
        "## Sample Output 1:\n",
        "Hello----"
      ],
      "metadata": {
        "id": "YSZIKAFjbsSl"
      }
    },
    {
      "cell_type": "code",
      "source": [
        "v = input()\n",
        "print(v.lstrip('_, -, !, ?'))\n"
      ],
      "metadata": {
        "colab": {
          "base_uri": "https://localhost:8080/"
        },
        "id": "xWJidGZ3bfDO",
        "outputId": "76f27986-741a-4dbb-cb33-1ea82ef1d37b"
      },
      "execution_count": 34,
      "outputs": [
        {
          "output_type": "stream",
          "name": "stdout",
          "text": [
            "-----Hello----\n",
            "Hello----\n"
          ]
        }
      ]
    },
    {
      "cell_type": "code",
      "source": [
        "print(input().lstrip(\"-_!?\"))\n"
      ],
      "metadata": {
        "colab": {
          "base_uri": "https://localhost:8080/"
        },
        "id": "Kpb7I-ScccK9",
        "outputId": "7b15b3bf-9c2e-4c72-e35f-597fd81b4269"
      },
      "execution_count": 35,
      "outputs": [
        {
          "output_type": "stream",
          "name": "stdout",
          "text": [
            "-----Hello----\n",
            "Hello----\n"
          ]
        }
      ]
    },
    {
      "cell_type": "code",
      "source": [
        "# Вводится строка, которая может быть окружена символами -, _, !, ?\n",
        "# Ваша задача `убрать все символы -, _, !, ? справа от строки и вывести\n",
        "# полученный результат\n",
        "m = input()\n",
        "print(m.rstrip('_, -, !, ?'))"
      ],
      "metadata": {
        "colab": {
          "base_uri": "https://localhost:8080/"
        },
        "id": "yO4UXLG2cpqt",
        "outputId": "3a9e34e8-8ac6-4ee4-af30-17e8bc842ac1"
      },
      "execution_count": 36,
      "outputs": [
        {
          "output_type": "stream",
          "name": "stdout",
          "text": [
            "-----Hello----\n",
            "-----Hello\n"
          ]
        }
      ]
    },
    {
      "cell_type": "markdown",
      "source": [
        "## **Метод partition**"
      ],
      "metadata": {
        "id": "-dA9s5T0hig5"
      }
    },
    {
      "cell_type": "code",
      "source": [
        "# S.partition(sep)"
      ],
      "metadata": {
        "id": "TZSwf1BJhveD"
      },
      "execution_count": null,
      "outputs": []
    },
    {
      "cell_type": "markdown",
      "source": [
        "Метод  .partition разбивает строку по указанному разделителю и возвращает кортеж из трех элементов: строка до разделителя, сам разделитель и строка после разделителя. Если разделитель не найден, то возвращается кортеж так же состоящий из трех элементов в котором первый элемент – это исходная строка S, а два других элемента – это пустые строки."
      ],
      "metadata": {
        "id": "-oBL6-LsiBDq"
      }
    },
    {
      "cell_type": "code",
      "source": [
        "text = \"Python is best\"\n",
        "\n",
        "print(text.partition('is '))\n",
        "print(text.partition('not '))\n",
        "\n",
        "s = \"Python is best, isn't it\"\n",
        "\n",
        "print(s.partition('is'))"
      ],
      "metadata": {
        "colab": {
          "base_uri": "https://localhost:8080/"
        },
        "id": "Ovt2LniKiIMS",
        "outputId": "a112d2cf-6bf6-4878-8c73-94147afbed4f"
      },
      "execution_count": 37,
      "outputs": [
        {
          "output_type": "stream",
          "name": "stdout",
          "text": [
            "('Python ', 'is ', 'best')\n",
            "('Python is best', '', '')\n",
            "('Python ', 'is', \" best, isn't it\")\n"
          ]
        }
      ]
    },
    {
      "cell_type": "markdown",
      "source": [
        "## **Метод rpartition**"
      ],
      "metadata": {
        "id": "kmCd0XDVkPCx"
      }
    },
    {
      "cell_type": "code",
      "source": [
        "# S.rpartition(sep)"
      ],
      "metadata": {
        "id": "TshNHN5nkTcw"
      },
      "execution_count": null,
      "outputs": []
    },
    {
      "cell_type": "markdown",
      "source": [
        "Метод  .rpartition разбивает строку по последнему встреченному разделителю sep и возвращает кортеж, который состоит из трех элементов: строки до разделителя, самого разделителя и строки после разделителя. Если разделитель в строке отсутствует, то кортеж будет состоять из: двух пустых строк и исходной строки:"
      ],
      "metadata": {
        "id": "ZV-8pcrnkY0I"
      }
    },
    {
      "cell_type": "code",
      "source": [
        "text = \"Python is best\"\n",
        "\n",
        "print(text.rpartition('is '))\n",
        "print(text.rpartition('not '))\n",
        "\n",
        "s = \"Python is best, isn't it\"\n",
        "\n",
        "print(s.rpartition('is'))"
      ],
      "metadata": {
        "colab": {
          "base_uri": "https://localhost:8080/"
        },
        "id": "ia36PNqVkZ0R",
        "outputId": "01df3b66-ca43-4864-acd9-6d8fea651c1f"
      },
      "execution_count": 38,
      "outputs": [
        {
          "output_type": "stream",
          "name": "stdout",
          "text": [
            "('Python ', 'is ', 'best')\n",
            "('', '', 'Python is best')\n",
            "('Python is best, ', 'is', \"n't it\")\n"
          ]
        }
      ]
    },
    {
      "cell_type": "markdown",
      "source": [
        "Метод str.rpartition() разбивает строку при последнем появлении разделителя sep и вернет кортеж, содержащий часть строки str перед разделителем, сам разделитель sep и часть строки str после разделителя."
      ],
      "metadata": {
        "id": "sxxzx0bxlGsJ"
      }
    },
    {
      "cell_type": "markdown",
      "source": [
        "## Task_14\n",
        "\n",
        "**Модель кодирования RGB**"
      ],
      "metadata": {
        "id": "APzrvZmTlXRg"
      }
    },
    {
      "cell_type": "markdown",
      "source": [
        "Одним из способов кодирования цвета является метод RGB. В нём каждый цвет кодируется значениями базовых цветов: Red (красный), Green (зелёный) и Blue (голубой). Это три оси цвета, которые имеют градацию значений от 0 до 255. Если все три значения сделать нулевыми, то получится чёрный цвет, а если 255 — белый.\n",
        "\n",
        "Каждый цвет в модели RGB записывается следующим образом:"
      ],
      "metadata": {
        "id": "NfFsZpolmVWA"
      }
    },
    {
      "cell_type": "code",
      "source": [
        "# #RRGGBB"
      ],
      "metadata": {
        "id": "XFK_iONombGg"
      },
      "execution_count": null,
      "outputs": []
    },
    {
      "cell_type": "markdown",
      "source": [
        "Ваша задача закодировать три поступающих оттенка в RGB код."
      ],
      "metadata": {
        "id": "RBpnRW_wmkJY"
      }
    },
    {
      "cell_type": "markdown",
      "source": [
        "## Входные данные:\n",
        "Программе поступают последовательно три числа: значения оттенка красного, потом зеленого и затем синего цветов. Данные числа варьируются от 0 до 255 включительно."
      ],
      "metadata": {
        "id": "Zb8mitXnm2uv"
      }
    },
    {
      "cell_type": "markdown",
      "source": [
        "## Выходные данные:\n",
        "Ваша задача закодировать оттенки цветов согласно RGB модели.\n",
        "\n",
        "Не забывайте, что на каждый цвет всегда должно отводиться два разряда. Символы букв в шестнадцатеричной системе необходимо записывать в верхнем регистре.\n",
        "\n",
        "Примечание: для перевода в 16-ую систему вы можете воспользоваться функцией hex, она возвращает строку перевода в 16ую систему, впереди которой находятся два служебных знака 0x\n",
        "\n"
      ],
      "metadata": {
        "id": "w5EJlXI8nAWx"
      }
    },
    {
      "cell_type": "markdown",
      "source": [
        "## Sample Input 1:\n",
        "1\n",
        "\n",
        "2\n",
        "\n",
        "3\n"
      ],
      "metadata": {
        "id": "JOMbY1oNqSiW"
      }
    },
    {
      "cell_type": "markdown",
      "source": [
        "## Sample Output 1:\n",
        "* #010203"
      ],
      "metadata": {
        "id": "5GBL6g71qXhA"
      }
    },
    {
      "cell_type": "markdown",
      "source": [
        "## Sample Input 2:\n",
        "0\n",
        "\n",
        "255\n",
        "\n",
        "10"
      ],
      "metadata": {
        "id": "Pkl9tt6zqdmB"
      }
    },
    {
      "cell_type": "markdown",
      "source": [
        "## Sample Output 2:\n",
        "* #00FF0A"
      ],
      "metadata": {
        "id": "fv8LlfOBt4rV"
      }
    },
    {
      "cell_type": "code",
      "source": [
        "a, b, c = int(input()), int(input()), int(input())\n",
        "a = hex(a)[2:].zfill(2).upper()\n",
        "b = hex(b)[2:].zfill(2).upper()\n",
        "c = hex(c)[2:].zfill(2).upper()\n",
        "print('#'+a+b+c)\n",
        "\n"
      ],
      "metadata": {
        "colab": {
          "base_uri": "https://localhost:8080/"
        },
        "id": "6SSQGLsgnJxI",
        "outputId": "2e73f283-e98d-46ae-9db1-6549b69583c7"
      },
      "execution_count": 40,
      "outputs": [
        {
          "output_type": "stream",
          "name": "stdout",
          "text": [
            "0\n",
            "255\n",
            "10\n",
            "#00FF0A\n"
          ]
        }
      ]
    },
    {
      "cell_type": "code",
      "source": [
        "r = hex(int(input()))[2:].upper().rjust(2,'0')\n",
        "g = hex(int(input()))[2:].upper().rjust(2,'0')\n",
        "b = hex(int(input()))[2:].upper().rjust(2,'0')\n",
        "print('#',r,g,b, sep='')"
      ],
      "metadata": {
        "colab": {
          "base_uri": "https://localhost:8080/"
        },
        "id": "NrC-AnhcuN29",
        "outputId": "90a633d9-8aa5-4f45-eb77-13972d5d7f6c"
      },
      "execution_count": 39,
      "outputs": [
        {
          "output_type": "stream",
          "name": "stdout",
          "text": [
            "0\n",
            "255\n",
            "10\n",
            "#00FF0A\n"
          ]
        }
      ]
    }
  ]
}
