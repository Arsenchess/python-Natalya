{
  "nbformat": 4,
  "nbformat_minor": 0,
  "metadata": {
    "colab": {
      "provenance": [],
      "authorship_tag": "ABX9TyPTBqj1BIjk6wjCRlhsaheH",
      "include_colab_link": true
    },
    "kernelspec": {
      "name": "python3",
      "display_name": "Python 3"
    },
    "language_info": {
      "name": "python"
    }
  },
  "cells": [
    {
      "cell_type": "markdown",
      "metadata": {
        "id": "view-in-github",
        "colab_type": "text"
      },
      "source": [
        "<a href=\"https://colab.research.google.com/github/ProNatalya/python/blob/main/indy_crs_2_3_crs_strings_methods_1.ipynb\" target=\"_parent\"><img src=\"https://colab.research.google.com/assets/colab-badge.svg\" alt=\"Open In Colab\"/></a>"
      ]
    },
    {
      "cell_type": "markdown",
      "source": [
        "## Определение метода"
      ],
      "metadata": {
        "id": "c70kAmIl6isc"
      }
    },
    {
      "cell_type": "markdown",
      "source": [
        "Метод представляет собой просто функцию, которая связана с определенным типом объекта и применяется к конкретному значению. У каждого отдельного типа данных есть свои методы.\n"
      ],
      "metadata": {
        "id": "77YLHNzp6y67"
      }
    },
    {
      "cell_type": "code",
      "execution_count": null,
      "metadata": {
        "colab": {
          "base_uri": "https://localhost:8080/",
          "height": 35
        },
        "id": "9iYKcoic6DEB",
        "outputId": "fb5ef49a-a72b-4d03-9af7-bab26e094dbc"
      },
      "outputs": [
        {
          "output_type": "execute_result",
          "data": {
            "text/plain": [
              "'HELLO'"
            ],
            "application/vnd.google.colaboratory.intrinsic+json": {
              "type": "string"
            }
          },
          "metadata": {},
          "execution_count": 2
        }
      ],
      "source": [
        "'hello'.upper()"
      ]
    },
    {
      "cell_type": "code",
      "source": [
        "s = 'hello world'\n",
        "print(s.capitalize())\n",
        "print(s)\n",
        "print('кАкОй чУдесНый дЕнь'.capitalize())"
      ],
      "metadata": {
        "colab": {
          "base_uri": "https://localhost:8080/"
        },
        "id": "YVziGQD77sBT",
        "outputId": "a75d10c6-030b-4468-8de8-5f1a5fee6ef8"
      },
      "execution_count": null,
      "outputs": [
        {
          "output_type": "stream",
          "name": "stdout",
          "text": [
            "Hello world\n",
            "hello world\n",
            "Какой чудесный день\n"
          ]
        }
      ]
    },
    {
      "cell_type": "code",
      "source": [
        "# Метод .swapcase возвращает новую строку, в которой  все заглавные буквы\n",
        "# преобразованы в строчные, строчные – в заглавные.\n",
        "# Цифры и знаки пунктуации игнорируются.\n",
        "s = 'hello world!123'\n",
        "print(s.swapcase())\n",
        "print(s)\n",
        "print('кАкОй чУдесНый дЕнь'.swapcase())"
      ],
      "metadata": {
        "colab": {
          "base_uri": "https://localhost:8080/"
        },
        "id": "RkKXLFoS77gL",
        "outputId": "f69d1049-7a25-4c22-b722-78f434ff9a83"
      },
      "execution_count": null,
      "outputs": [
        {
          "output_type": "stream",
          "name": "stdout",
          "text": [
            "HELLO WORLD!123\n",
            "hello world!123\n",
            "КаКоЙ ЧуДЕСнЫЙ ДеНЬ\n"
          ]
        }
      ]
    },
    {
      "cell_type": "code",
      "source": [
        "# lower - все буквы делает маленькими\n",
        "# upper - все буквы делает большими\n",
        "# capitalize - у первого слова первая буква будет большой, все остальные буквы маленькие\n",
        "# swapcase - меняет регистр букв на противоположный\n",
        "# title - первую букву каждого слова делает заглавной, остальные буквы маленькими\n"
      ],
      "metadata": {
        "id": "KkoEGW2U8m8z"
      },
      "execution_count": null,
      "outputs": []
    },
    {
      "cell_type": "code",
      "source": [
        "v = input()\n",
        "print(v.upper())\n",
        "# ManY mUcH"
      ],
      "metadata": {
        "colab": {
          "base_uri": "https://localhost:8080/"
        },
        "id": "yaxmoOXG9r1b",
        "outputId": "d8da2782-2ce1-4892-b129-2c93a753bcea"
      },
      "execution_count": null,
      "outputs": [
        {
          "output_type": "stream",
          "name": "stdout",
          "text": [
            "ManY mUcH\n",
            "MANY MUCH\n"
          ]
        }
      ]
    },
    {
      "cell_type": "code",
      "source": [
        "b = input()\n",
        "print(b.lower())\n",
        "# TheRe is NO spOOn"
      ],
      "metadata": {
        "colab": {
          "base_uri": "https://localhost:8080/"
        },
        "id": "na-UchdZ-D7C",
        "outputId": "8c0b6ad5-abc3-4de1-fb5a-68053886cad5"
      },
      "execution_count": null,
      "outputs": [
        {
          "output_type": "stream",
          "name": "stdout",
          "text": [
            "TheRe is NO spOOn\n",
            "there is no spoon\n"
          ]
        }
      ]
    },
    {
      "cell_type": "markdown",
      "source": [
        "# Task_1"
      ],
      "metadata": {
        "id": "0xNfSAf1-0wy"
      }
    },
    {
      "cell_type": "markdown",
      "source": [
        "Программиста Тихона попросили написать программу, которая должна была сравнивать две введенные строки на равенство, при этом не учитывая регистр букв. Если строки вводились одинаковые, программа Тихона должна была печатать True, в противном случае False\n",
        "\n",
        "Но что-то пошло не так. Тихон написал программу, в которой есть ошибки. Ваша задача исправить имеющуюся программу так, чтобы она прошла все тесты."
      ],
      "metadata": {
        "id": "AzJXWsGK-337"
      }
    },
    {
      "cell_type": "markdown",
      "source": [
        "### Sample Input 1:\n",
        "Hello\n",
        "\n",
        "hEllO"
      ],
      "metadata": {
        "id": "j__G9lSU_FwS"
      }
    },
    {
      "cell_type": "markdown",
      "source": [
        "### Sample Output 1:\n",
        "True"
      ],
      "metadata": {
        "id": "rXKHotUB_IJR"
      }
    },
    {
      "cell_type": "code",
      "source": [
        "s = input()\n",
        "word = input()\n",
        "print(s.lower() == word.lower())"
      ],
      "metadata": {
        "colab": {
          "base_uri": "https://localhost:8080/"
        },
        "id": "NsSSK_Jl-2wi",
        "outputId": "f157b4b5-e483-459f-af6a-b61f609e859b"
      },
      "execution_count": null,
      "outputs": [
        {
          "output_type": "stream",
          "name": "stdout",
          "text": [
            "Hello\n",
            "hEllO\n",
            "True\n"
          ]
        }
      ]
    },
    {
      "cell_type": "markdown",
      "source": [],
      "metadata": {
        "id": "k0xrGm4gEgIW"
      }
    },
    {
      "cell_type": "markdown",
      "source": [
        "# Task_2"
      ],
      "metadata": {
        "id": "ty7diAmcECU_"
      }
    },
    {
      "cell_type": "markdown",
      "source": [
        "На вход подается строка. Ваша задача отформатировать строку так, чтобы первые 3 и последние 3 символа были заглавными, а оставшиеся строчные.\n",
        "\n",
        "Примечание:\n",
        "Количество букв может быть различным, но гарантируется что их количество не меньше 6"
      ],
      "metadata": {
        "id": "S7VxBU3_EK83"
      }
    },
    {
      "cell_type": "markdown",
      "source": [
        "### Sample Input 1:\n",
        "\n",
        "pyThon"
      ],
      "metadata": {
        "id": "OzKWbfyCEeXf"
      }
    },
    {
      "cell_type": "markdown",
      "source": [
        "### Sample Output 1:\n",
        "\n",
        "PYTHON"
      ],
      "metadata": {
        "id": "48gw72FTE19O"
      }
    },
    {
      "cell_type": "markdown",
      "source": [
        "### Sample Input 2:\n",
        "\n",
        "прогРаммирОВАНИЕ"
      ],
      "metadata": {
        "id": "xvPAI6hNFGmG"
      }
    },
    {
      "cell_type": "markdown",
      "source": [
        "### Sample Output 2:\n",
        "ПРОграммироваНИЕ"
      ],
      "metadata": {
        "id": "QSU2GJnzFSEG"
      }
    },
    {
      "cell_type": "code",
      "source": [
        "k = input()\n",
        "n = k[0:3].upper()\n",
        "m = k[-3:].upper()\n",
        "o = k[3:-3].lower()\n",
        "print(n + o + m)\n"
      ],
      "metadata": {
        "colab": {
          "base_uri": "https://localhost:8080/"
        },
        "id": "LojR1rGXFafI",
        "outputId": "4937a3c1-9365-417f-ecbe-6a37837c803f"
      },
      "execution_count": null,
      "outputs": [
        {
          "output_type": "stream",
          "name": "stdout",
          "text": [
            "pyThon\n",
            "PYTHON\n"
          ]
        }
      ]
    },
    {
      "cell_type": "code",
      "source": [
        "n = input().upper()\n",
        "print(n[:3]+n[3:-3].lower()+n[-3:])"
      ],
      "metadata": {
        "colab": {
          "base_uri": "https://localhost:8080/"
        },
        "id": "aaDnqE-CFofG",
        "outputId": "a5b0c3dd-6ffb-4282-b680-646cedaa3959"
      },
      "execution_count": null,
      "outputs": [
        {
          "output_type": "stream",
          "name": "stdout",
          "text": [
            "pyThon\n",
            "PYTHON\n"
          ]
        }
      ]
    },
    {
      "cell_type": "code",
      "source": [
        "z = input()\n",
        "a, b, c = z[:3].upper(), z[3:-3].lower(), z[-3:].upper()\n",
        "print(a + b + c)"
      ],
      "metadata": {
        "colab": {
          "base_uri": "https://localhost:8080/"
        },
        "id": "Sp8TeEl7F12-",
        "outputId": "2954b4da-31f5-4b52-af3f-772c6bd0368c"
      },
      "execution_count": null,
      "outputs": [
        {
          "output_type": "stream",
          "name": "stdout",
          "text": [
            "pyThon\n",
            "PYTHON\n"
          ]
        }
      ]
    },
    {
      "cell_type": "code",
      "source": [
        "# Task_3 Ваша задача преобразовать строку так, чтобы все строчные символы заменились\n",
        "# на заглавные, все заглавные - на строчные.\n",
        "s = input()\n",
        "print(s.swapcase())\n",
        "# PyThoN besT of The BeST\n",
        "# pYtHOn BESt OF tHE bEst"
      ],
      "metadata": {
        "colab": {
          "base_uri": "https://localhost:8080/"
        },
        "id": "-o7xtbJrGRQo",
        "outputId": "f335d80a-4bb0-40f2-bfb1-b1b3f05a5ac2"
      },
      "execution_count": null,
      "outputs": [
        {
          "output_type": "stream",
          "name": "stdout",
          "text": [
            "PyThoN besT of The BeST\n",
            "pYtHOn BESt OF tHE bEst\n"
          ]
        }
      ]
    },
    {
      "cell_type": "markdown",
      "source": [
        "# Task_4\n"
      ],
      "metadata": {
        "id": "RrJYN7eNIO8O"
      }
    },
    {
      "cell_type": "markdown",
      "source": [
        "На вход программе поступает строка, состоящая как из заглавных так из строчных букв. Ваша задача преобразовать строку так, чтобы первая буква у каждого слова стала маленькой, а остальные буквы превратились в заглавные. Символы пунктуации и цифры не нужно преобразовывать.\n",
        "\n",
        "В качестве ответа нужно вывести полученную строку"
      ],
      "metadata": {
        "id": "UyX_kd4dIa4-"
      }
    },
    {
      "cell_type": "markdown",
      "source": [
        "### Sample Input 1:\n",
        "\n",
        "Every You Every Me"
      ],
      "metadata": {
        "id": "fuUJ3B2gG5ny"
      }
    },
    {
      "cell_type": "markdown",
      "source": [
        "### Sample Output 1:\n",
        "\n",
        "eVERY yOU eVERY mE"
      ],
      "metadata": {
        "id": "HvYItd7ZHAOV"
      }
    },
    {
      "cell_type": "markdown",
      "source": [
        "### Sample Input 2:\n",
        "RunnING up That HILL"
      ],
      "metadata": {
        "id": "Gy9qLKs1IUFm"
      }
    },
    {
      "cell_type": "markdown",
      "source": [
        "### Sample Output 2:\n",
        "rUNNING uP tHAT hILL"
      ],
      "metadata": {
        "id": "bS88egXpHl7N"
      }
    },
    {
      "cell_type": "code",
      "source": [
        "v = input()\n",
        "s = v.title()\n",
        "print(s.swapcase())\n",
        "# RunnING up That HILL"
      ],
      "metadata": {
        "colab": {
          "base_uri": "https://localhost:8080/"
        },
        "id": "kpyyZ76wHwRC",
        "outputId": "4724b8a0-fb44-44d4-aaad-7edd40ad153e"
      },
      "execution_count": 1,
      "outputs": [
        {
          "output_type": "stream",
          "name": "stdout",
          "text": [
            "RunnING up That HILL\n",
            "rUNNING uP tHAT hILL\n"
          ]
        }
      ]
    },
    {
      "cell_type": "code",
      "source": [
        "print(input().title().swapcase())"
      ],
      "metadata": {
        "id": "9FD1iYgsIDzk"
      },
      "execution_count": null,
      "outputs": []
    },
    {
      "cell_type": "markdown",
      "source": [
        "## Метод count\n",
        "Метод .count имеет следующий шаблон вызова:"
      ],
      "metadata": {
        "id": "lc3mvCB1IM02"
      }
    },
    {
      "cell_type": "code",
      "source": [
        "# S.count(sub[, start[, end]])\n",
        "# Метод .count требует минимум 1 обязательный аргумент.\n",
        "# Если вы не передадите ни одного аргумента, то получите ошибку"
      ],
      "metadata": {
        "id": "4uSp1jQDIVWh"
      },
      "execution_count": null,
      "outputs": []
    },
    {
      "cell_type": "markdown",
      "source": [
        "### Время практики\n",
        "На вход программе поступает строка, ваша задача подсчитать сколько раз в ней встречается латинская буква \"e\". При этом стоит учитывать как маленькие, так и заглавные буквы"
      ],
      "metadata": {
        "id": "G55Nu813It9k"
      }
    },
    {
      "cell_type": "markdown",
      "source": [
        "### Sample Input 1:\n",
        "Helen"
      ],
      "metadata": {
        "id": "tzrhwONGI3Un"
      }
    },
    {
      "cell_type": "markdown",
      "source": [
        "### Sample Output 1:\n",
        "2"
      ],
      "metadata": {
        "id": "ZdwYWU1II8rh"
      }
    },
    {
      "cell_type": "markdown",
      "source": [
        "### Sample Input 2:\n",
        "Everywhere"
      ],
      "metadata": {
        "id": "Y_wZeC4CJFGh"
      }
    },
    {
      "cell_type": "markdown",
      "source": [
        "### Sample Output 2:\n",
        "4"
      ],
      "metadata": {
        "id": "_ubZIBS9JKka"
      }
    },
    {
      "cell_type": "code",
      "source": [
        "s = input()\n",
        "s = s.lower()\n",
        "print(s.count('e'))"
      ],
      "metadata": {
        "colab": {
          "base_uri": "https://localhost:8080/"
        },
        "id": "-upVk2n5IzdP",
        "outputId": "58e4dab5-0a36-4cdb-da78-3464c1b1034f"
      },
      "execution_count": 2,
      "outputs": [
        {
          "output_type": "stream",
          "name": "stdout",
          "text": [
            "Everywhere\n",
            "4\n"
          ]
        }
      ]
    },
    {
      "cell_type": "code",
      "source": [
        "print(input().lower().count('e'))"
      ],
      "metadata": {
        "colab": {
          "base_uri": "https://localhost:8080/"
        },
        "id": "jTienqoEJ2Ro",
        "outputId": "c5a244f2-2bd9-48e0-d767-e17bdca404ce"
      },
      "execution_count": 3,
      "outputs": [
        {
          "output_type": "stream",
          "name": "stdout",
          "text": [
            "Eveywhere\n",
            "4\n"
          ]
        }
      ]
    },
    {
      "cell_type": "markdown",
      "source": [
        "# **Методы для поиска элементов в строке**"
      ],
      "metadata": {
        "id": "htFwwaXFKBHR"
      }
    },
    {
      "cell_type": "markdown",
      "source": [
        "## **Метод find**"
      ],
      "metadata": {
        "id": "mym7zg15KILm"
      }
    },
    {
      "cell_type": "code",
      "source": [
        "# S.find(sub[, start[, end]])"
      ],
      "metadata": {
        "id": "FGk7x7kwKUX-"
      },
      "execution_count": null,
      "outputs": []
    },
    {
      "cell_type": "markdown",
      "source": [
        "Метод .find возвращает индекс первого слева вхождения строки sub в строке S. Подстрока sub ищется на всем срезе строки S. Но вы можете указать интервал поиска, передав второй и третий аргументы. Метод .find вернет значение -1, если ничего не будет найдено."
      ],
      "metadata": {
        "id": "RwLTBt38KckY"
      }
    },
    {
      "cell_type": "markdown",
      "source": [
        "##**Метод rfind**"
      ],
      "metadata": {
        "id": "qO4ZnjO_KzcC"
      }
    },
    {
      "cell_type": "code",
      "source": [
        "# S.rfind(sub[, start[, end]])"
      ],
      "metadata": {
        "id": "0W0gdk56LCM9"
      },
      "execution_count": null,
      "outputs": []
    },
    {
      "cell_type": "markdown",
      "source": [
        "Если вам необходимо искать с другого конца вашей строки то в таком случае можно использовать аналогичный метод rfind(). Буква r обозначает слово right(справа) и, следовательно, поиск будет идти справа. Вы также можете ограничить интервал поиска, передав дополнительно параметры start и end"
      ],
      "metadata": {
        "id": "80Q2hOalLGWy"
      }
    },
    {
      "cell_type": "markdown",
      "source": [
        "## **Метод index()**"
      ],
      "metadata": {
        "id": "yJ0zvOJYLWB8"
      }
    },
    {
      "cell_type": "code",
      "source": [
        "# S.index(sub[, start[, end]])"
      ],
      "metadata": {
        "id": "KLPNeipqLZ1_"
      },
      "execution_count": null,
      "outputs": []
    },
    {
      "cell_type": "markdown",
      "source": [
        "Метод  .index также возвращает индекс первой найденной подстроки, аналогично методу .find"
      ],
      "metadata": {
        "id": "QOlOmpy6LleZ"
      }
    },
    {
      "cell_type": "markdown",
      "source": [
        "Но между ними есть разница: если вы будете искать подстроку, которой у вас нет, то метод index()  вернет ошибку, то есть программа автоматически завершится."
      ],
      "metadata": {
        "id": "61D2m-7gLpMZ"
      }
    },
    {
      "cell_type": "markdown",
      "source": [
        "# Task_5"
      ],
      "metadata": {
        "id": "HUTSYCp5L6VD"
      }
    },
    {
      "cell_type": "markdown",
      "source": [
        "На вход программе поступает строка, ваша задача вывести на экран индекс первой найденной латинской буквы a\n",
        "\n",
        "Если такого символа в введенной строке нет, выведите -1"
      ],
      "metadata": {
        "id": "Y894-wYtL_ck"
      }
    },
    {
      "cell_type": "markdown",
      "source": [
        "### Sample Input 1:\n",
        "banana"
      ],
      "metadata": {
        "id": "hDTw-8EEMGh2"
      }
    },
    {
      "cell_type": "markdown",
      "source": [
        "### Sample Output 1:\n",
        "5"
      ],
      "metadata": {
        "id": "_80afgnNNF-p"
      }
    },
    {
      "cell_type": "code",
      "source": [
        "s = input()\n",
        "print(s.rfind('a'))"
      ],
      "metadata": {
        "colab": {
          "base_uri": "https://localhost:8080/"
        },
        "id": "_M-gTwf2NLgm",
        "outputId": "bc364292-8482-421d-bf66-3f3ae0d75636"
      },
      "execution_count": 4,
      "outputs": [
        {
          "output_type": "stream",
          "name": "stdout",
          "text": [
            "banana\n",
            "5\n"
          ]
        }
      ]
    },
    {
      "cell_type": "code",
      "source": [
        "print(input().rfind('a'))\n"
      ],
      "metadata": {
        "colab": {
          "base_uri": "https://localhost:8080/"
        },
        "id": "idBMVf9KNeJ-",
        "outputId": "4e79dc61-3f7c-45e4-85a7-8f5c86d226ba"
      },
      "execution_count": 5,
      "outputs": [
        {
          "output_type": "stream",
          "name": "stdout",
          "text": [
            "banana\n",
            "5\n"
          ]
        }
      ]
    },
    {
      "cell_type": "markdown",
      "source": [
        "## **Метод replace**"
      ],
      "metadata": {
        "id": "GwH-BeNDNrhr"
      }
    },
    {
      "cell_type": "code",
      "source": [
        "# S.replace(old, new[, count])"
      ],
      "metadata": {
        "id": "88InSvzxNxZ4"
      },
      "execution_count": null,
      "outputs": []
    },
    {
      "cell_type": "markdown",
      "source": [
        "Возвращает копию исходной строки  S, в которой все подстроки old заменены на подстроки new. Обратите внимание, что у метода .replace два обязательных параметра: old - это то, что мы будем менять, new - на что мы будем менять. Но можно передать третий необязательный параметр - максимальное количество замен, которое будет сделано."
      ],
      "metadata": {
        "id": "xBzUP0v7N0uB"
      }
    },
    {
      "cell_type": "markdown",
      "source": [
        "# Task_6"
      ],
      "metadata": {
        "id": "yTLZUCF5N6dI"
      }
    },
    {
      "cell_type": "markdown",
      "source": [
        "Программа получает на вход фразу, состоящую из нескольких слов, разделенных пробелом.\n",
        "\n",
        "Ваша задача заменить все пробелы запятыми и вывести полученную строку."
      ],
      "metadata": {
        "id": "3r8QgHt6OBtY"
      }
    },
    {
      "cell_type": "markdown",
      "source": [
        "## Sample Input 1:\n",
        "Smells Like Teen Spirit"
      ],
      "metadata": {
        "id": "tP0DgrFPOH-B"
      }
    },
    {
      "cell_type": "markdown",
      "source": [
        "## Sample Output 1:\n",
        "Smells,Like,Teen,Spirit"
      ],
      "metadata": {
        "id": "0lkuFmuWOL-Z"
      }
    },
    {
      "cell_type": "markdown",
      "source": [
        "## Sample Input 2:\n",
        "a million little pieces"
      ],
      "metadata": {
        "id": "BlZjcP2NOUlm"
      }
    },
    {
      "cell_type": "markdown",
      "source": [
        "## Sample Output 2:\n",
        "a,million,little,pieces"
      ],
      "metadata": {
        "id": "hbrEuadWOayM"
      }
    },
    {
      "cell_type": "code",
      "source": [
        "p = input()\n",
        "print(p.replace(' ', ','))\n",
        "# Smells Like Teen Spirit"
      ],
      "metadata": {
        "colab": {
          "base_uri": "https://localhost:8080/"
        },
        "id": "MmDCQxEGOgjE",
        "outputId": "deb0d6db-e120-4f30-ef59-cb322378f577"
      },
      "execution_count": 7,
      "outputs": [
        {
          "output_type": "stream",
          "name": "stdout",
          "text": [
            "a million little pieces\n",
            "a,million,little,pieces\n"
          ]
        }
      ]
    },
    {
      "cell_type": "code",
      "source": [
        "print(input().replace(' ',','))"
      ],
      "metadata": {
        "colab": {
          "base_uri": "https://localhost:8080/"
        },
        "id": "xfkNYuOePAWM",
        "outputId": "aba1e4b6-e7d3-4984-e761-300a753b8992"
      },
      "execution_count": 8,
      "outputs": [
        {
          "output_type": "stream",
          "name": "stdout",
          "text": [
            "Smells,Like,Teen,Spirit\n",
            "Smells,Like,Teen,Spirit\n"
          ]
        }
      ]
    },
    {
      "cell_type": "code",
      "source": [
        "print(','.join(input().split()))\n"
      ],
      "metadata": {
        "colab": {
          "base_uri": "https://localhost:8080/"
        },
        "id": "A0StESQrQERT",
        "outputId": "789cd1af-9f62-499d-b1da-cb27c4b7c034"
      },
      "execution_count": 10,
      "outputs": [
        {
          "output_type": "stream",
          "name": "stdout",
          "text": [
            "a million little pieces\n",
            "a,million,little,pieces\n"
          ]
        }
      ]
    },
    {
      "cell_type": "markdown",
      "source": [
        "# Task_7"
      ],
      "metadata": {
        "id": "iifH4_9PQtUd"
      }
    },
    {
      "cell_type": "markdown",
      "source": [
        "На вход программе поступает строка, ваша задача удалить из нее все символы w и z.\n",
        "\n",
        "Учитываем только маленькие буквы"
      ],
      "metadata": {
        "id": "19h6c-BgQyVi"
      }
    },
    {
      "cell_type": "markdown",
      "source": [
        "## Sample Input:\n",
        "what's up?"
      ],
      "metadata": {
        "id": "cZ6mnaqbQ01t"
      }
    },
    {
      "cell_type": "markdown",
      "source": [
        "## Sample Output:\n",
        "hat's up?"
      ],
      "metadata": {
        "id": "IruYxZbORCaw"
      }
    },
    {
      "cell_type": "code",
      "source": [
        "string = input()\n",
        "filtered_string = ''.join(char for char in string if char not in ['w', 'z'])\n",
        "print(filtered_string)\n"
      ],
      "metadata": {
        "colab": {
          "base_uri": "https://localhost:8080/"
        },
        "id": "3FxjGRDSRBpy",
        "outputId": "ce343d73-4d74-4245-e909-59e2867e89e9"
      },
      "execution_count": 11,
      "outputs": [
        {
          "output_type": "stream",
          "name": "stdout",
          "text": [
            "what's up\n",
            "hat's up\n"
          ]
        }
      ]
    },
    {
      "cell_type": "code",
      "source": [
        "print(input().replace('w','').replace('z',''))"
      ],
      "metadata": {
        "colab": {
          "base_uri": "https://localhost:8080/"
        },
        "id": "SLwIrCtfRbBQ",
        "outputId": "bef23d90-7301-4f5d-9be1-14f4fa63c5e6"
      },
      "execution_count": 12,
      "outputs": [
        {
          "output_type": "stream",
          "name": "stdout",
          "text": [
            "what's up\n",
            "hat's up\n"
          ]
        }
      ]
    },
    {
      "cell_type": "code",
      "source": [
        "a = input()\n",
        "a = a.split('w')\n",
        "a = ''.join(a)\n",
        "a = a.split('z')\n",
        "a = ''.join(a)\n",
        "print(a)"
      ],
      "metadata": {
        "colab": {
          "base_uri": "https://localhost:8080/"
        },
        "id": "V1xsGRU-RlFP",
        "outputId": "fabb12f8-16ef-45b9-e1b6-b9ea38d31609"
      },
      "execution_count": 13,
      "outputs": [
        {
          "output_type": "stream",
          "name": "stdout",
          "text": [
            "what's up\n",
            "hat's up\n"
          ]
        }
      ]
    },
    {
      "cell_type": "code",
      "source": [
        "n = input()\n",
        "n = n.replace('w','')\n",
        "n = n.replace('z','')\n",
        "print(n)\n"
      ],
      "metadata": {
        "colab": {
          "base_uri": "https://localhost:8080/"
        },
        "id": "GDFDx3OYRvVM",
        "outputId": "db411215-39dd-4896-aba0-7f3fdc71725e"
      },
      "execution_count": 14,
      "outputs": [
        {
          "output_type": "stream",
          "name": "stdout",
          "text": [
            "what's up\n",
            "hat's up\n"
          ]
        }
      ]
    },
    {
      "cell_type": "markdown",
      "source": [
        "# Task_8"
      ],
      "metadata": {
        "id": "stdvfrslR4Aw"
      }
    },
    {
      "cell_type": "markdown",
      "source": [
        "Петя записался в кружок по программированию. На первом занятии Пете задали написать простую программу. Программа должна делать следующее: в заданной строке, которая состоит из прописных и строчных латинских букв, она:\n",
        "\n",
        "удаляет все гласные буквы,\n",
        "перед каждой согласной буквой ставит символ \".\",\n",
        "все прописные согласные буквы заменяет на строчные.\n",
        "Гласными буквами считаются буквы A, O, Y, E, U, I, а согласными — все остальные. На вход программе подается ровно одна строка, она должна вернуть результат в виде одной строки, получившейся после обработки."
      ],
      "metadata": {
        "id": "XC_8kjAPR8Vs"
      }
    },
    {
      "cell_type": "markdown",
      "source": [
        "## Sample Input 1:\n",
        "Codeforces"
      ],
      "metadata": {
        "id": "MrCv2O8vXzMm"
      }
    },
    {
      "cell_type": "markdown",
      "source": [
        "## Sample Output 1:\n",
        ".c.d.f.r.c.s"
      ],
      "metadata": {
        "id": "hZZlj2dHX5lk"
      }
    },
    {
      "cell_type": "markdown",
      "source": [
        "## Sample Input 2:\n",
        "g"
      ],
      "metadata": {
        "id": "6ObfTJZYYGkN"
      }
    },
    {
      "cell_type": "markdown",
      "source": [
        "## Sample Output 2:\n",
        ".g"
      ],
      "metadata": {
        "id": "kVtvY9ZuYLXH"
      }
    },
    {
      "cell_type": "markdown",
      "source": [
        "## Sample Input 3:\n",
        "Ba"
      ],
      "metadata": {
        "id": "ccQKtwBHYgpw"
      }
    },
    {
      "cell_type": "markdown",
      "source": [
        "## Sample Output 3:\n",
        ".b"
      ],
      "metadata": {
        "id": "wNTjNC7wYndW"
      }
    },
    {
      "cell_type": "markdown",
      "source": [
        "## Sample Input 4:\n",
        "baa"
      ],
      "metadata": {
        "id": "MeoS1I6dY1lB"
      }
    },
    {
      "cell_type": "markdown",
      "source": [
        "## Sample Output 4:\n",
        ".b"
      ],
      "metadata": {
        "id": "JqTvJe06Y7Zh"
      }
    },
    {
      "cell_type": "code",
      "source": [
        "s = input().lower()\n",
        "\n",
        "# удалить все гласные, используя метод replace\n",
        "s = s.replace('o', '')\n",
        "s = s.replace('a', '')\n",
        "s = s.replace('y', '')\n",
        "s = s.replace('e', '')\n",
        "s = s.replace('u', '')\n",
        "s = s.replace('i', '')\n",
        "s = '.'.join(s) # появляется разделитель между каждыми символами строки\n",
        "print('.' + s) # ставится '.' перед 1м символом\n"
      ],
      "metadata": {
        "colab": {
          "base_uri": "https://localhost:8080/"
        },
        "id": "6WjRWI-VXwNm",
        "outputId": "49f6bcbb-f47e-459c-ed65-18d3f290ec9c"
      },
      "execution_count": 16,
      "outputs": [
        {
          "output_type": "stream",
          "name": "stdout",
          "text": [
            "baa\n",
            "b\n"
          ]
        }
      ]
    },
    {
      "cell_type": "code",
      "source": [
        "s = input()\n",
        "for i in 'oayeui':\n",
        "    s = s.replace(i, '')\n",
        "s = '.'.join(s)\n",
        "print('.' + s)"
      ],
      "metadata": {
        "colab": {
          "base_uri": "https://localhost:8080/"
        },
        "id": "HMRElRINfhP-",
        "outputId": "05b52b5d-24b7-4a62-d0ff-4f14ce7846d1"
      },
      "execution_count": 18,
      "outputs": [
        {
          "output_type": "stream",
          "name": "stdout",
          "text": [
            "baa\n",
            ".b\n"
          ]
        }
      ]
    }
  ]
}
