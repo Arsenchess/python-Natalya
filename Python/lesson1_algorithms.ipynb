{
  "nbformat": 4,
  "nbformat_minor": 0,
  "metadata": {
    "colab": {
      "provenance": [],
      "authorship_tag": "ABX9TyOfRgPYFGbDV4Rsgv6q//3R",
      "include_colab_link": true
    },
    "kernelspec": {
      "name": "python3",
      "display_name": "Python 3"
    },
    "language_info": {
      "name": "python"
    }
  },
  "cells": [
    {
      "cell_type": "markdown",
      "metadata": {
        "id": "view-in-github",
        "colab_type": "text"
      },
      "source": [
        "<a href=\"https://colab.research.google.com/github/ProNatalya/python/blob/main/lesson1_algorithms.ipynb\" target=\"_parent\"><img src=\"https://colab.research.google.com/assets/colab-badge.svg\" alt=\"Open In Colab\"/></a>"
      ]
    },
    {
      "cell_type": "markdown",
      "source": [
        "- Время работы алгоритма = 'количество шагов'(time complexity)(CPU)\n",
        "- Space complexity (ОЗУ)\n"
      ],
      "metadata": {
        "id": "fnndHzz7GnB7"
      }
    },
    {
      "cell_type": "markdown",
      "source": [
        "## 0(n) => 0(n^2) - экспоненциальный рост"
      ],
      "metadata": {
        "id": "e0cuxDJIHJR_"
      }
    },
    {
      "cell_type": "markdown",
      "source": [
        "# BigO"
      ],
      "metadata": {
        "id": "_x24lyU1JKJ9"
      }
    },
    {
      "cell_type": "markdown",
      "source": [
        "## 2 в различных степенях - значения !!!!!"
      ],
      "metadata": {
        "id": "Orzv8-S4IrIb"
      }
    },
    {
      "cell_type": "code",
      "source": [
        "# *range = i for i in range"
      ],
      "metadata": {
        "id": "OwVVLiiRHcHl"
      },
      "execution_count": null,
      "outputs": []
    },
    {
      "cell_type": "code",
      "execution_count": 1,
      "metadata": {
        "id": "XnWjYSRc6X72",
        "colab": {
          "base_uri": "https://localhost:8080/"
        },
        "outputId": "783ce303-89ec-4488-d574-f604fa9b6685"
      },
      "outputs": [
        {
          "output_type": "execute_result",
          "data": {
            "text/plain": [
              "9"
            ]
          },
          "metadata": {},
          "execution_count": 1
        }
      ],
      "source": [
        "list1 = [1,5,9,7]\n",
        "max(list1)"
      ]
    },
    {
      "cell_type": "code",
      "source": [
        "def max(num):\n",
        "  maximum  = list1[0]\n",
        "  for number in list1:\n",
        "      if number > maximum:\n",
        "        maximum  = number\n",
        "  return maximum\n",
        "print(max(list1))\n",
        "\n"
      ],
      "metadata": {
        "colab": {
          "base_uri": "https://localhost:8080/"
        },
        "id": "4VZFsbOr7ALy",
        "outputId": "49986afc-1621-4802-b96e-99c5f89edec4"
      },
      "execution_count": 3,
      "outputs": [
        {
          "output_type": "stream",
          "name": "stdout",
          "text": [
            "9\n"
          ]
        }
      ]
    },
    {
      "cell_type": "code",
      "source": [
        "list2 = [*range(100000)]\n",
        "\n",
        "num1, *num2 = [1,3,4,56,7,8]\n",
        "num2\n",
        "# help( range(100000))\n",
        "# max(list2)"
      ],
      "metadata": {
        "colab": {
          "base_uri": "https://localhost:8080/"
        },
        "id": "x3SCjG4x6-Nl",
        "outputId": "3f35cfd8-f9b1-477a-8ab7-87d6f93d92fb"
      },
      "execution_count": 4,
      "outputs": [
        {
          "output_type": "execute_result",
          "data": {
            "text/plain": [
              "[3, 4, 56, 7, 8]"
            ]
          },
          "metadata": {},
          "execution_count": 4
        }
      ]
    },
    {
      "cell_type": "code",
      "source": [
        "def max1(num):\n",
        "  maximum = num[0]\n",
        "  for number in num: #0(n)\n",
        "    if number > maximum:\n",
        "      maximum = number\n",
        "  return maximum\n",
        "max1(list2)\n",
        "\n",
        "# max() # 0(n)\n"
      ],
      "metadata": {
        "colab": {
          "base_uri": "https://localhost:8080/"
        },
        "id": "hvDap8iI_Zq_",
        "outputId": "eb395962-2606-4137-e327-991de5f64062"
      },
      "execution_count": 10,
      "outputs": [
        {
          "output_type": "execute_result",
          "data": {
            "text/plain": [
              "99999"
            ]
          },
          "metadata": {},
          "execution_count": 10
        }
      ]
    },
    {
      "cell_type": "markdown",
      "source": [
        "# Алгоритм бинарного поиска\n",
        "Binary search\n",
        "Двоичное дерево поиска(BST(tree))"
      ],
      "metadata": {
        "id": "3x3cpBPdHnbi"
      }
    },
    {
      "cell_type": "markdown",
      "source": [
        "## Data structure"
      ],
      "metadata": {
        "id": "1nrR6iWxI_oB"
      }
    }
  ]
}
