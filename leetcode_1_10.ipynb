{
  "nbformat": 4,
  "nbformat_minor": 0,
  "metadata": {
    "colab": {
      "provenance": [],
      "authorship_tag": "ABX9TyPbUg39s1y8zQ/Jxw7uccsF",
      "include_colab_link": true
    },
    "kernelspec": {
      "name": "python3",
      "display_name": "Python 3"
    },
    "language_info": {
      "name": "python"
    }
  },
  "cells": [
    {
      "cell_type": "markdown",
      "metadata": {
        "id": "view-in-github",
        "colab_type": "text"
      },
      "source": [
        "<a href=\"https://colab.research.google.com/github/ProNatalya/python/blob/main/leetcode_1_10.ipynb\" target=\"_parent\"><img src=\"https://colab.research.google.com/assets/colab-badge.svg\" alt=\"Open In Colab\"/></a>"
      ]
    },
    {
      "cell_type": "markdown",
      "source": [
        "# 1512. Number of Good Pairs\n",
        "## https://leetcode.com/problems/number-of-good-pairs/description/"
      ],
      "metadata": {
        "id": "W26bK80XrG_c"
      }
    },
    {
      "cell_type": "code",
      "execution_count": 8,
      "metadata": {
        "id": "hVWacpk0q1tU"
      },
      "outputs": [],
      "source": [
        "class Solution:\n",
        "    def numIdenticalPairs(self, nums): #list([int])) -> int:\n",
        "        nums = []\n",
        "        result  = 0\n",
        "        for i in range(len(nums)):\n",
        "            for j in range(i + 1, len(nums)):\n",
        "                if nums[i] == nums[j]:\n",
        "                    result += 1\n",
        "        return result"
      ]
    },
    {
      "cell_type": "markdown",
      "source": [
        "# 2469. Convert the Temperature\n",
        "## https://leetcode.com/problems/convert-the-temperature/submissions/"
      ],
      "metadata": {
        "id": "MG0I7n2uBiQ-"
      }
    },
    {
      "cell_type": "code",
      "source": [
        "class Solution:\n",
        "    def convertTemperature(self, celsius: float):\n",
        "        kelvin=celsius+273.15\n",
        "        fahrenheit=celsius*1.80+32.00\n",
        "        list=[kelvin,fahrenheit]\n",
        "        return list"
      ],
      "metadata": {
        "id": "xyYnnN46B47N"
      },
      "execution_count": 6,
      "outputs": []
    },
    {
      "cell_type": "markdown",
      "source": [
        "# 2769. Find the Maximum Achievable Number\n",
        "## https://leetcode.com/problems/find-the-maximum-achievable-number/description/"
      ],
      "metadata": {
        "id": "zarvGqOYFZHO"
      }
    },
    {
      "cell_type": "code",
      "source": [
        "class Solution:\n",
        "      def theMaximumAchievableX(self, num: int, t: int) -> int:\n",
        "              return num + 2 * t"
      ],
      "metadata": {
        "id": "SLMHbolnE3ra"
      },
      "execution_count": 9,
      "outputs": []
    },
    {
      "cell_type": "markdown",
      "source": [
        "# 2413. Smallest Even Multiple\n",
        "## https://leetcode.com/problems/smallest-even-multiple/description/"
      ],
      "metadata": {
        "id": "2HJuagY9HyI-"
      }
    },
    {
      "cell_type": "code",
      "source": [
        "class Solution:\n",
        "\tdef smallestEvenMultiple(self, n: int):\n",
        "               if n % 2 == 0:\n",
        "                   return n\n",
        "               else:\n",
        "                   return 2*n"
      ],
      "metadata": {
        "id": "ldrbYYROHpth"
      },
      "execution_count": 12,
      "outputs": []
    },
    {
      "cell_type": "markdown",
      "source": [
        "# 2235. Add Two Integers\n",
        "## https://leetcode.com/problems/add-two-integers/description/"
      ],
      "metadata": {
        "id": "Wwn-kuz8MKge"
      }
    },
    {
      "cell_type": "code",
      "source": [
        "class Solution:\n",
        "      def sum(self, num1: int, num2: int) -> int:\n",
        "              return num1 + num2"
      ],
      "metadata": {
        "id": "3QTq_Md0MDfQ"
      },
      "execution_count": 13,
      "outputs": []
    }
  ]
}