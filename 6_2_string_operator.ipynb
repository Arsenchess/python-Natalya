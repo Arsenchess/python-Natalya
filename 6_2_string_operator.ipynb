{
  "nbformat": 4,
  "nbformat_minor": 0,
  "metadata": {
    "colab": {
      "provenance": [],
      "gpuType": "T4",
      "authorship_tag": "ABX9TyMNNVgpuSucwR/qvTaXboJs",
      "include_colab_link": true
    },
    "kernelspec": {
      "name": "python3",
      "display_name": "Python 3"
    },
    "language_info": {
      "name": "python"
    },
    "accelerator": "GPU"
  },
  "cells": [
    {
      "cell_type": "markdown",
      "metadata": {
        "id": "view-in-github",
        "colab_type": "text"
      },
      "source": [
        "<a href=\"https://colab.research.google.com/github/ProNatalya/python/blob/main/6_2_string_operator.ipynb\" target=\"_parent\"><img src=\"https://colab.research.google.com/assets/colab-badge.svg\" alt=\"Open In Colab\"/></a>"
      ]
    },
    {
      "cell_type": "markdown",
      "source": [
        "# В Python строковый тип данных имеет название str (сокращение от string — струна, ряд)."
      ],
      "metadata": {
        "id": "uz-uEKie2r16"
      }
    },
    {
      "cell_type": "code",
      "source": [
        "\n",
        "s1 = 'Python rocks!'\n",
        "s2 = \"Python rocks!\""
      ],
      "metadata": {
        "id": "0Gij6uEz21uz"
      },
      "execution_count": null,
      "outputs": []
    },
    {
      "cell_type": "code",
      "source": [
        "# s = input()  # переменная s имеет строковый тип str"
      ],
      "metadata": {
        "id": "IbRVsauj3Ech"
      },
      "execution_count": null,
      "outputs": []
    },
    {
      "cell_type": "code",
      "source": [
        "# s1 = ''   # пустая строка\n",
        "# s2 = ' '  # строка состоящая из одного символа пробела"
      ],
      "metadata": {
        "id": "BX4Rj-kS3b-W"
      },
      "execution_count": null,
      "outputs": []
    },
    {
      "cell_type": "code",
      "source": [
        "#Не стоит путать пустую строку и строку состоящую из одного символа пробела. Это абсолютно разные строки."
      ],
      "metadata": {
        "id": "2G6C2mr33MTg"
      },
      "execution_count": null,
      "outputs": []
    },
    {
      "cell_type": "markdown",
      "source": [
        "# Длина строки\n",
        "## Длиной строки называется количество символов из которых она состоит.\n",
        "## Чтобы посчитать длину строки используем встроенную функцию len() (от слова length – длина)."
      ],
      "metadata": {
        "id": "awDIFePw3u_T"
      }
    },
    {
      "cell_type": "code",
      "source": [
        "s1 = 'abcdef'\n",
        "length1 = len(s1) # считаем длину строки из переменной s1\n",
        "length2 = len('Python rocks!')  # считаем длину строкового литерала\n",
        "print(length1)\n",
        "print(length2)"
      ],
      "metadata": {
        "colab": {
          "base_uri": "https://localhost:8080/"
        },
        "id": "gCa5ymgo38R5",
        "outputId": "d354e88a-63af-499f-a830-d839fd27c6cc"
      },
      "execution_count": null,
      "outputs": [
        {
          "output_type": "stream",
          "name": "stdout",
          "text": [
            "6\n",
            "13\n"
          ]
        }
      ]
    },
    {
      "cell_type": "markdown",
      "source": [
        "## При подсчете длины строки считаются все символы, включая пробелы."
      ],
      "metadata": {
        "id": "PIb4Kn0t4HUy"
      }
    },
    {
      "cell_type": "markdown",
      "source": [
        "# Преобразование чисел в строку\n",
        "## Для преобразования строки к числу мы использовали функции int() и float().\n",
        "## Для обратного преобразования, то есть из числа в строку мы используем функцию str():"
      ],
      "metadata": {
        "id": "u59KmO1X4Mhm"
      }
    },
    {
      "cell_type": "code",
      "source": [
        "num1 = 1777    # целое число\n",
        "num2 = 17.77   # число с плавающей точкой\n",
        "s1 = str(num1) # преобразовали целое число в строку '1777'\n",
        "s2 = str(num2) # преобразовали число с плавающей точкой в строку '17.77'"
      ],
      "metadata": {
        "id": "A7dvwtGK4a7L"
      },
      "execution_count": null,
      "outputs": []
    },
    {
      "cell_type": "markdown",
      "source": [
        "## Иногда работать со строками намного проще, чем с числами. Даже если в условии задачи сказано, что дается число, нам ничто не мешает работать с ним как со строкой."
      ],
      "metadata": {
        "id": "5VHF__GU4k0L"
      }
    },
    {
      "cell_type": "markdown",
      "source": [
        "# Конкатенация строк\n",
        "## Строки, как и числа, можно складывать. Операция сложения строк называется конкатенацией или сцеплением."
      ],
      "metadata": {
        "id": "Bsp2K6eF4yMi"
      }
    },
    {
      "cell_type": "code",
      "source": [
        "s1 = 'ab' + 'bc'\n",
        "s2 = 'bc' + 'ab'\n",
        "s3 = s1 + s2 + '!!'\n",
        "print(s1)\n",
        "print(s2)\n",
        "print(s3)"
      ],
      "metadata": {
        "colab": {
          "base_uri": "https://localhost:8080/"
        },
        "id": "gC66XSez4-dw",
        "outputId": "7c8ffe8f-fbb7-44ec-b6f7-55e35a929c5d"
      },
      "execution_count": null,
      "outputs": [
        {
          "output_type": "stream",
          "name": "stdout",
          "text": [
            "abbc\n",
            "bcab\n",
            "abbcbcab!!\n"
          ]
        }
      ]
    },
    {
      "cell_type": "markdown",
      "source": [
        "# Операция сложения строк в отличие от операции сложения чисел не является коммутативной, то есть, от перестановки мест слагаемых-строк результат меняется!\n",
        "## С помощью конкатенации строк можно эмулировать вывод данных, который раньше мы делали используя необязательные параметры sep и end.\n",
        "## Следующие две строки кода делают одно и то же:"
      ],
      "metadata": {
        "id": "ypls3gmy5GO3"
      }
    },
    {
      "cell_type": "code",
      "source": [
        "print('a', 'b', 'c', sep='*', end='!')\n",
        "print()  # переход на новую строку\n",
        "print('a' + '*' + 'b' + '*' + 'c' + '!')"
      ],
      "metadata": {
        "id": "UDIGhf3b5UyL",
        "outputId": "56055a52-38d5-4412-c097-f0e6fa9a4509",
        "colab": {
          "base_uri": "https://localhost:8080/"
        }
      },
      "execution_count": null,
      "outputs": [
        {
          "output_type": "stream",
          "name": "stdout",
          "text": [
            "a*b*c!\n",
            "a*b*c!\n"
          ]
        }
      ]
    },
    {
      "cell_type": "markdown",
      "source": [
        "# Умножение строки на число\n",
        "## В Python также можно умножать строку на число. Такой оператор повторяет строку указанное количество раз."
      ],
      "metadata": {
        "id": "nsebUfqZ76Yp"
      }
    },
    {
      "cell_type": "code",
      "source": [
        "s = 'Hi' * 4\n",
        "print(s)"
      ],
      "metadata": {
        "id": "PV-e8rXn8XzK"
      },
      "execution_count": null,
      "outputs": []
    },
    {
      "cell_type": "markdown",
      "source": [
        "# Оператор умножения строки на число (repetition) очень удобен на практике. Например, мы хотим распечатать строку состоящую из 75 символов -. Мы можем это сделать с помощью кода:"
      ],
      "metadata": {
        "id": "yGgnr7gx8hlv"
      }
    },
    {
      "cell_type": "code",
      "source": [
        "print('-' * 75)"
      ],
      "metadata": {
        "colab": {
          "base_uri": "https://localhost:8080/"
        },
        "id": "ZR4t3p5f8kVl",
        "outputId": "51c347f5-fb1a-45b6-b814-fc1252c1534b"
      },
      "execution_count": null,
      "outputs": [
        {
          "output_type": "stream",
          "name": "stdout",
          "text": [
            "---------------------------------------------------------------------------\n"
          ]
        }
      ]
    },
    {
      "cell_type": "markdown",
      "source": [
        "## Строку можно умножать на число, но нельзя умножать на строку."
      ],
      "metadata": {
        "id": "0pWuEiJi8tj3"
      }
    },
    {
      "cell_type": "markdown",
      "source": [
        "# Тройные кавычки в Python используются для многострочного (multiline) текста."
      ],
      "metadata": {
        "id": "EyBQJZnB9Acs"
      }
    },
    {
      "cell_type": "code",
      "source": [
        "text = '''Python is an interpreted, high-level, general-purpose programming language.\n",
        "Created by Guido van Rossum and first released in 1991, Python design\n",
        "philosophy emphasizes code readability with its notable use of significant whitespace.'''\n",
        "print(text)"
      ],
      "metadata": {
        "colab": {
          "base_uri": "https://localhost:8080/"
        },
        "id": "G5S4CrIk9J1W",
        "outputId": "cbdbe4dd-7582-4272-83e8-3498e99fbb45"
      },
      "execution_count": null,
      "outputs": [
        {
          "output_type": "stream",
          "name": "stdout",
          "text": [
            "Python is an interpreted, high-level, general-purpose programming language.\n",
            "Created by Guido van Rossum and first released in 1991, Python design \n",
            "philosophy emphasizes code readability with its notable use of significant whitespace.\n"
          ]
        }
      ]
    },
    {
      "cell_type": "code",
      "source": [
        "s1 = 'Мы можем использовать в одиночных кавычках двойные кавычки \"Война и мир\"'\n",
        "s2 = \"Мы можем использовать в двойных кавычках одиночные кавычки 'Война и мир'\"\n",
        "print(s1)\n",
        "print(s2)"
      ],
      "metadata": {
        "colab": {
          "base_uri": "https://localhost:8080/"
        },
        "id": "h9Ioxw3A9bVA",
        "outputId": "f52ff104-b9ed-432c-a655-fc82aeb03ac8"
      },
      "execution_count": null,
      "outputs": [
        {
          "output_type": "stream",
          "name": "stdout",
          "text": [
            "Мы можем использовать в одиночных кавычках двойные кавычки \"Война и мир\"\n",
            "Мы можем использовать в двойных кавычках одиночные кавычки 'Война и мир'\n"
          ]
        }
      ]
    },
    {
      "cell_type": "code",
      "source": [
        "mystr = 'да'\n",
        "mystr = mystr + 'нет'\n",
        "mystr = mystr + 'да'\n",
        "print(mystr)"
      ],
      "metadata": {
        "colab": {
          "base_uri": "https://localhost:8080/"
        },
        "id": "2_ZmHrDWYOly",
        "outputId": "b970dbc0-6745-4a48-a411-e8f48c17317d"
      },
      "execution_count": null,
      "outputs": [
        {
          "output_type": "stream",
          "name": "stdout",
          "text": [
            "данетда\n"
          ]
        }
      ]
    },
    {
      "cell_type": "code",
      "source": [
        "str1 = '1'\n",
        "str2 = str1 + '2' + str1\n",
        "str3 = str2 + '3' + str2\n",
        "str4 = str3 + '4' + str3\n",
        "print(str4)"
      ],
      "metadata": {
        "id": "hIa_lNStYYY4"
      },
      "execution_count": null,
      "outputs": []
    },
    {
      "cell_type": "code",
      "source": [
        "mystr = '123' * 3 + '456' * 2 + '789' * 1\n",
        "print(mystr)"
      ],
      "metadata": {
        "colab": {
          "base_uri": "https://localhost:8080/"
        },
        "id": "Na4Aqp9AY1pY",
        "outputId": "bfb74589-d559-4fe8-d11c-e8dcd9ca210a"
      },
      "execution_count": null,
      "outputs": [
        {
          "output_type": "stream",
          "name": "stdout",
          "text": [
            "123123123456456789\n"
          ]
        }
      ]
    },
    {
      "cell_type": "code",
      "source": [
        "# напишите программу, которая выводит текст:\n",
        "# \"Python is a great language!\", said Fred. \"I don't ever remember\n",
        "# having this much fun before.\"\n",
        "#Примечание. Используйте конкатенацию строк.\n",
        "print('\"Python is a great language!\"' + ', said Fred.' + ' \"' +\n",
        "      \"I don't ever remember having this much fun before.\" + '\"')\n"
      ],
      "metadata": {
        "colab": {
          "base_uri": "https://localhost:8080/"
        },
        "id": "5A3iZ2zYY9ED",
        "outputId": "4977e06d-acdf-442c-f039-91c79b9043c8"
      },
      "execution_count": null,
      "outputs": [
        {
          "output_type": "stream",
          "name": "stdout",
          "text": [
            "\"Python is a great language!\", said Fred. \"I don't ever remember having this much fun before.\"\n"
          ]
        }
      ]
    },
    {
      "cell_type": "code",
      "source": [
        "s1 = '\"Python is a great language!\", said Fred. '\n",
        "s2 = '\"I don'\n",
        "s3 = \"'\"\n",
        "s4 = 't ever remember having this much fun before.\"'\n",
        "\n",
        "res = s1 + s2 + s3 + s4\n",
        "print(res)"
      ],
      "metadata": {
        "id": "c1e2HvQEZMZ_"
      },
      "execution_count": null,
      "outputs": []
    },
    {
      "cell_type": "code",
      "source": [
        "print('''\"Python is a great language!\", said Fred. \"I don't ever remember having this much fun before.\"''')\n"
      ],
      "metadata": {
        "colab": {
          "base_uri": "https://localhost:8080/"
        },
        "id": "6qpszHMWZSVG",
        "outputId": "b4421c2b-f547-44bf-8ba6-d0ec509783f4"
      },
      "execution_count": null,
      "outputs": [
        {
          "output_type": "stream",
          "name": "stdout",
          "text": [
            "\"Python is a great language!\", said Fred. \"I don't ever remember having\n",
            "      this much fun before.\"\n"
          ]
        }
      ]
    },
    {
      "cell_type": "code",
      "source": [
        "\n",
        "firstname = input()\n",
        "lastname = input()\n",
        "print('Hello '+ firstname + ' '+ lastname +'! ' + 'You have just delved into Python')"
      ],
      "metadata": {
        "colab": {
          "base_uri": "https://localhost:8080/"
        },
        "id": "Qjth2JuDVzIc",
        "outputId": "5a4fa775-2687-471d-f642-5214032f3a0e"
      },
      "execution_count": null,
      "outputs": [
        {
          "output_type": "stream",
          "name": "stdout",
          "text": [
            "Josh\n",
            "Smith\n",
            "Hello Josh Smith! You have just delved into Python\n"
          ]
        }
      ]
    },
    {
      "cell_type": "code",
      "source": [
        "# длина строки тоже целое число. И нужен обязательный перевод в строку)\n",
        "footballname = input()\n",
        "lenght1 = str(len(footballname))\n",
        "print('Футбольная команда '+ footballname + ' имеет длину ' + lenght1 + ' символов')"
      ],
      "metadata": {
        "colab": {
          "base_uri": "https://localhost:8080/"
        },
        "id": "TE17D6K2ZwdM",
        "outputId": "07e6c73a-4359-480b-c6c9-454c936de006"
      },
      "execution_count": null,
      "outputs": [
        {
          "output_type": "stream",
          "name": "stdout",
          "text": [
            "Dinamo\n",
            "Футбольная команда Dinamo имеет длину 6 символов\n"
          ]
        }
      ]
    },
    {
      "cell_type": "markdown",
      "source": [
        "# Задача Три города\n",
        "Даны названия трех городов. Напишите программу, которая определяет самое короткое и самое длинное название города.\n",
        "Формат входных данных\n",
        "На вход программе подаётся названия трех городов, каждое на отдельной строке.\n",
        "Формат выходных данных\n",
        "Программа должна вывести самое короткое и длинное название города, каждое на отдельной строке.\n",
        "Примечание. Гарантируется, что длины названий всех трех городов различны.\n",
        "Тестовые данные 🟢\n",
        "\n",
        "\n",
        "\n",
        "\n",
        "\n",
        "\n",
        "\n",
        "\n",
        "\n",
        "\n",
        "\n",
        "\n",
        "\n",
        "\n",
        "Sample Input 1:\n",
        "Москва\n",
        "Санкт-Петербург\n",
        "Екатеринбург\n",
        "Sample Output 1:\n",
        "Москва\n",
        "Санкт-Петербург\n",
        "Sample Input 2:\n",
        "Нью-Йорк\n",
        "Вашингтон\n",
        "Чикаго\n",
        "Sample Output 2:\n",
        "Чикаго\n",
        "Вашингтон\n",
        "Sample Input 3:\n",
        "Париж\n",
        "Марсель\n",
        "Лион\n",
        "Sample Output 3:\n",
        "Лион\n",
        "Марсель"
      ],
      "metadata": {
        "id": "sSM9yBoEfwHg"
      }
    },
    {
      "cell_type": "code",
      "source": [
        "\n",
        "city1 = input()\n",
        "city2 = input()\n",
        "city3 = input()\n",
        "length1 = len(city1)\n",
        "length2 = len(city2)\n",
        "length3 = len(city3)\n",
        "a = max(length1, length2, length3)\n",
        "b = min(length1, length2, length3)\n",
        "if b == length1:\n",
        "    print(city1)\n",
        "elif b == length2:\n",
        "    print(city2)\n",
        "elif b == length3:\n",
        "    print(city3)\n",
        "if a == length1:\n",
        "    print(city1)\n",
        "elif a == length2:\n",
        "    print(city2)\n",
        "elif a == length3:\n",
        "    print(city3)"
      ],
      "metadata": {
        "id": "30Wa-iHWgIXx"
      },
      "execution_count": null,
      "outputs": []
    },
    {
      "cell_type": "markdown",
      "source": [
        "# Задача Арифметические строки\n",
        "Вводятся 3 строки в случайном порядке. Напишите программу, которая выясняет можно ли из длин этих строк построить возрастающую арифметическую прогрессию.\n",
        "\n",
        "Формат входных данных\n",
        "На вход программе подаются три строки, каждая на отдельной строке.\n",
        "\n",
        "Формат выходных данных\n",
        "Программа должна вывести строку «YES», если из длин введенных слов можно построить арифметическую прогрессию, «NO» в ином случае.\n",
        "\n",
        "Примечание. Почитать про арифметическую прогрессию можно по ссылке.\n",
        "\n",
        "Тестовые данные 🟢\n",
        "Sample Input 1:\n",
        "\n",
        "abc\n",
        "a\n",
        "abcde\n",
        "Sample Output 1:\n",
        "\n",
        "YES\n",
        "Sample Input 2:\n",
        "\n",
        "2434\n",
        "90099\n",
        "21\n",
        "Sample Output 2:\n",
        "\n",
        "NO\n",
        "Sample Input 3:\n",
        "\n",
        "aaaaaaaaaa10\n",
        "1111111Nm\n",
        "22222r\n",
        "Sample Output 3:\n",
        "\n",
        "YES"
      ],
      "metadata": {
        "id": "qfjqMDWL1NIr"
      }
    },
    {
      "cell_type": "code",
      "source": [
        "a = len(input())\n",
        "b = len(input())\n",
        "c = len(input())\n",
        "d = min(a, b, c)\n",
        "e = max(a, b, c)\n",
        "f = (a+b+c) - d - e\n",
        "if e - f == f - d:\n",
        "    print('YES')\n",
        "else:\n",
        "    print('NO')"
      ],
      "metadata": {
        "id": "lKGpipEu1oH1",
        "colab": {
          "base_uri": "https://localhost:8080/",
          "height": 669
        },
        "outputId": "623238ac-24dd-4e2f-dfe9-1b711a69a7d3"
      },
      "execution_count": null,
      "outputs": [
        {
          "output_type": "error",
          "ename": "KeyboardInterrupt",
          "evalue": "ignored",
          "traceback": [
            "\u001b[0;31m---------------------------------------------------------------------------\u001b[0m",
            "\u001b[0;31mKeyboardInterrupt\u001b[0m                         Traceback (most recent call last)",
            "\u001b[0;32m<ipython-input-9-d88a4c314a40>\u001b[0m in \u001b[0;36m<cell line: 1>\u001b[0;34m()\u001b[0m\n\u001b[0;32m----> 1\u001b[0;31m \u001b[0ma\u001b[0m \u001b[0;34m=\u001b[0m \u001b[0mlen\u001b[0m\u001b[0;34m(\u001b[0m\u001b[0minput\u001b[0m\u001b[0;34m(\u001b[0m\u001b[0;34m)\u001b[0m\u001b[0;34m)\u001b[0m\u001b[0;34m\u001b[0m\u001b[0;34m\u001b[0m\u001b[0m\n\u001b[0m\u001b[1;32m      2\u001b[0m \u001b[0mb\u001b[0m \u001b[0;34m=\u001b[0m \u001b[0mlen\u001b[0m\u001b[0;34m(\u001b[0m\u001b[0minput\u001b[0m\u001b[0;34m(\u001b[0m\u001b[0;34m)\u001b[0m\u001b[0;34m)\u001b[0m\u001b[0;34m\u001b[0m\u001b[0;34m\u001b[0m\u001b[0m\n\u001b[1;32m      3\u001b[0m \u001b[0mc\u001b[0m \u001b[0;34m=\u001b[0m \u001b[0mlen\u001b[0m\u001b[0;34m(\u001b[0m\u001b[0minput\u001b[0m\u001b[0;34m(\u001b[0m\u001b[0;34m)\u001b[0m\u001b[0;34m)\u001b[0m\u001b[0;34m\u001b[0m\u001b[0;34m\u001b[0m\u001b[0m\n\u001b[1;32m      4\u001b[0m \u001b[0md\u001b[0m \u001b[0;34m=\u001b[0m \u001b[0mmin\u001b[0m\u001b[0;34m(\u001b[0m\u001b[0ma\u001b[0m\u001b[0;34m,\u001b[0m \u001b[0mb\u001b[0m\u001b[0;34m,\u001b[0m \u001b[0mc\u001b[0m\u001b[0;34m)\u001b[0m\u001b[0;34m\u001b[0m\u001b[0;34m\u001b[0m\u001b[0m\n\u001b[1;32m      5\u001b[0m \u001b[0me\u001b[0m \u001b[0;34m=\u001b[0m \u001b[0mmax\u001b[0m\u001b[0;34m(\u001b[0m\u001b[0ma\u001b[0m\u001b[0;34m,\u001b[0m \u001b[0mb\u001b[0m\u001b[0;34m,\u001b[0m \u001b[0mc\u001b[0m\u001b[0;34m)\u001b[0m\u001b[0;34m\u001b[0m\u001b[0;34m\u001b[0m\u001b[0m\n",
            "\u001b[0;32m/usr/local/lib/python3.10/dist-packages/ipykernel/kernelbase.py\u001b[0m in \u001b[0;36mraw_input\u001b[0;34m(self, prompt)\u001b[0m\n\u001b[1;32m    849\u001b[0m                 \u001b[0;34m\"raw_input was called, but this frontend does not support input requests.\"\u001b[0m\u001b[0;34m\u001b[0m\u001b[0;34m\u001b[0m\u001b[0m\n\u001b[1;32m    850\u001b[0m             )\n\u001b[0;32m--> 851\u001b[0;31m         return self._input_request(str(prompt),\n\u001b[0m\u001b[1;32m    852\u001b[0m             \u001b[0mself\u001b[0m\u001b[0;34m.\u001b[0m\u001b[0m_parent_ident\u001b[0m\u001b[0;34m,\u001b[0m\u001b[0;34m\u001b[0m\u001b[0;34m\u001b[0m\u001b[0m\n\u001b[1;32m    853\u001b[0m             \u001b[0mself\u001b[0m\u001b[0;34m.\u001b[0m\u001b[0m_parent_header\u001b[0m\u001b[0;34m,\u001b[0m\u001b[0;34m\u001b[0m\u001b[0;34m\u001b[0m\u001b[0m\n",
            "\u001b[0;32m/usr/local/lib/python3.10/dist-packages/ipykernel/kernelbase.py\u001b[0m in \u001b[0;36m_input_request\u001b[0;34m(self, prompt, ident, parent, password)\u001b[0m\n\u001b[1;32m    893\u001b[0m             \u001b[0;32mexcept\u001b[0m \u001b[0mKeyboardInterrupt\u001b[0m\u001b[0;34m:\u001b[0m\u001b[0;34m\u001b[0m\u001b[0;34m\u001b[0m\u001b[0m\n\u001b[1;32m    894\u001b[0m                 \u001b[0;31m# re-raise KeyboardInterrupt, to truncate traceback\u001b[0m\u001b[0;34m\u001b[0m\u001b[0;34m\u001b[0m\u001b[0m\n\u001b[0;32m--> 895\u001b[0;31m                 \u001b[0;32mraise\u001b[0m \u001b[0mKeyboardInterrupt\u001b[0m\u001b[0;34m(\u001b[0m\u001b[0;34m\"Interrupted by user\"\u001b[0m\u001b[0;34m)\u001b[0m \u001b[0;32mfrom\u001b[0m \u001b[0;32mNone\u001b[0m\u001b[0;34m\u001b[0m\u001b[0;34m\u001b[0m\u001b[0m\n\u001b[0m\u001b[1;32m    896\u001b[0m             \u001b[0;32mexcept\u001b[0m \u001b[0mException\u001b[0m \u001b[0;32mas\u001b[0m \u001b[0me\u001b[0m\u001b[0;34m:\u001b[0m\u001b[0;34m\u001b[0m\u001b[0;34m\u001b[0m\u001b[0m\n\u001b[1;32m    897\u001b[0m                 \u001b[0mself\u001b[0m\u001b[0;34m.\u001b[0m\u001b[0mlog\u001b[0m\u001b[0;34m.\u001b[0m\u001b[0mwarning\u001b[0m\u001b[0;34m(\u001b[0m\u001b[0;34m\"Invalid Message:\"\u001b[0m\u001b[0;34m,\u001b[0m \u001b[0mexc_info\u001b[0m\u001b[0;34m=\u001b[0m\u001b[0;32mTrue\u001b[0m\u001b[0;34m)\u001b[0m\u001b[0;34m\u001b[0m\u001b[0;34m\u001b[0m\u001b[0m\n",
            "\u001b[0;31mKeyboardInterrupt\u001b[0m: Interrupted by user"
          ]
        }
      ]
    },
    {
      "cell_type": "code",
      "source": [
        "a = len(input())\n",
        "b = len(input())\n",
        "c = len(input())\n",
        "if ((a + b + c)%3) == 0:\n",
        "    print('YES')\n",
        "else:\n",
        "    print('NO')"
      ],
      "metadata": {
        "id": "f3792eZL2Gdi",
        "colab": {
          "base_uri": "https://localhost:8080/",
          "height": 495
        },
        "outputId": "0ca355a9-9164-469b-cf63-f5ae032d4576"
      },
      "execution_count": null,
      "outputs": [
        {
          "output_type": "error",
          "ename": "KeyboardInterrupt",
          "evalue": "ignored",
          "traceback": [
            "\u001b[0;31m---------------------------------------------------------------------------\u001b[0m",
            "\u001b[0;31mKeyboardInterrupt\u001b[0m                         Traceback (most recent call last)",
            "\u001b[0;32m<ipython-input-7-235bdb39ee00>\u001b[0m in \u001b[0;36m<cell line: 1>\u001b[0;34m()\u001b[0m\n\u001b[0;32m----> 1\u001b[0;31m \u001b[0ma\u001b[0m \u001b[0;34m=\u001b[0m \u001b[0mlen\u001b[0m\u001b[0;34m(\u001b[0m\u001b[0minput\u001b[0m\u001b[0;34m(\u001b[0m\u001b[0;34m)\u001b[0m\u001b[0;34m)\u001b[0m\u001b[0;34m\u001b[0m\u001b[0;34m\u001b[0m\u001b[0m\n\u001b[0m\u001b[1;32m      2\u001b[0m \u001b[0mb\u001b[0m \u001b[0;34m=\u001b[0m \u001b[0mlen\u001b[0m\u001b[0;34m(\u001b[0m\u001b[0minput\u001b[0m\u001b[0;34m(\u001b[0m\u001b[0;34m)\u001b[0m\u001b[0;34m)\u001b[0m\u001b[0;34m\u001b[0m\u001b[0;34m\u001b[0m\u001b[0m\n\u001b[1;32m      3\u001b[0m \u001b[0mc\u001b[0m \u001b[0;34m=\u001b[0m \u001b[0mlen\u001b[0m\u001b[0;34m(\u001b[0m\u001b[0minput\u001b[0m\u001b[0;34m(\u001b[0m\u001b[0;34m)\u001b[0m\u001b[0;34m)\u001b[0m\u001b[0;34m\u001b[0m\u001b[0;34m\u001b[0m\u001b[0m\n\u001b[1;32m      4\u001b[0m \u001b[0;32mif\u001b[0m \u001b[0;34m(\u001b[0m\u001b[0;34m(\u001b[0m\u001b[0ma\u001b[0m \u001b[0;34m+\u001b[0m \u001b[0mb\u001b[0m \u001b[0;34m+\u001b[0m \u001b[0mc\u001b[0m\u001b[0;34m)\u001b[0m\u001b[0;34m%\u001b[0m\u001b[0;36m3\u001b[0m\u001b[0;34m)\u001b[0m \u001b[0;34m==\u001b[0m \u001b[0;36m0\u001b[0m\u001b[0;34m:\u001b[0m\u001b[0;34m\u001b[0m\u001b[0;34m\u001b[0m\u001b[0m\n\u001b[1;32m      5\u001b[0m     \u001b[0mprint\u001b[0m\u001b[0;34m(\u001b[0m\u001b[0;34m'YES'\u001b[0m\u001b[0;34m)\u001b[0m\u001b[0;34m\u001b[0m\u001b[0;34m\u001b[0m\u001b[0m\n",
            "\u001b[0;32m/usr/local/lib/python3.10/dist-packages/ipykernel/kernelbase.py\u001b[0m in \u001b[0;36mraw_input\u001b[0;34m(self, prompt)\u001b[0m\n\u001b[1;32m    849\u001b[0m                 \u001b[0;34m\"raw_input was called, but this frontend does not support input requests.\"\u001b[0m\u001b[0;34m\u001b[0m\u001b[0;34m\u001b[0m\u001b[0m\n\u001b[1;32m    850\u001b[0m             )\n\u001b[0;32m--> 851\u001b[0;31m         return self._input_request(str(prompt),\n\u001b[0m\u001b[1;32m    852\u001b[0m             \u001b[0mself\u001b[0m\u001b[0;34m.\u001b[0m\u001b[0m_parent_ident\u001b[0m\u001b[0;34m,\u001b[0m\u001b[0;34m\u001b[0m\u001b[0;34m\u001b[0m\u001b[0m\n\u001b[1;32m    853\u001b[0m             \u001b[0mself\u001b[0m\u001b[0;34m.\u001b[0m\u001b[0m_parent_header\u001b[0m\u001b[0;34m,\u001b[0m\u001b[0;34m\u001b[0m\u001b[0;34m\u001b[0m\u001b[0m\n",
            "\u001b[0;32m/usr/local/lib/python3.10/dist-packages/ipykernel/kernelbase.py\u001b[0m in \u001b[0;36m_input_request\u001b[0;34m(self, prompt, ident, parent, password)\u001b[0m\n\u001b[1;32m    893\u001b[0m             \u001b[0;32mexcept\u001b[0m \u001b[0mKeyboardInterrupt\u001b[0m\u001b[0;34m:\u001b[0m\u001b[0;34m\u001b[0m\u001b[0;34m\u001b[0m\u001b[0m\n\u001b[1;32m    894\u001b[0m                 \u001b[0;31m# re-raise KeyboardInterrupt, to truncate traceback\u001b[0m\u001b[0;34m\u001b[0m\u001b[0;34m\u001b[0m\u001b[0m\n\u001b[0;32m--> 895\u001b[0;31m                 \u001b[0;32mraise\u001b[0m \u001b[0mKeyboardInterrupt\u001b[0m\u001b[0;34m(\u001b[0m\u001b[0;34m\"Interrupted by user\"\u001b[0m\u001b[0;34m)\u001b[0m \u001b[0;32mfrom\u001b[0m \u001b[0;32mNone\u001b[0m\u001b[0;34m\u001b[0m\u001b[0;34m\u001b[0m\u001b[0m\n\u001b[0m\u001b[1;32m    896\u001b[0m             \u001b[0;32mexcept\u001b[0m \u001b[0mException\u001b[0m \u001b[0;32mas\u001b[0m \u001b[0me\u001b[0m\u001b[0;34m:\u001b[0m\u001b[0;34m\u001b[0m\u001b[0;34m\u001b[0m\u001b[0m\n\u001b[1;32m    897\u001b[0m                 \u001b[0mself\u001b[0m\u001b[0;34m.\u001b[0m\u001b[0mlog\u001b[0m\u001b[0;34m.\u001b[0m\u001b[0mwarning\u001b[0m\u001b[0;34m(\u001b[0m\u001b[0;34m\"Invalid Message:\"\u001b[0m\u001b[0;34m,\u001b[0m \u001b[0mexc_info\u001b[0m\u001b[0;34m=\u001b[0m\u001b[0;32mTrue\u001b[0m\u001b[0;34m)\u001b[0m\u001b[0;34m\u001b[0m\u001b[0;34m\u001b[0m\u001b[0m\n",
            "\u001b[0;31mKeyboardInterrupt\u001b[0m: Interrupted by user"
          ]
        }
      ]
    },
    {
      "cell_type": "markdown",
      "source": [
        "# Оператор in\n",
        "В Python есть специальный оператор in, который позволяет проверить, что одна строка находится внутри другой."
      ],
      "metadata": {
        "id": "g4GRHRxd11ns"
      }
    },
    {
      "cell_type": "code",
      "source": [
        "s = input()\n",
        "if 'a' in s:\n",
        "    print('Введенная строка содержит символ а')\n",
        "else:\n",
        "    print('Введенная строка не содержит символ а')"
      ],
      "metadata": {
        "id": "-1a7lYu_2AGN"
      },
      "execution_count": null,
      "outputs": []
    },
    {
      "cell_type": "code",
      "source": [
        "s = input()\n",
        "if '.' not in s:\n",
        "    print('Введенная строка не содержит символа точки')\n",
        "else:\n",
        "    print('Содержит')"
      ],
      "metadata": {
        "id": "TY25xlIH2MDX",
        "colab": {
          "base_uri": "https://localhost:8080/"
        },
        "outputId": "e1d7aff6-bf3e-4b0f-eeb5-05c2a0b9b4ce"
      },
      "execution_count": null,
      "outputs": [
        {
          "output_type": "stream",
          "name": "stdout",
          "text": [
            "Привет мир \n",
            "Введенная строка не содержит символа точки\n"
          ]
        }
      ]
    },
    {
      "cell_type": "code",
      "source": [
        "# С помощью оператора in мы можем упростить следующий код, проверяющий,\n",
        "# что в переменной s находится один из 5 символов a, e, i, o, u:\n",
        "s = input()\n",
        "if s == 'a' or s == 'e' or s == 'i' or s == 'o' or s == 'u':\n",
        "    print('YES')\n",
        "else:\n",
        "    print('NO')"
      ],
      "metadata": {
        "colab": {
          "base_uri": "https://localhost:8080/"
        },
        "id": "hXn45VVV2Xrf",
        "outputId": "243b42a2-20c0-45c6-ba43-487b1ea7567c"
      },
      "execution_count": null,
      "outputs": [
        {
          "output_type": "stream",
          "name": "stdout",
          "text": [
            "Start up\n",
            "NO\n"
          ]
        }
      ]
    },
    {
      "cell_type": "code",
      "source": [
        "# if len(s) == 1 and s in 'aeiou':\n",
        "    print('YES')"
      ],
      "metadata": {
        "id": "epngJHygPHFz"
      },
      "execution_count": null,
      "outputs": []
    },
    {
      "cell_type": "markdown",
      "source": [
        "## Если строка s1 содержится в строке s2, то говорят, что строка s1 является подстрокой для строки s2. Другими словами, оператор in определяет является ли одна строка подстрокой другой."
      ],
      "metadata": {
        "id": "mbJoo8oBPXhN"
      }
    },
    {
      "cell_type": "markdown",
      "source": [
        "# Задача Цвет настроения синий\n",
        "Напишите программу, которая считывает одну строку, после чего выводит «YES», если во введенной строке есть подстрока «синий» и «NO» - в противном случае.\n",
        "Формат входных данных\n",
        "На вход программе подается одна строка.\n",
        "Формат выходных данных\n",
        "Программа должна вывести текст в соответствии с условием задачи.\n",
        "Примечание. Учитывайте регистр при поиске подстроки «синий».\n",
        "Тестовые данные 🟢\n",
        "Sample Input 1:\n",
        "Какой хороший день!\n",
        "Sample Output 1:\n",
        "NO\n",
        "Sample Input 2:\n",
        "Как называется этот красивый синий камень в Вашем кольце?\n",
        "Sample Output 2:\n",
        "YES\n",
        "Sample Input 3:\n",
        "Разглядите синий густой цвет.\n",
        "Sample Output 3:\n",
        "YES"
      ],
      "metadata": {
        "id": "KsAUIqNoQMIl"
      }
    },
    {
      "cell_type": "code",
      "source": [
        "s = input()\n",
        "if 'синий' in s:\n",
        "    print('YES')\n",
        "else:\n",
        "    print('NO')"
      ],
      "metadata": {
        "id": "jwgZm4JaQ97l",
        "colab": {
          "base_uri": "https://localhost:8080/"
        },
        "outputId": "fcc62663-5411-4fe6-fe32-22a4e7a11904"
      },
      "execution_count": null,
      "outputs": [
        {
          "output_type": "stream",
          "name": "stdout",
          "text": [
            "Синий иней\n",
            "NO\n"
          ]
        }
      ]
    },
    {
      "cell_type": "markdown",
      "source": [
        "# Отдыхаем ли?\n",
        "Напишите программу, которая считывает одну строку, после чего выводит «YES», если в введённой строке есть подстрока «суббота» или «воскресенье», и «NO» в противном случае.\n",
        "Формат входных данных\n",
        "На вход программе подается одна строка.\n",
        "Формат выходных данных\n",
        "Программа должна вывести текст в соответствии с условием задачи.\n",
        "Тестовые данные 🟢\n",
        "Sample Input 1:\n",
        "Какой сегодня день недели?\n",
        "Sample Output 1:\n",
        "NO\n",
        "Sample Input 2:\n",
        "Была суббота, и ему хотелось поскорее уехать домой.\n",
        "Sample Output 2:\n",
        "YES\n",
        "Sample Input 3:\n",
        "День в воскресенье выдался тёплым и солнечным.\n",
        "Sample Output 3:\n",
        "YES"
      ],
      "metadata": {
        "id": "aZfF2MfoRLCg"
      }
    },
    {
      "cell_type": "code",
      "source": [
        "s = input()\n",
        "if 'суббота' in s or 'воскресенье' in s:\n",
        "    print('YES')\n",
        "else:\n",
        "    print('NO')"
      ],
      "metadata": {
        "id": "xT76kKYJT3_P"
      },
      "execution_count": null,
      "outputs": []
    },
    {
      "cell_type": "markdown",
      "source": [
        "# Задача Корректный email\n",
        "Будем считать email адрес корректным, если в нем есть символ собачки (@) и точки. Напишите программу проверяющую корректность email адреса.\n",
        "Формат входных данных\n",
        "На вход программе подаётся одна строка – email адрес.\n",
        "Формат выходных данных\n",
        "Программа должна вывести строку «YES», если email адрес является корректным и «NO» в ином случае.\n",
        "Примечание. Наличие символов @ и . недостаточно для корректности email адреса, однако их отсутствие гарантировано влечёт за собой неверный email.\n",
        "Тестовые данные 🟢\n",
        "Sample Input 1:\n",
        "aaaa@bbb.com\n",
        "Sample Output 1:\n",
        "YES\n",
        "Sample Input 2:\n",
        "aaaa@bbbcom\n",
        "Sample Output 2:\n",
        "NO\n",
        "Sample Input 3:\n",
        "qwerty.com\n",
        "Sample Output 3:\n",
        "NO"
      ],
      "metadata": {
        "id": "6ELg05dXUHlv"
      }
    },
    {
      "cell_type": "code",
      "source": [
        "\n",
        "email = input()\n",
        "if '@' in email and '.' in email:\n",
        "    print('YES')\n",
        "else:\n",
        "    print('NO')"
      ],
      "metadata": {
        "colab": {
          "base_uri": "https://localhost:8080/"
        },
        "id": "MVAK_wdqoLur",
        "outputId": "6b031502-0dd7-4932-f5fd-c703f8c981cb"
      },
      "execution_count": null,
      "outputs": [
        {
          "output_type": "stream",
          "name": "stdout",
          "text": [
            "abs@dgh.com\n",
            "YES\n"
          ]
        }
      ]
    }
  ]
}