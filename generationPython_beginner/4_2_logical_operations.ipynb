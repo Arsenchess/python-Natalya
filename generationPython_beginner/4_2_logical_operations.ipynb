{
  "nbformat": 4,
  "nbformat_minor": 0,
  "metadata": {
    "colab": {
      "provenance": [],
      "authorship_tag": "ABX9TyON9BIhK8+D9MjdWTFFgBap",
      "include_colab_link": true
    },
    "kernelspec": {
      "name": "python3",
      "display_name": "Python 3"
    },
    "language_info": {
      "name": "python"
    }
  },
  "cells": [
    {
      "cell_type": "markdown",
      "metadata": {
        "id": "view-in-github",
        "colab_type": "text"
      },
      "source": [
        "<a href=\"https://colab.research.google.com/github/ProNatalya/python/blob/main/4_2_logical_operations.ipynb\" target=\"_parent\"><img src=\"https://colab.research.google.com/assets/colab-badge.svg\" alt=\"Open In Colab\"/></a>"
      ]
    },
    {
      "cell_type": "markdown",
      "source": [
        "# Тема урока: логические операторы\n"
      ],
      "metadata": {
        "id": "oWUPiPJKdbbZ"
      }
    },
    {
      "cell_type": "code",
      "source": [
        "# and — логическое умножение;\n",
        "# or — логическое сложение;\n",
        "# not — логическое отрицание."
      ],
      "metadata": {
        "id": "57Cv8R68dhm0"
      },
      "execution_count": null,
      "outputs": []
    },
    {
      "cell_type": "markdown",
      "source": [
        "# пример1 Предположим, мы написали программу для учеников от двенадцати лет, которые учатся по крайней мере в 7 классе. Доступ к ней тем, кто младше, надо запретить. Следующий код решает поставленную задачу:"
      ],
      "metadata": {
        "id": "6FaThTiheQ9m"
      }
    },
    {
      "cell_type": "code",
      "source": [
        "age = int(input('Сколько вам лет?: '))\n",
        "grade = int(input('В каком классе вы учитесь?: '))\n",
        "if age >= 12 and grade >= 7:\n",
        "    print('Доступ разрешен.')\n",
        "else:\n",
        "    print('Доступ запрещен.')"
      ],
      "metadata": {
        "colab": {
          "base_uri": "https://localhost:8080/"
        },
        "id": "atf5_Q8Md6zZ",
        "outputId": "5cb3e1c0-eec0-451b-bba1-25e21991e6d5"
      },
      "execution_count": null,
      "outputs": [
        {
          "output_type": "stream",
          "name": "stdout",
          "text": [
            "Сколько вам лет?: 98\n",
            "В каком классе вы учитесь?: 0\n",
            "Доступ запрещен.\n"
          ]
        }
      ]
    },
    {
      "cell_type": "code",
      "source": [
        "# блок кода выполняется только при выполнении обоих условий одновременно!"
      ],
      "metadata": {
        "id": "ASiwojKweY7J"
      },
      "execution_count": null,
      "outputs": []
    },
    {
      "cell_type": "code",
      "source": [
        "age = int(input('Сколько вам лет?: '))\n",
        "grade = int(input('В каком классе вы учитесь?: '))\n",
        "city = input('В каком городе вы живете?: ')\n",
        "if age >= 12 and grade >= 7 and city == 'Москва':\n",
        "    print('Доступ разрешен.')\n",
        "else:\n",
        "    print('Доступ запрещен.')"
      ],
      "metadata": {
        "id": "fgRVCKC2ervO"
      },
      "execution_count": null,
      "outputs": []
    },
    {
      "cell_type": "markdown",
      "source": [
        " # Оператор or"
      ],
      "metadata": {
        "id": "XQgy5TMAeyHG"
      }
    },
    {
      "cell_type": "code",
      "source": [
        "# для выполнения блока кода достаточно выполнения хотя бы одного из условий."
      ],
      "metadata": {
        "id": "wadY9gl6e72o"
      },
      "execution_count": null,
      "outputs": []
    },
    {
      "cell_type": "code",
      "source": [
        "city = input('В каком городе вы живете?: ')\n",
        "if city == 'Москва' or city == 'Санкт-Петербург' or city == 'Екатеринбург':\n",
        "    print('Доступ разрешен.')\n",
        "else:\n",
        "    print('Доступ запрещен.')"
      ],
      "metadata": {
        "id": "JIC_XdMqfBl2"
      },
      "execution_count": null,
      "outputs": []
    },
    {
      "cell_type": "code",
      "source": [
        "# Мы можем использовать оба логических оператора одновременно:\n",
        "# Такой код проверяет, что возраст учеников от двенадцати лет и учатся\n",
        "# они по крайней мере в 7 классе и живут в Москве или Санкт-Петербурге.\n"
      ],
      "metadata": {
        "id": "mX7iuiJSfO-0"
      },
      "execution_count": null,
      "outputs": []
    },
    {
      "cell_type": "code",
      "source": [
        "age = int(input('Сколько вам лет?: '))\n",
        "grade = int(input('В каком классе вы учитесь?: '))\n",
        "city = input('В каком городе вы живете?: ')\n",
        "if age >= 12 and grade >= 7 and (city == 'Москва' or city == 'Санкт-Петербург'):\n",
        "    print('Доступ разрешен.')\n",
        "else:\n",
        "    print('Доступ запрещен.')\n"
      ],
      "metadata": {
        "id": "m-svdembfYGp"
      },
      "execution_count": null,
      "outputs": []
    },
    {
      "cell_type": "markdown",
      "source": [
        "# Оператор not\n",
        "\n",
        "## Оператор not позволяет инвертировать (т.е. заменить на противоположный) результат логического выражения."
      ],
      "metadata": {
        "id": "As1d_Sh9iRpe"
      }
    },
    {
      "cell_type": "code",
      "source": [
        "age = int(input('Сколько вам лет?: '))\n",
        "if not (age < 12):\n",
        "    print('Доступ разрешен.')\n",
        "else:\n",
        "    print('Доступ запрещен.')"
      ],
      "metadata": {
        "id": "c2tI5oxOii51"
      },
      "execution_count": null,
      "outputs": []
    },
    {
      "cell_type": "markdown",
      "source": [
        "# полностью эквивалентен коду ниже:"
      ],
      "metadata": {
        "id": "_PRhTHyYiwDE"
      }
    },
    {
      "cell_type": "code",
      "source": [
        "age = int(input('Сколько вам лет?: '))\n",
        "if age >= 12:\n",
        "    print('Доступ разрешен.')\n",
        "else:\n",
        "    print('Доступ запрещен.')"
      ],
      "metadata": {
        "id": "YIuFkaXSi5De"
      },
      "execution_count": null,
      "outputs": []
    },
    {
      "cell_type": "markdown",
      "source": [
        "# Приоритеты логических операторов\n",
        "## в первую очередь выполняется логическое отрицание not;\n",
        "## далее выполняется логическое умножение and;\n",
        "## далее выполняется логическое сложение or."
      ],
      "metadata": {
        "id": "QR6VsAKSjE7S"
      }
    },
    {
      "cell_type": "markdown",
      "source": [
        "# Для явного указания порядка выполнения условных операторов используют скобки"
      ],
      "metadata": {
        "id": "nE2wtRimjbhe"
      }
    },
    {
      "cell_type": "markdown",
      "source": [
        "# Оба оператора, and и or, вычисляются по укороченной схеме."
      ],
      "metadata": {
        "id": "PHPGmyIhkHKK"
      }
    },
    {
      "cell_type": "code",
      "source": [
        "5 > 100 and 10 > 0\n",
        "# вычисляется только выражение 5 > 100. Оно ложно (потому что 5 не может\n",
        "# быть больше 100).\n"
      ],
      "metadata": {
        "colab": {
          "base_uri": "https://localhost:8080/"
        },
        "id": "7-vdS9Y6kRMx",
        "outputId": "f6215042-87c1-4c28-b0ab-50b1139dd1fc"
      },
      "execution_count": null,
      "outputs": [
        {
          "output_type": "execute_result",
          "data": {
            "text/plain": [
              "False"
            ]
          },
          "metadata": {},
          "execution_count": 3
        }
      ]
    },
    {
      "cell_type": "code",
      "source": [
        "# Аналогично работает оператор or\n",
        "# Если условие слева от оператора or истинное, то условие справа от него\n",
        "# не проверяется. Действительно, результат будет гарантированно\n",
        "# истинным и проверка оставшегося условия станет пустой тратой\n",
        "# процессорного времени.\n"
      ],
      "metadata": {
        "id": "jhgvpkcskrhO"
      },
      "execution_count": null,
      "outputs": []
    },
    {
      "cell_type": "code",
      "source": [
        "10 > 0 or 5 > 100\n",
        "# вычисляется только выражение 10 > 0. Оно правдвиво, значит результат\n",
        "# тоже правдив, т.к. нам достаточно одного правдивого выражения при\n",
        "# операторе or."
      ],
      "metadata": {
        "id": "aGk-wM4xlAJc"
      },
      "execution_count": null,
      "outputs": []
    },
    {
      "cell_type": "code",
      "source": [
        "# Test1\n",
        "True and False\t# ==> FALSE\n",
        "\n",
        "True and True\t  # ==> TRUE\n",
        "\n",
        "False and True\t# ==> FALSE\n",
        "\n",
        "False and False\t# ==> FALSE\n",
        "\n",
        "True or False\t  # ==> TRUE\n",
        "\n",
        "True or True\t  # ==> TRUE\n",
        "\n",
        "False or True\t  # ==> TRUE\n",
        "\n",
        "False or False\t# ==> FALSE\n",
        "\n",
        "not True\t      # ==> FALSE\n",
        "\n",
        "not False       # ==> TRUE\n"
      ],
      "metadata": {
        "colab": {
          "base_uri": "https://localhost:8080/"
        },
        "id": "zviy5gI7oYYP",
        "outputId": "b349e445-a14a-4595-8dea-6f877d12568e"
      },
      "execution_count": null,
      "outputs": [
        {
          "output_type": "execute_result",
          "data": {
            "text/plain": [
              "True"
            ]
          },
          "metadata": {},
          "execution_count": 4
        }
      ]
    },
    {
      "cell_type": "code",
      "source": [
        "# Test2\n",
        "# Какое значение будет выведено на экран после выполнения следующей\n",
        "# программы, если с клавиатуры введено число 7?\n",
        "a = int(input())\n",
        "if a >= 2 and a <= 17:\n",
        "    b = 3\n",
        "    p = a * a + b * b\n",
        "else:\n",
        "    b = 5\n",
        "p = (a + b) * (a + b)\n",
        "print(p)"
      ],
      "metadata": {
        "id": "w_w-gEBFrTtB"
      },
      "execution_count": null,
      "outputs": []
    },
    {
      "cell_type": "markdown",
      "source": [
        "# Test3 Принадлежность 1\n",
        "Напишите программу, которая принимает целое число x и определяет, принадлежит ли данное число указанному промежутку. (-1 до 17)\n",
        "\n",
        "Формат входных данных\n",
        "На вход программе подаётся целое число\n",
        "x.\n",
        "\n",
        "Формат выходных данных\n",
        "Программа должна вывести текст в соответствии с условием задачи.\n"
      ],
      "metadata": {
        "id": "sRKDF01vQOxx"
      }
    },
    {
      "cell_type": "code",
      "source": [
        "x = int(input())\n",
        "if -1 < x < 17:\n",
        "    print('Принадлежит')\n",
        "else:\n",
        "    print('Не принадлежит')"
      ],
      "metadata": {
        "id": "UnmtIO3CR_Tt"
      },
      "execution_count": null,
      "outputs": []
    },
    {
      "cell_type": "markdown",
      "source": [
        "# Test4 Принадлежность 2\n",
        "Напишите программу, которая принимает целое число x и определяет, принадлежит ли данное число указанным промежуткам.\n",
        "Формат входных данных\n",
        "На вход программе подаётся целое число x.\n",
        "Примечание. Если точка выколотая, то граница не включается, если точка закрашенная, то граница включается.\n",
        "\n",
        "Тестовые данные 🟢\n",
        "Sample Input 1:\n",
        "\n",
        "-44\n",
        "Sample Output 1:\n",
        "\n",
        "Принадлежит\n",
        "Sample Input 2:\n",
        "\n",
        "-3\n",
        "Sample Output 2:\n",
        "\n",
        "Принадлежит"
      ],
      "metadata": {
        "id": "TGTASrbnYgtB"
      }
    },
    {
      "cell_type": "code",
      "source": [
        "x = int(input())\n",
        "if x <= -3 or x >= 7:\n",
        "    print('Принадлежит')\n",
        "else:\n",
        "    print('Не принадлежит')"
      ],
      "metadata": {
        "id": "CWz5UvdoZqKw"
      },
      "execution_count": null,
      "outputs": []
    },
    {
      "cell_type": "markdown",
      "source": [
        "# Test5 Принадлежность 3\n",
        "Напишите программу, которая принимает целое число x и определяет, принадлежит ли данное число указанным промежуткам.\n",
        "\n",
        "Формат входных данных\n",
        "На вход программе подаётся целое число x.\n",
        "\n",
        "Формат выходных данных\n",
        "Программа должна вывести текст в соответствии с условием задачи.\n"
      ],
      "metadata": {
        "id": "sba_KHtta8hq"
      }
    },
    {
      "cell_type": "code",
      "source": [
        "x = int(input())\n",
        "if -30 < x <= -2 or 7 < x <= 25:\n",
        "    print('Принадлежит')\n",
        "else:\n",
        "    print('Не принадлежит')"
      ],
      "metadata": {
        "id": "BDzwbFRtbXQa",
        "colab": {
          "base_uri": "https://localhost:8080/"
        },
        "outputId": "4a8c5fdc-014e-4d80-f93b-5d8e92da2992"
      },
      "execution_count": null,
      "outputs": [
        {
          "output_type": "stream",
          "name": "stdout",
          "text": [
            "5\n",
            "Не принадлежит\n"
          ]
        }
      ]
    },
    {
      "cell_type": "markdown",
      "source": [
        "# Test6 Красивое число 🌶️\n",
        "Назовем число красивым, если оно является четырехзначным и делится нацело на\n",
        "7 или на 17. Напишите программу, определяющую, является ли введённое число красивым. Программа должна вывести «YES», если число является красивым, или «NO» в противном случае.\n",
        "\n",
        "Формат входных данных\n",
        "На вход программе подаётся натуральное число.\n",
        "\n",
        "Формат выходных данных\n",
        "Программа должна вывести текст в соответствии с условием задачи.\n",
        "\n",
        "Тестовые данные 🟢\n",
        "Sample Input 1:\n",
        "\n",
        "1043\n",
        "Sample Output 1:\n",
        "\n",
        "YES\n",
        "Sample Input 2:\n",
        "\n",
        "1045\n",
        "Sample Output 2:\n",
        "\n",
        "NO"
      ],
      "metadata": {
        "id": "QZZFD-uOecIt"
      }
    },
    {
      "cell_type": "code",
      "source": [
        "abcd = int(input())\n",
        "if 999 < abcd <= 9999 and (abcd % 7 == 0 or abcd % 17 == 0):\n",
        "    print('YES')\n",
        "else:\n",
        "    print('NO')\n"
      ],
      "metadata": {
        "colab": {
          "base_uri": "https://localhost:8080/"
        },
        "id": "RgQItbPae1cK",
        "outputId": "9c873c0c-ddf5-4727-97e1-e46cd337f483"
      },
      "execution_count": null,
      "outputs": [
        {
          "output_type": "stream",
          "name": "stdout",
          "text": [
            "7777\n",
            "YES\n"
          ]
        }
      ]
    },
    {
      "cell_type": "markdown",
      "source": [
        "# Test7 Неравенство треугольника\n",
        "Напишите программу, которая принимает три положительных числа и определяет, существует ли невырожденный треугольник с такими сторонами.\n",
        "\n",
        "Формат входных данных\n",
        "На вход программе подаётся три положительных целых числа.\n",
        "\n",
        "Формат выходных данных\n",
        "Программа должна вывести «YES» или «NO» в соответствии с условием задачи.\n",
        "\n",
        "Примечание. Треугольник существует, если выполняется неравенство треугольника:\n",
        "\n",
        "a+b>c\n",
        "a+c>b\n",
        "b+c>a,\n",
        "где\n",
        "\n",
        "a,b,c - стороны треугольника.\n",
        "\n",
        "Тестовые данные 🟢\n",
        "Sample Input 1:\n",
        "\n",
        "5\n",
        "2\n",
        "3\n",
        "Sample Output 1:\n",
        "\n",
        "NO\n",
        "Sample Input 2:\n",
        "\n",
        "3\n",
        "4\n",
        "6\n",
        "Sample Output 2:\n",
        "\n",
        "YES\n",
        "\n"
      ],
      "metadata": {
        "id": "minxrsKOjwYw"
      }
    },
    {
      "cell_type": "code",
      "source": [
        "a = int(input())\n",
        "b = int(input())\n",
        "c = int(input())\n",
        "if a + b > c and a + c > b and b + c > a:\n",
        "    print('YES')\n",
        "else:\n",
        "    print('NO')\n"
      ],
      "metadata": {
        "colab": {
          "base_uri": "https://localhost:8080/"
        },
        "id": "Xl61FtPVkgxQ",
        "outputId": "80d94571-f982-4801-ebd7-5c26f3da1a74"
      },
      "execution_count": null,
      "outputs": [
        {
          "output_type": "stream",
          "name": "stdout",
          "text": [
            "4\n",
            "6\n",
            "9\n",
            "YES\n"
          ]
        }
      ]
    },
    {
      "cell_type": "markdown",
      "source": [
        "# Test 8 Високосный год\n",
        "\n",
        "Напишите программу, которая определяет, является ли год с данным номером високосным. Если год является високосным, то выведите «YES», иначе выведите «NO».\n",
        "\n",
        "Год является високосным, если его номер кратен 4, но не кратен 100, или если он кратен 400.\n",
        "\n",
        "Формат входных данных\n",
        "На вход программе подаётся натуральное число.\n",
        "\n",
        "Формат выходных данных\n",
        "Программа должна вывести текст в соответствии с условием задачи.\n",
        "\n",
        "Тестовые данные 🟢\n",
        "Sample Input 1:\n",
        "\n",
        "2020\n",
        "Sample Output 1:\n",
        "\n",
        "YES\n",
        "Sample Input 2:\n",
        "\n",
        "2012\n",
        "Sample Output 2:\n",
        "\n",
        "YES\n",
        "\n"
      ],
      "metadata": {
        "id": "rcm0m3vepQ4B"
      }
    },
    {
      "cell_type": "code",
      "source": [
        "year = int(input())\n",
        "if year % 4 == 0 and (year % 400 == 0 or year % 100 != 0):\n",
        "    print('YES')\n",
        "else:\n",
        "    print('NO')\n"
      ],
      "metadata": {
        "id": "2GWnei5mqCF7",
        "outputId": "8db44956-cfec-443a-c275-6ea566f487cb",
        "colab": {
          "base_uri": "https://localhost:8080/"
        }
      },
      "execution_count": null,
      "outputs": [
        {
          "output_type": "stream",
          "name": "stdout",
          "text": [
            "2067\n",
            "NO\n"
          ]
        }
      ]
    },
    {
      "cell_type": "markdown",
      "source": [
        "# Test9 Ход ладьи\n",
        "Даны две различные клетки шахматной доски. Напишите программу, которая определяет, может ли ладья попасть с первой клетки на вторую одним ходом. Программа получает на вход четыре числа от 1 до 8 каждое, задающие номер столбца и номер строки сначала для первой клетки, потом для второй клетки. Программа должна вывести «YES», если из первой клетки ходом ладьи можно попасть во вторую, или «NO» в противном случае.\n",
        "\n",
        "Формат входных данных\n",
        "На вход программе подаётся четыре числа от 1 до 8.\n",
        "\n",
        "Формат выходных данных\n",
        "Программа должна вывести текст в соответствии с условием задачи.\n",
        "\n",
        "Примечание. Шахматная ладья ходит по горизонтали или вертикали.\n"
      ],
      "metadata": {
        "id": "sCICpjbDtyQi"
      }
    },
    {
      "cell_type": "code",
      "source": [
        "# У нас на входе 4 числа, пусть это будут x1, y1 - координаты текущего положения\n",
        "# шахматной фигуры, и x2, y2 - координаты будущего положения фигуры,\n",
        "# и чтобы ладья могла перейти на новую позицию,  хотя бы одна координата должна\n",
        "# совпадать: горизонталь или вертикаль, т.е. либо x, либо y.\n",
        "x0 = int(input())\n",
        "y0 = int(input())\n",
        "x1 = int(input())\n",
        "y1 = int(input())\n",
        "# xo == x1 - ладья движется по горизонтали,\n",
        "# y0 == y1 - ладья движется по вертикали\n",
        "if x0 == x1 or y0 == y1:\n",
        "    print('YES')\n",
        "else:\n",
        "    print('NO')\n"
      ],
      "metadata": {
        "id": "yo1hIXPEt_dI"
      },
      "execution_count": null,
      "outputs": []
    },
    {
      "cell_type": "markdown",
      "source": [
        "# Test 10 Ход короля 🌶️\n",
        "\n",
        "Даны две различные клетки шахматной доски. Напишите программу,  которая определяет, может ли король попасть с первой клетки на вторую одним ходом. Программа получает на вход четыре числа от 1 до 8 каждое, задающие номер столбца и номер строки сначала для первой клетки, потом для второй клетки. Программа должна вывести «YES», если из первой клетки ходом короля можно попасть во вторую, или «NO» в противном случае.\n",
        "\n",
        "Формат входных данных\n",
        "На вход программе подаётся четыре числа от 1 до 8.\n",
        "\n",
        "Формат выходных данных\n",
        "Программа должна вывести текст в соответствии с условием задачи.\n",
        "\n",
        "Примечание. Шахматный король ходит по горизонтали, вертикали и диагонали, но только на 1 клетку.\n",
        "\n",
        "Тестовые данные 🟢\n",
        "Sample Input 1:\n",
        "\n",
        "4\n",
        "4\n",
        "5\n",
        "5\n",
        "Sample Output 1:\n",
        "\n",
        "YES\n",
        "Sample Input 2:\n",
        "\n",
        "4\n",
        "4\n",
        "5\n",
        "4\n",
        "Sample Output 2:\n",
        "\n",
        "YES\n",
        "Sample Input 3:\n",
        "\n",
        "4\n",
        "4\n",
        "2\n",
        "4\n",
        "Sample Output 3:\n",
        "\n",
        "NO"
      ],
      "metadata": {
        "id": "ITWo7omhy02n"
      }
    },
    {
      "cell_type": "code",
      "source": [
        "# У вас по-сути две оси: Х и У.\n",
        "\n",
        "# 1. От новой координаты по Х отнимаете старую Х.\n",
        "\n",
        "# 2. От новой координаты по У отнимаете старую У.\n",
        "\n",
        "# 3. Значения, которые вы получили,\n",
        "# должны быть в пределах от -1 до 1 включительно.\n",
        "x0 = int(input())\n",
        "x1 = int(input())\n",
        "y0 = int(input())\n",
        "y1 = int(input())\n",
        "if -1 <= x1 - x0 <= 1 and -1 <= y1 - y0 <= 1:\n",
        "  print('YES')\n",
        "else:\n",
        "  print('NO')\n"
      ],
      "metadata": {
        "colab": {
          "base_uri": "https://localhost:8080/"
        },
        "id": "FDmyFd-3zRc0",
        "outputId": "8c0f0be1-9e9d-42f4-a127-938089269b7c"
      },
      "execution_count": null,
      "outputs": [
        {
          "output_type": "stream",
          "name": "stdout",
          "text": [
            "5\n",
            "7\n",
            "8\n",
            "9\n",
            "NO\n"
          ]
        }
      ]
    },
    {
      "cell_type": "code",
      "source": [],
      "metadata": {
        "id": "lurrNeOBzBgt"
      },
      "execution_count": null,
      "outputs": []
    }
  ]
}
