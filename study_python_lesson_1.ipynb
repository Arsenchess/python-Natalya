{
  "nbformat": 4,
  "nbformat_minor": 0,
  "metadata": {
    "colab": {
      "provenance": [],
      "authorship_tag": "ABX9TyPmkDu36ZhFe/oFMYIQeU9m",
      "include_colab_link": true
    },
    "kernelspec": {
      "name": "python3",
      "display_name": "Python 3"
    },
    "language_info": {
      "name": "python"
    }
  },
  "cells": [
    {
      "cell_type": "markdown",
      "metadata": {
        "id": "view-in-github",
        "colab_type": "text"
      },
      "source": [
        "<a href=\"https://colab.research.google.com/github/ProNatalya/python/blob/main/study_python_lesson_1.ipynb\" target=\"_parent\"><img src=\"https://colab.research.google.com/assets/colab-badge.svg\" alt=\"Open In Colab\"/></a>"
      ]
    },
    {
      "cell_type": "code",
      "execution_count": null,
      "metadata": {
        "id": "4pMh3lWwiiuQ"
      },
      "outputs": [],
      "source": [
        "#  создай список list1\n",
        "\n",
        "\n",
        "# добавь элемент используя метод append\n",
        "\n",
        "\n",
        "# выведина печать list1\n",
        "\n",
        "\n"
      ]
    },
    {
      "cell_type": "code",
      "source": [
        "# выведи тип объекта"
      ],
      "metadata": {
        "id": "oxFJFj7Oqyw8"
      },
      "execution_count": null,
      "outputs": []
    },
    {
      "cell_type": "code",
      "source": [
        "# выведи методы обьекта"
      ],
      "metadata": {
        "id": "UQtCcBlVrY1s"
      },
      "execution_count": null,
      "outputs": []
    },
    {
      "cell_type": "code",
      "source": [
        "# создай класс list, в теле напиши"
      ],
      "metadata": {
        "id": "hZ5qIgOMrm2B"
      },
      "execution_count": null,
      "outputs": []
    }
  ]
}