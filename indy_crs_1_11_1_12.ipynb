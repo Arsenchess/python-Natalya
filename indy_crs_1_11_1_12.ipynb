{
  "nbformat": 4,
  "nbformat_minor": 0,
  "metadata": {
    "colab": {
      "provenance": [],
      "authorship_tag": "ABX9TyOiW34Lx4ilLuoLxAtsLPU2",
      "include_colab_link": true
    },
    "kernelspec": {
      "name": "python3",
      "display_name": "Python 3"
    },
    "language_info": {
      "name": "python"
    }
  },
  "cells": [
    {
      "cell_type": "markdown",
      "metadata": {
        "id": "view-in-github",
        "colab_type": "text"
      },
      "source": [
        "<a href=\"https://colab.research.google.com/github/ProNatalya/python/blob/main/indy_crs_1_11_1_12.ipynb\" target=\"_parent\"><img src=\"https://colab.research.google.com/assets/colab-badge.svg\" alt=\"Open In Colab\"/></a>"
      ]
    },
    {
      "cell_type": "code",
      "execution_count": null,
      "metadata": {
        "id": "53aat__sFgRY"
      },
      "outputs": [],
      "source": [
        "## Функция trunc выполняет отсечение дробной части и оставляет\n",
        "# только целую часть числа\n",
        "\n",
        "# Функция floor выполняет округление вниз до ближайшего целого числа\n",
        "\n",
        "# Функция ceil выполняет округление вверх до ближайшего целого числа"
      ]
    },
    {
      "cell_type": "code",
      "source": [
        "# 1. Функция trunc - является частью модуля math. Отсекает дробную часть от числа.\n",
        "\n",
        "# Примеры:\n",
        "from math import trunc\n",
        "print(trunc(2.5)) # 2\n",
        "print(trunc(3.5)) # 3\n",
        "print(trunc(-2.5)) # -2\n",
        "\n",
        "print(int(2.5)) # 2\n",
        "print(int(3.5)) # 3\n",
        "print(int(-2.5)) # -2\n",
        "\n",
        "# 2. Функция floor - является частью модуля math. Округляет числа в сторону\n",
        "# минус бесконечности (вниз).\n",
        "# Примеры:\n",
        "from math import floor\n",
        "print(floor(2.5)) # 2\n",
        "print(floor(3.5)) # 3\n",
        "print(floor(-2.5)) # -3\n",
        "\n",
        "# 3. Функция ceil - является частью модуля math. Округляет числа в сторону\n",
        "# плюс бесконечности (вверх).\n",
        "# Примеры:\n",
        "from math import ceil\n",
        "print(ceil(2.5)) # 3\n",
        "print(ceil(3.5)) # 4\n",
        "print(ceil(-2.5)) # -2\n",
        "\n",
        "# 4. Функция round - является встроенной функцией, которую не нужно подгружать.\n",
        "# Она похожа на \"школьное округление\", но у неё есть своя особенность:\n",
        "# Числа с дробной частью от 0 до 0.5 (не включая 0.5) - round округляет вниз.\n",
        "print(round(5.3)) # 5\n",
        "# Числа с дробной частью от 0.5 (не включая 0.5) до 1 - round округляет вверх.\n",
        "print(round(6.7)) # 7\n",
        "# Числа с дробной частью 0.5 - round округляет до ближайшего целого чётного числа.\n",
        "print(round(12.5)) # 12\n",
        "print(round(13.5)) # 14\n",
        "\n",
        "# \"школьное\" округление (если дробная часть от 0 до 0.5 (не включая 0.5)\n",
        "# - округление вниз, а если от 0.5 до 1 - округление вверх) -\n",
        "# это Российский стандарт:\n",
        "\n",
        "from math import floor, ceil\n",
        "N = float(input())\n",
        "if N - int(N) < 0.5:\n",
        "    print(floor(N))\n",
        "else:\n",
        "    print(ceil(N))"
      ],
      "metadata": {
        "colab": {
          "base_uri": "https://localhost:8080/"
        },
        "id": "2_17dsSAGTjR",
        "outputId": "e5c342a5-bf9b-4bbd-fa2f-a44be5093676"
      },
      "execution_count": null,
      "outputs": [
        {
          "output_type": "stream",
          "name": "stdout",
          "text": [
            "2\n",
            "3\n",
            "-2\n",
            "2\n",
            "3\n",
            "-2\n",
            "2\n",
            "3\n",
            "-3\n",
            "3\n",
            "4\n",
            "-2\n",
            "5\n",
            "7\n",
            "12\n",
            "14\n",
            "2.5\n",
            "3\n"
          ]
        }
      ]
    },
    {
      "cell_type": "code",
      "source": [
        "# После вечеринки компания из N человек хочет добраться домой с помощью такси.\n",
        "# Максимальное количество человек, которое может уместиться в машину равно 4.\n",
        "# Сколько машин придется вызвать ребятам, чтобы все могли уехать?\n",
        "\n",
        "# Программа получает на вход положительное целое число N - количество\n",
        "# человек в компании.\n",
        "from math import ceil\n",
        "N = int(input())\n",
        "print(ceil(N / 4))"
      ],
      "metadata": {
        "colab": {
          "base_uri": "https://localhost:8080/"
        },
        "id": "mmNN1sbw4U6y",
        "outputId": "eecb2c84-b94c-45f5-e321-cc50ef15a2c4"
      },
      "execution_count": null,
      "outputs": [
        {
          "output_type": "stream",
          "name": "stdout",
          "text": [
            "9\n",
            "3\n"
          ]
        }
      ]
    },
    {
      "cell_type": "markdown",
      "source": [
        "# Ремонт\n",
        "Ваш любимый дядя – директор фирмы, которая делает евроремонты в офисах. В связи с финансово-экономическим кризисом, дядюшка решил оптимизировать свое предприятие.\n",
        "\n",
        "Давно ходят слухи, что бригадир в дядюшкиной фирме покупает лишнее количество стройматериалов, а остатки использует для отделки своей новой дачи. Ваш дядя заинтересовался, сколько в действительности банок краски необходимо для покраски стен в офисе длиной L метров, шириной – W и высотой – H, если одной банки хватает на 16м2 , а размерами дверей и окон можно пренебречь? Заказов много, поэтому дядя попросил написать программу, которая будет все это считать.\n",
        "\n",
        "Входные данные\n",
        "Программа получает на вход три натуральных числа L, W, H – длину, ширину и высоту офиса в метрах соответственно, каждое из которых не превышает 1000.\n",
        "\n",
        "Выходные данные\n",
        "Выведите на экран одно целое число – минимальное количество банок краски, необходимых для покраски стен в офисе."
      ],
      "metadata": {
        "id": "7Sw-EgYOD2eo"
      }
    },
    {
      "cell_type": "code",
      "source": [
        "from math import ceil\n",
        "L, W, H = map(int, input().split())\n",
        "S = (L * H) * 2 + (H * W) * 2 #здесь площадь 4 стен\n",
        "num = S / 16 #кол-во банок\n",
        "print(ceil(num))\n",
        "# 5 6 7\n",
        "# 8 8 2"
      ],
      "metadata": {
        "colab": {
          "base_uri": "https://localhost:8080/"
        },
        "id": "LNDX8LoPEBar",
        "outputId": "b4a19bf1-6d59-4cd2-9d49-1951180b426b"
      },
      "execution_count": null,
      "outputs": [
        {
          "output_type": "stream",
          "name": "stdout",
          "text": [
            "5 6 7\n",
            "10\n"
          ]
        }
      ]
    },
    {
      "cell_type": "markdown",
      "source": [
        "# 1.12 Деление нацело и по остатку отрицательных чисел в Python"
      ],
      "metadata": {
        "id": "LpG0dVlHGajw"
      }
    },
    {
      "cell_type": "markdown",
      "source": [
        "## Первый перевод руководства по Питону, с которого и скопированы все популярные учебники, делал тот, кто арифметику 4-5 класса ещё относительно помнил, но ни в английский, ни тем более в программирование ни в зуб ногой. В школьной арифметике действительно есть целочисленное деление и действительно в нём правила \"не такие\". Потому что это не арифметика, это Python. И не \"целочисленное деление\", а ceil division, ДЕЛЕНИЕ С ОКРУГЛЕНИЕМ В МЕНЬШУЮ СТОРОНУ, что по звучанию, конечно, похоже, но ни то же самое, это специальная функция. Всё просто: результат округляется до ближайшего меньшего целого (а \"минус пять\" меньше, чем \"минус четыре\"). При этом не забываем правило, что \"минус на минус даёт плюс\":\n",
        "\n"
      ],
      "metadata": {
        "id": "mkqmaJAPF8bY"
      }
    },
    {
      "cell_type": "code",
      "source": [
        "print(7 // 2)\n",
        "print(-7 // 2)\n",
        "print(7 // -2)\n",
        "print(-7 // -2)\n"
      ],
      "metadata": {
        "colab": {
          "base_uri": "https://localhost:8080/"
        },
        "id": "Mf_W8oZuGyTf",
        "outputId": "7e4eace6-24c6-4e31-c997-c89fc2d57bcc"
      },
      "execution_count": null,
      "outputs": [
        {
          "output_type": "stream",
          "name": "stdout",
          "text": [
            "3\n",
            "-4\n",
            "-4\n",
            "3\n"
          ]
        }
      ]
    },
    {
      "cell_type": "markdown",
      "source": [
        "## А то, которое \"деление с остатком\" -- это module division. Независимо от знака делимого \"остаток\" всегда имеет такой же знак, как у делителя, а само деление происходит без каких-либо специальных финтов ушами, по модулю:\n",
        "\n"
      ],
      "metadata": {
        "id": "SC1poEKuHqA_"
      }
    },
    {
      "cell_type": "code",
      "source": [
        "print(7 % 2) # 1\n",
        "print(-7 % 2) # 1\n",
        "print(7 % -2) # -1\n",
        "print(-7 % -2) # -1\n"
      ],
      "metadata": {
        "colab": {
          "base_uri": "https://localhost:8080/"
        },
        "id": "EQThsMhVS7tb",
        "outputId": "c86f2bc6-f6da-40b1-aa7f-f13cd77c158c"
      },
      "execution_count": null,
      "outputs": [
        {
          "output_type": "stream",
          "name": "stdout",
          "text": [
            "1\n",
            "1\n",
            "-1\n",
            "-1\n"
          ]
        }
      ]
    },
    {
      "cell_type": "code",
      "source": [
        "# @title\n",
        "print(-53 // 5) # -11\n",
        "print( -47 % -8) # -7\n",
        "print(-150 % 3) # 0\n",
        "print(-150 / 3) # -50.0\n",
        "print(-150 // 3) # -50\n",
        "print(-50 * 3) # -150\n",
        "print(-150 - -150) # 0"
      ],
      "metadata": {
        "colab": {
          "base_uri": "https://localhost:8080/"
        },
        "cellView": "form",
        "id": "4RA48QEXUiOy",
        "outputId": "80765b1c-56d7-41f3-91f9-1b99c247428d"
      },
      "execution_count": null,
      "outputs": [
        {
          "output_type": "stream",
          "name": "stdout",
          "text": [
            "-11\n",
            "-7\n",
            "0\n",
            "-50.0\n",
            "-50\n",
            "-150\n",
            "0\n"
          ]
        }
      ]
    }
  ]
}