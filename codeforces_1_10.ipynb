{
  "nbformat": 4,
  "nbformat_minor": 0,
  "metadata": {
    "colab": {
      "provenance": [],
      "gpuType": "T4",
      "authorship_tag": "ABX9TyO52A23y9+c5R9LEKza9qIP",
      "include_colab_link": true
    },
    "kernelspec": {
      "name": "python3",
      "display_name": "Python 3"
    },
    "language_info": {
      "name": "python"
    }
  },
  "cells": [
    {
      "cell_type": "markdown",
      "metadata": {
        "id": "view-in-github",
        "colab_type": "text"
      },
      "source": [
        "<a href=\"https://colab.research.google.com/github/ProNatalya/python/blob/main/codeforces_1_10.ipynb\" target=\"_parent\"><img src=\"https://colab.research.google.com/assets/colab-badge.svg\" alt=\"Open In Colab\"/></a>"
      ]
    },
    {
      "cell_type": "markdown",
      "source": [
        "# 4A. Арбуз (1)\n",
        "## https://codeforces.com/problemset/problem/4/A"
      ],
      "metadata": {
        "id": "UZALayq3b-1E"
      }
    },
    {
      "cell_type": "code",
      "source": [
        "w = int(input())\n",
        "if w % 2 == 0 and w > 2:\n",
        "    print(\"yes\")\n",
        "else:\n",
        "    print(\"no\")"
      ],
      "metadata": {
        "id": "xSvd6TqFcH0H",
        "colab": {
          "base_uri": "https://localhost:8080/"
        },
        "outputId": "fa28a628-7ac0-4d8f-a197-d8f36c60f640"
      },
      "execution_count": null,
      "outputs": [
        {
          "output_type": "stream",
          "name": "stdout",
          "text": [
            "54\n",
            "yes\n"
          ]
        }
      ]
    },
    {
      "cell_type": "markdown",
      "source": [
        "# 231А. Команда\n",
        "https://codeforces.com/problemset/problem/231/A"
      ],
      "metadata": {
        "id": "g1A3EMZmc9Ig"
      }
    },
    {
      "cell_type": "code",
      "source": [
        "n = int(input())\n",
        "count = 0\n",
        "for _ in range(n):\n",
        "    x,p,z = map(int, input().split(' '))\n",
        "    sum_all = x+p+z\n",
        "    if sum_all >= 2:\n",
        "        count += 1\n",
        "    else:\n",
        "      continue\n",
        "print(count)"
      ],
      "metadata": {
        "id": "XC7ziPfOdNRL",
        "colab": {
          "base_uri": "https://localhost:8080/"
        },
        "outputId": "83f0aa5a-8ac3-4f32-e524-448695ac793b"
      },
      "execution_count": null,
      "outputs": [
        {
          "output_type": "stream",
          "name": "stdout",
          "text": [
            "3\n",
            "1 1 0\n",
            "1 1 1\n",
            "0 1 1\n",
            "3\n"
          ]
        }
      ]
    },
    {
      "cell_type": "markdown",
      "source": [
        "# 50A. Укладка  доминошками (2)\n",
        "https://codeforces.com/contest/50/problem/A"
      ],
      "metadata": {
        "id": "OH3NCo8daSjY"
      }
    },
    {
      "cell_type": "code",
      "source": [
        "n, m = map(int, input().split())\n",
        "print(n * m // 2)"
      ],
      "metadata": {
        "colab": {
          "base_uri": "https://localhost:8080/"
        },
        "id": "2K3gzwPZa0qa",
        "outputId": "d49052ee-2c9e-4a06-ecc6-085cc7eac398"
      },
      "execution_count": null,
      "outputs": [
        {
          "output_type": "stream",
          "name": "stdout",
          "text": [
            "3 8\n",
            "12\n"
          ]
        }
      ]
    },
    {
      "cell_type": "markdown",
      "source": [
        "# 71А Слишком длинные слова\n",
        "https://codeforces.com/problemset/problem/71/A"
      ],
      "metadata": {
        "id": "-2MeyGNAbmUp"
      }
    },
    {
      "cell_type": "code",
      "source": [
        "lght = int(input(\"\"))\n",
        "words = []\n",
        "if lght >= 1 and lght <= 100:\n",
        "  for i in range(lght):\n",
        "    words.append(str(input(\"\")))\n",
        "  for j in words:\n",
        "    if len(j.lower()) > 10:\n",
        "      print(j[0].lower() + str(len(j.lower()) - 2) + j[-1].lower())\n",
        "    else:\n",
        "      print(j.lower())"
      ],
      "metadata": {
        "colab": {
          "base_uri": "https://localhost:8080/"
        },
        "id": "yq9GMOpsbwGV",
        "outputId": "901e4e3e-d9a0-4455-aa5b-b2f88fc8ef43"
      },
      "execution_count": null,
      "outputs": [
        {
          "output_type": "stream",
          "name": "stdout",
          "text": [
            "4\n",
            "word\n",
            "dfhjiyrfhjjbnnvb\n",
            "dfhjjnnnnjghj\n",
            "xxvvfghjjnnbb\n",
            "word\n",
            "d14b\n",
            "d11j\n",
            "x11b\n"
          ]
        }
      ]
    },
    {
      "cell_type": "markdown",
      "source": [
        "# Задача 158A - Следующий раунд\n",
        "https://codeforces.com/problemset/problem/158/A"
      ],
      "metadata": {
        "id": "EgmcwnBD2knv"
      }
    },
    {
      "cell_type": "code",
      "source": [
        "n, k = map(int, input().split())\n",
        "score = list(map(int, input().split()))\n",
        "necessary_score = score[k - 1]\n",
        "count = 0\n",
        "for i in score:\n",
        "  if(i >= necessary_score and i > 0):\n",
        "    count += 1\n",
        "print(count)"
      ],
      "metadata": {
        "colab": {
          "base_uri": "https://localhost:8080/"
        },
        "id": "8zPfUds02wx_",
        "outputId": "6fe1f4bc-5789-4cdf-e10f-5fa54efbe3bc"
      },
      "execution_count": null,
      "outputs": [
        {
          "output_type": "stream",
          "name": "stdout",
          "text": [
            "8 5 \n",
            "10 9 8 7 7 7 5 5\n",
            "6\n"
          ]
        }
      ]
    },
    {
      "cell_type": "markdown",
      "source": [
        "# 282A. Bit++\n",
        "https://codeforces.com/problemset/problem/282/A"
      ],
      "metadata": {
        "id": "I2azuJRwB7zY"
      }
    },
    {
      "cell_type": "code",
      "source": [
        "n = int(input())\n",
        "x = 0\n",
        "for _ in range(0, n):\n",
        "  s = input()\n",
        "  if \"++\" in s:\n",
        "    x += 1\n",
        "  else:\n",
        "    x -= 1\n",
        "print(x)"
      ],
      "metadata": {
        "colab": {
          "base_uri": "https://localhost:8080/"
        },
        "id": "nTiI8XOwCLxs",
        "outputId": "3e40053c-50b7-4eb3-ed1f-2a5ed80286dc"
      },
      "execution_count": null,
      "outputs": [
        {
          "output_type": "stream",
          "name": "stdout",
          "text": [
            "1\n",
            "++X\n",
            "1\n"
          ]
        }
      ]
    },
    {
      "cell_type": "markdown",
      "source": [
        "# 263A. Красивая матрица\n",
        "https://codeforces.com/problemset/problem/263/A"
      ],
      "metadata": {
        "id": "wl6sOYZ0NRnM"
      }
    },
    {
      "cell_type": "code",
      "source": [
        "array = []\n",
        "x = 0\n",
        "y = 0\n",
        "for i in range(5):\n",
        "  matrix = input().split()\n",
        "  array.append(matrix)\n",
        "\n",
        "  for j in range(5):\n",
        "    if array[i][j] == \"1\":\n",
        "        x = i - 2\n",
        "        y = j - 2\n",
        "        result = abs(x) + abs(y)\n",
        "print(result)"
      ],
      "metadata": {
        "colab": {
          "base_uri": "https://localhost:8080/"
        },
        "id": "BP50EJFENhET",
        "outputId": "f8a78bf1-aa2f-4a24-b286-b53a89c09bf8"
      },
      "execution_count": null,
      "outputs": [
        {
          "output_type": "stream",
          "name": "stdout",
          "text": [
            "0 0 0 0 0\n",
            "0 0 0 0 1\n",
            "0 0 0 0 0\n",
            "0 0 0 0 0\n",
            "0 0 0 0 0\n",
            "3\n"
          ]
        }
      ]
    },
    {
      "cell_type": "markdown",
      "source": [
        "# 546A. Солдат и бананы (3)\n",
        "https://codeforces.com/problemset/problem/546/A"
      ],
      "metadata": {
        "id": "pR_EG71vjJhi"
      }
    },
    {
      "cell_type": "code",
      "source": [
        "k, n, w = map(int, input().split())\n",
        "result = (k * ((w * (w + 1)) / 2)) - n\n",
        "if result < 0:\n",
        "  print(\"0\")\n",
        "else:\n",
        "  print(int(result))"
      ],
      "metadata": {
        "colab": {
          "base_uri": "https://localhost:8080/"
        },
        "id": "PtnplRChghXj",
        "outputId": "f8f1c8c4-d0ea-470d-84f3-a3321887ac5e"
      },
      "execution_count": null,
      "outputs": [
        {
          "output_type": "stream",
          "name": "stdout",
          "text": [
            "3 17 4\n",
            "13\n"
          ]
        }
      ]
    },
    {
      "cell_type": "markdown",
      "source": [
        "# 617A. Слоник (4)\n",
        "https://codeforces.com/problemset/problem/617/A"
      ],
      "metadata": {
        "id": "ROJxDK1VoFRR"
      }
    },
    {
      "cell_type": "code",
      "source": [
        "x = int(input())\n",
        "print((x + 4) // 5)"
      ],
      "metadata": {
        "colab": {
          "base_uri": "https://localhost:8080/"
        },
        "id": "Qa7B0FkjoMqu",
        "outputId": "d5c0b52e-111c-4ebb-c309-243f98604fee"
      },
      "execution_count": null,
      "outputs": [
        {
          "output_type": "stream",
          "name": "stdout",
          "text": [
            "5\n",
            "1\n"
          ]
        }
      ]
    },
    {
      "cell_type": "code",
      "source": [
        "x = int(input())\n",
        "count = 0\n",
        "if x % 5 == 0:\n",
        "     count = x // 5\n",
        "else:\n",
        "     count = x // 5 + 1\n",
        "print(count)"
      ],
      "metadata": {
        "colab": {
          "base_uri": "https://localhost:8080/"
        },
        "id": "eivKr29BqDoL",
        "outputId": "ea3bf79a-4b88-4a42-e71f-3b58e5227615"
      },
      "execution_count": null,
      "outputs": [
        {
          "output_type": "stream",
          "name": "stdout",
          "text": [
            "5\n",
            "1\n"
          ]
        }
      ]
    },
    {
      "cell_type": "markdown",
      "source": [
        "# 486А. Подсчет функции(5)\n",
        "https://codeforces.com/problemset/problem/486/A?locale=ru"
      ],
      "metadata": {
        "id": "viQ7_eH2whOY"
      }
    },
    {
      "cell_type": "code",
      "source": [
        "n = int(input())\n",
        "if n%2 == 0:\n",
        "  print(n//2)\n",
        "else:\n",
        "  print(-((n+1)//2))"
      ],
      "metadata": {
        "id": "WXzh3yJlxQAe",
        "colab": {
          "base_uri": "https://localhost:8080/"
        },
        "outputId": "5182a60d-5aeb-44ba-ef61-08d050d392a3"
      },
      "execution_count": null,
      "outputs": [
        {
          "output_type": "stream",
          "name": "stdout",
          "text": [
            "4\n",
            "2\n"
          ]
        }
      ]
    },
    {
      "cell_type": "markdown",
      "source": [
        "# 200В. Напитки(6)\n",
        "https://codeforces.com/problemset/problem/200/B"
      ],
      "metadata": {
        "id": "sfL8JYkaZc9v"
      }
    },
    {
      "cell_type": "code",
      "source": [
        "n = int(input())\n",
        "proportion = list(map(int, input().split()))\n",
        "juice = 0\n",
        "mix = len(proportion) * 100\n",
        "for i in range(len(proportion)):\n",
        "    juice += proportion[i]\n",
        "print(100 /mix*juice)"
      ],
      "metadata": {
        "id": "InI-0FdSjG4h"
      },
      "execution_count": null,
      "outputs": []
    },
    {
      "cell_type": "code",
      "source": [
        "# в кодфорс это не проходит\n",
        "\n",
        "n = int(input()) # количество  апельсиновых напитков\n",
        "proportion = list(map(int, input().split())) # обьемная доля апел.сока в  i-м напитке\n",
        "juice = 0\n",
        "for i in range(len(proportion)):\n",
        "  juice += proportion[i]\n",
        "print(1 / n*juice)"
      ],
      "metadata": {
        "colab": {
          "base_uri": "https://localhost:8080/"
        },
        "id": "1-9zrZYqZrWe",
        "outputId": "0fa72e51-a187-42ab-b047-19d1324009b7"
      },
      "execution_count": null,
      "outputs": [
        {
          "output_type": "stream",
          "name": "stdout",
          "text": [
            "3\n",
            "50 50 100\n",
            "66.66666666666666\n"
          ]
        }
      ]
    },
    {
      "cell_type": "markdown",
      "source": [
        "# 1328A. Задача о делимости(7)\n",
        "https://codeforces.com/problemset/problem/1328/A"
      ],
      "metadata": {
        "id": "Aqs6351Qjjqs"
      }
    },
    {
      "cell_type": "code",
      "source": [
        "def solution(a, b):\n",
        "    if a % b != 0:\n",
        "        return b - a % b\n",
        "    else:\n",
        "        return 0\n",
        "\n",
        "t = int(input())\n",
        "for _ in range(t):\n",
        "    a, b = map(int, input().split())\n",
        "    answer = solution(a, b)\n",
        "    print(answer)"
      ],
      "metadata": {
        "colab": {
          "base_uri": "https://localhost:8080/"
        },
        "id": "UkvXHPY6kL0c",
        "outputId": "75b792b9-e71d-4b11-fb46-352459da8712"
      },
      "execution_count": null,
      "outputs": [
        {
          "output_type": "stream",
          "name": "stdout",
          "text": [
            "5\n",
            "10 4\n",
            "2\n",
            "13 9 \n",
            "5\n",
            "100 13\n",
            "4\n",
            "123 456\n",
            "333\n",
            "92 46\n",
            "0\n"
          ]
        }
      ]
    },
    {
      "cell_type": "markdown",
      "source": [
        "# 148A. Средство от бессонницы(8)\n",
        "https://codeforces.com/problemset/problem/148/A"
      ],
      "metadata": {
        "id": "jl0pvViWgH22"
      }
    },
    {
      "cell_type": "code",
      "source": [
        "k=int(input())\n",
        "l=int(input())\n",
        "m=int(input())\n",
        "n=int(input())\n",
        "d=int(input())\n",
        "count=0\n",
        "for i in range(1,d+1):\n",
        "    if i % k==0 or i % l==0 or i % m==0 or i % n==0:\n",
        "         count+=1\n",
        "print(count)\n",
        "\n",
        "\n"
      ],
      "metadata": {
        "colab": {
          "base_uri": "https://localhost:8080/"
        },
        "id": "i4VqJluOhmfd",
        "outputId": "e120555e-5d74-4abf-9acb-26e21e678800"
      },
      "execution_count": null,
      "outputs": [
        {
          "output_type": "stream",
          "name": "stdout",
          "text": [
            "1 \n",
            "2\n",
            "3\n",
            "4\n",
            "12\n",
            "12\n"
          ]
        }
      ]
    },
    {
      "cell_type": "markdown",
      "source": [
        "# 1335A. Конфеты и две сестры(9)\n",
        "https://codeforces.com/problemset/problem/1335/A"
      ],
      "metadata": {
        "id": "ds7eRrLhlgX5"
      }
    },
    {
      "cell_type": "code",
      "source": [
        "x = int(input())\n",
        "for i in range(x):\n",
        "    n = int(input())\n",
        "    print((n - 1)//2)"
      ],
      "metadata": {
        "colab": {
          "base_uri": "https://localhost:8080/"
        },
        "id": "kEVqe1_ilpvw",
        "outputId": "67db92aa-3824-4828-f076-b8e89721f3af"
      },
      "execution_count": 11,
      "outputs": [
        {
          "output_type": "stream",
          "name": "stdout",
          "text": [
            "6\n",
            "7\n",
            "3\n",
            "1\n",
            "0\n",
            "2\n",
            "0\n",
            "3\n",
            "1\n",
            "2000000000\n",
            "999999999\n",
            "673243547\n",
            "336621773\n"
          ]
        }
      ]
    },
    {
      "cell_type": "markdown",
      "source": [
        "# 750A. Новый год и спешка(10)\n",
        "https://codeforces.com/problemset/problem/750/A"
      ],
      "metadata": {
        "id": "r5G0SH3f9sJi"
      }
    },
    {
      "cell_type": "code",
      "source": [
        "n, k = map(int, input().split())\n",
        "while n * (n + 1)//2 * 5 > 240 - k:\n",
        "    n -= 1\n",
        "print(n)"
      ],
      "metadata": {
        "colab": {
          "base_uri": "https://localhost:8080/"
        },
        "id": "ezakCVpM95Q6",
        "outputId": "36b6279f-cf44-49b3-a527-e82dcd062ef1"
      },
      "execution_count": 12,
      "outputs": [
        {
          "output_type": "stream",
          "name": "stdout",
          "text": [
            "3 222\n",
            "2\n"
          ]
        }
      ]
    }
  ]
}