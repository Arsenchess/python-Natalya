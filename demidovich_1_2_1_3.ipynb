{
  "cells": [
    {
      "cell_type": "markdown",
      "metadata": {
        "id": "view-in-github",
        "colab_type": "text"
      },
      "source": [
        "<a href=\"https://colab.research.google.com/github/ProNatalya/python/blob/main/demidovich_1_2_1_3.ipynb\" target=\"_parent\"><img src=\"https://colab.research.google.com/assets/colab-badge.svg\" alt=\"Open In Colab\"/></a>"
      ]
    },
    {
      "cell_type": "markdown",
      "metadata": {
        "id": "wbYcKc8EBODk"
      },
      "source": [
        "# Демидович Задача 1.2\n",
        "Доказать равенства"
      ]
    },
    {
      "cell_type": "markdown",
      "metadata": {
        "id": "cDrsYukcBjVz"
      },
      "source": [
        "## а) -a = (-1)a;"
      ]
    },
    {
      "cell_type": "markdown",
      "metadata": {
        "id": "jfbsU6R-kWe_"
      },
      "source": [
        "\n",
        "## Решение 1.2 а)\n",
        "Чтобы доказать, что вектор -a равен -1*a, нам нужно показать, что их компоненты соответствуют друг другу.\n",
        "Пусть у нас есть вектор a = (a1, a2, a3).\n",
        "Тогда вектор -a будет иметь компоненты (-a1, -a2, -a3).\n",
        "Вектор -1*a также будет иметь компоненты (-1*a1, -1*a2, -1*a3).\n",
        "Мы можем заметить, что компоненты исходного вектора a и вектора -1*a идентичны, просто противоположны по знаку.\n",
        "Таким образом, можно сделать вывод, что вектор -a = -1*a."
      ]
    },
    {
      "cell_type": "code",
      "execution_count": null,
      "metadata": {
        "colab": {
          "base_uri": "https://localhost:8080/"
        },
        "id": "V-32fPD-kc9y",
        "outputId": "cfd2ecca-ee23-41d7-bdf3-914ad5290aa5"
      },
      "outputs": [
        {
          "name": "stdout",
          "output_type": "stream",
          "text": [
            "[5 2 4]\n",
            "[-5 -2 -4]\n",
            "[-5 -2 -4]\n"
          ]
        }
      ],
      "source": [
        "import numpy as np\n",
        "a = np.array([5, 2, 4])\n",
        "b = -a\n",
        "c = -1*a\n",
        "print (a)\n",
        "print(b)\n",
        "print(c)"
      ]
    },
    {
      "cell_type": "markdown",
      "metadata": {
        "id": "8wcKygtHCmFr"
      },
      "source": [
        "## б) a2 - a1 = a2 + (-a1);"
      ]
    },
    {
      "cell_type": "markdown",
      "metadata": {
        "id": "06CbFX1upOly"
      },
      "source": [
        "## Решение 1.2 б)\n",
        "\n",
        "\n",
        "\n",
        "\n",
        "### Для доказательства равенства векторов a2 - a1 = a2 + (-a1), мы можем использовать определение операций над векторами.\n",
        "### Пусть a1 и a2 - два произвольных вектора.\n",
        "### Тогда левая сторона равенства a2 - a1 можно записать как разность координат этих векторов:\n",
        "a2 - a1 = (a2_1 - a1_1, a2_2 - a1_2, ..., a2_n - a1_n)\n",
        "### Правая сторона равенства a2 + (-a1) представляет собой сумму вектора a2 и обратного вектора a1:\n",
        "a2 + (-a1) = (a2_1 + (-a1_1), a2_2 + (-a1_2), ..., a2_n + (-a1_n))\n",
        "### Теперь, чтобы доказать равенство, нам нужно показать, что каждая координата левой стороны равна соответствующей координате правой стороны.\n",
        "### Рассмотрим произвольную координату i:\n",
        "(a2_i - a1_i) = (a2_i + (-a1_i))\n",
        "### Слева и справа находится одна и та же координата, поэтому равенство выполняется для всех координат.\n",
        "### Исходя из этого, мы можем заключить, что векторы a2 - a1 и a2 + (-a1) равны.\n",
        "### Таким образом, равенство a2 - a1 = a2 + (-a1) доказано."
      ]
    },
    {
      "cell_type": "code",
      "execution_count": null,
      "metadata": {
        "colab": {
          "base_uri": "https://localhost:8080/"
        },
        "id": "GUaD4nANDsLh",
        "outputId": "52ea8156-9af4-442c-8007-a358b35d6e88"
      },
      "outputs": [
        {
          "name": "stdout",
          "output_type": "stream",
          "text": [
            "-5\n",
            "-5\n",
            "[-5 -3]\n",
            "[-5 -3]\n"
          ]
        }
      ],
      "source": [
        "import numpy as np\n",
        "a1 = np.array([8,5])\n",
        "a2 = np.array([3,2])\n",
        "print(a2[0] - a1[0])\n",
        "print(a2[0] + (-a1[0]))\n",
        "print(a2 - a1)\n",
        "print(a2 + (-a1))"
      ]
    },
    {
      "cell_type": "markdown",
      "metadata": {
        "id": "G1jGPNuPHySa"
      },
      "source": [
        "## в) a = |a|*a0, где a0 - орт вектора a, то есть вектор единичной длины, сонаправленный с вектором a (a !=0).\n"
      ]
    },
    {
      "cell_type": "markdown",
      "metadata": {
        "id": "YpM-y9IfIr4N"
      },
      "source": [
        "## Решение  1.2 в)\n",
        "### Данное равенство a = |a|*a0 основывается на определении орта вектора и его длины. Орт вектора - это вектор, имеющий единичную длину и сонаправленный с данным вектором. Определим a как вектор в трехмерном пространстве a = [x, y, z].\n",
        "### Длина вектора a, обозначаемая как |a|, может быть вычислена следующим образом: |a| = sqrt(x^2 + y^2 + z^2).\n",
        "### Теперь, чтобы найти орт a0, мы делим каждую компоненту вектора a на его длину: a0 = [x/|a|, y/|a|, z/|a|].          \n",
        "### Предположим, что |a| ≠ 0. Тогда мы можем записать a = |a|*a0 следующим образом: a = [x, y, z] |a|*a0 = |a|*[x/|a|, y/|a|, z/|a|] = [x, y, z].\n",
        "### Таким образом, равенство a = |a|*a0 выполняется при условии, что длина вектора a не равна нулю (|a| ≠ 0)."
      ]
    },
    {
      "cell_type": "code",
      "execution_count": null,
      "metadata": {
        "colab": {
          "base_uri": "https://localhost:8080/"
        },
        "id": "5NCo-Td-KxVg",
        "outputId": "40dfb462-5409-467c-e6cc-50600f6056f5"
      },
      "outputs": [
        {
          "name": "stdout",
          "output_type": "stream",
          "text": [
            "[5 7 9]\n",
            "12.449899597988733\n",
            "[0.40160966 0.56225353 0.7228974 ]\n",
            "[5. 7. 9.]\n"
          ]
        }
      ],
      "source": [
        "import numpy as np\n",
        "a3 = np.array([5, 7, 9])\n",
        "print(a3)\n",
        "lenght_a3 = np.sqrt((a3*a3).sum())# np.linalal.norm(a)\n",
        "print(lenght_a3)\n",
        "a3_0 = a3/lenght_a3\n",
        "print(a3_0)\n",
        "print(lenght_a3 * a3_0)"
      ]
    },
    {
      "cell_type": "markdown",
      "metadata": {
        "id": "adMWcINymFZR"
      },
      "source": [
        "# Демидович Задача 1.3\n",
        "В параллелепипеде ABCDA'B'C'D' векторы m, n, p представлены ребрами $\\vec{AB}$, $\\vec{AD}$, $\\vec{AA'}$ соответственно. Построить векторы:"
      ]
    },
    {
      "cell_type": "markdown",
      "metadata": {
        "id": "c2nEpyjOyrZh"
      },
      "source": [
        "## а) m + n + p;"
      ]
    },
    {
      "cell_type": "markdown",
      "metadata": {
        "id": "DhM4rVoPmTCn"
      },
      "source": [
        "## Решение 1.3 а)"
      ]
    },
    {
      "cell_type": "code",
      "execution_count": null,
      "metadata": {
        "id": "tmlCpjtv7Q0k"
      },
      "outputs": [],
      "source": [
        "import numpy as np\n",
        "m = np.array([0, 4, 0])\n",
        "n = np.array([8, 0, 0])\n",
        "p = np.array([0, 0, 6])\n",
        "print(m + n + p)"
      ]
    },
    {
      "cell_type": "markdown",
      "metadata": {
        "id": "coKc_C33cxWd"
      },
      "source": [
        "/content/drive/MyDrive/python/demidovich/demidovich_1_3_a.jpg"
      ]
    },
    {
      "cell_type": "markdown",
      "metadata": {
        "id": "EmbGfP-gy6gw"
      },
      "source": [
        "## б) $\\frac{1}{2}m$ + $\\frac{1}{2}n$ - p;"
      ]
    },
    {
      "cell_type": "markdown",
      "metadata": {
        "id": "wymdH-ISzKNT"
      },
      "source": [
        "## Решение 1.3 б)"
      ]
    },
    {
      "cell_type": "code",
      "execution_count": null,
      "metadata": {
        "colab": {
          "base_uri": "https://localhost:8080/"
        },
        "id": "ID_uEBiI85Ee",
        "outputId": "3a06785f-d4f5-4ea4-809f-09555495f192"
      },
      "outputs": [
        {
          "name": "stdout",
          "output_type": "stream",
          "text": [
            "[ 4.  2. -6.]\n"
          ]
        }
      ],
      "source": [
        "print(m*0.5 + n*0.5 - p)"
      ]
    },
    {
      "cell_type": "markdown",
      "source": [
        "/content/drive/MyDrive/python/demidovich/demidovich_1_3_b.jpg"
      ],
      "metadata": {
        "id": "eV6mNG1vVTAg"
      }
    },
    {
      "cell_type": "markdown",
      "metadata": {
        "id": "XJM-aUxmzcwe"
      },
      "source": [
        "## в) -m - n + $\\frac{1}{2}p$"
      ]
    },
    {
      "cell_type": "markdown",
      "metadata": {
        "id": "_l6lRMqHznTV"
      },
      "source": [
        "## Решение  1.3 в)"
      ]
    },
    {
      "cell_type": "code",
      "execution_count": null,
      "metadata": {
        "colab": {
          "base_uri": "https://localhost:8080/"
        },
        "id": "clbzqOdn9SHw",
        "outputId": "f7e760f5-ff6f-4179-8437-f23c4968b604"
      },
      "outputs": [
        {
          "name": "stdout",
          "output_type": "stream",
          "text": [
            "[-8. -4.  3.]\n"
          ]
        }
      ],
      "source": [
        "print(-m - n + p*0.5)"
      ]
    },
    {
      "cell_type": "markdown",
      "source": [
        "/content/drive/MyDrive/python/demidovich/demidovich_1_3_v.jpg"
      ],
      "metadata": {
        "id": "32F9Jy5vVf0u"
      }
    }
  ],
  "metadata": {
    "colab": {
      "provenance": [],
      "mount_file_id": "1d8XdBW7yJagjFxXmLH-GtAfH-Q1qpsu9",
      "authorship_tag": "ABX9TyPlHLsy/MkgYd0OT2UPpW7n",
      "include_colab_link": true
    },
    "kernelspec": {
      "display_name": "Python 3",
      "name": "python3"
    },
    "language_info": {
      "name": "python"
    }
  },
  "nbformat": 4,
  "nbformat_minor": 0
}