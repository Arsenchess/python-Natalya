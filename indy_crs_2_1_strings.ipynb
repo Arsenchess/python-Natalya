{
  "nbformat": 4,
  "nbformat_minor": 0,
  "metadata": {
    "colab": {
      "provenance": [],
      "authorship_tag": "ABX9TyNm3hJ4dWggsj78DbfoENz3",
      "include_colab_link": true
    },
    "kernelspec": {
      "name": "python3",
      "display_name": "Python 3"
    },
    "language_info": {
      "name": "python"
    }
  },
  "cells": [
    {
      "cell_type": "markdown",
      "metadata": {
        "id": "view-in-github",
        "colab_type": "text"
      },
      "source": [
        "<a href=\"https://colab.research.google.com/github/ProNatalya/python/blob/main/indy_crs_2_1_strings.ipynb\" target=\"_parent\"><img src=\"https://colab.research.google.com/assets/colab-badge.svg\" alt=\"Open In Colab\"/></a>"
      ]
    },
    {
      "cell_type": "code",
      "execution_count": null,
      "metadata": {
        "colab": {
          "base_uri": "https://localhost:8080/"
        },
        "id": "yni770iaLYMo",
        "outputId": "776b550a-eef5-4990-fdee-4599e278ea80"
      },
      "outputs": [
        {
          "output_type": "stream",
          "name": "stdout",
          "text": [
            "Я стану крутым программистом!\n",
            "Я стану крутым программистом!\n",
            "Я стану крутым программистом!\n"
          ]
        }
      ],
      "source": [
        "s = \"Я стану крутым программистом!\"\n",
        "print(s)\n",
        "print(s)\n",
        "print(s)"
      ]
    },
    {
      "cell_type": "code",
      "source": [
        "print('Я стану крутым программистом!\\n'*3)"
      ],
      "metadata": {
        "colab": {
          "base_uri": "https://localhost:8080/"
        },
        "id": "ItxZhVGRLqhO",
        "outputId": "2b5a25c0-731c-4ab3-aeaf-420d524e3de6"
      },
      "execution_count": null,
      "outputs": [
        {
          "output_type": "stream",
          "name": "stdout",
          "text": [
            "Я стану крутым программистом!\n",
            "Я стану крутым программистом!\n",
            "Я стану крутым программистом!\n",
            "\n"
          ]
        }
      ]
    },
    {
      "cell_type": "code",
      "source": [
        "a = 'Я стану крутым программистом!'\n",
        "print(a,a,a, sep = '\\n')"
      ],
      "metadata": {
        "colab": {
          "base_uri": "https://localhost:8080/"
        },
        "id": "pnUr-ha4Lx0e",
        "outputId": "38f6e249-2c17-49af-e891-1abb479ec068"
      },
      "execution_count": null,
      "outputs": [
        {
          "output_type": "stream",
          "name": "stdout",
          "text": [
            "Я стану крутым программистом!\n",
            "Я стану крутым программистом!\n",
            "Я стану крутым программистом!\n"
          ]
        }
      ]
    },
    {
      "cell_type": "code",
      "source": [
        "print(\"\"\"Я стану крутым программистом!\n",
        "Я стану крутым программистом!\n",
        "Я стану крутым программистом!\"\"\")"
      ],
      "metadata": {
        "colab": {
          "base_uri": "https://localhost:8080/"
        },
        "id": "gTTg-jdoL_m1",
        "outputId": "6f279ea8-7c43-4771-b2c1-389144aeeaa0"
      },
      "execution_count": null,
      "outputs": [
        {
          "output_type": "stream",
          "name": "stdout",
          "text": [
            "Я стану крутым программистом!\n",
            "Я стану крутым программистом!\n",
            "Я стану крутым программистом!\n"
          ]
        }
      ]
    },
    {
      "cell_type": "code",
      "source": [
        "str1 = input()\n",
        "str2 = input()\n",
        "print(str1, str2, sep='\\n')"
      ],
      "metadata": {
        "colab": {
          "base_uri": "https://localhost:8080/"
        },
        "id": "V7Q__UhqL1At",
        "outputId": "4dc1a293-85e7-4dab-cd98-e08369a77650"
      },
      "execution_count": null,
      "outputs": [
        {
          "output_type": "stream",
          "name": "stdout",
          "text": [
            "Hello\n",
            "world\n",
            "Hello\n",
            "world\n"
          ]
        }
      ]
    },
    {
      "cell_type": "code",
      "source": [
        "print(input())\n",
        "print(input())"
      ],
      "metadata": {
        "id": "9yeIiR8fNW7V"
      },
      "execution_count": null,
      "outputs": []
    },
    {
      "cell_type": "code",
      "source": [
        "a = input()\n",
        "b = input()\n",
        "print(a + '\\n' + b)\n"
      ],
      "metadata": {
        "id": "2i64lhedNgEE"
      },
      "execution_count": null,
      "outputs": []
    },
    {
      "cell_type": "code",
      "source": [
        "s1 = input()\n",
        "s2 = input()\n",
        "s3 = input()\n",
        "print(s3, s2, s1, sep='\\n')"
      ],
      "metadata": {
        "colab": {
          "base_uri": "https://localhost:8080/"
        },
        "id": "N1l9rDPQOBG0",
        "outputId": "d1e24836-f914-4dc1-afda-d87758c0a7c5"
      },
      "execution_count": null,
      "outputs": [
        {
          "output_type": "stream",
          "name": "stdout",
          "text": [
            "Как\n",
            "дела\n",
            "Артем\n",
            "Артем\n",
            "дела\n",
            "Как\n"
          ]
        }
      ]
    },
    {
      "cell_type": "markdown",
      "source": [
        "### Task Напишите программу, которая считывает с клавиатуры слово (или фразу, неважно), после чего выводит это же слово четыре раза на одной строке, разделяя их пробелами."
      ],
      "metadata": {
        "id": "WzFeWrksPfps"
      }
    },
    {
      "cell_type": "code",
      "source": [
        "s = input()\n",
        "print(s, s, s, s, sep=\" \")"
      ],
      "metadata": {
        "id": "5qiHIszfPlbL"
      },
      "execution_count": null,
      "outputs": []
    },
    {
      "cell_type": "code",
      "source": [
        "a = input()\n",
        "print(a, a, a, a)"
      ],
      "metadata": {
        "id": "CkQ3C5dVPyx0"
      },
      "execution_count": null,
      "outputs": []
    },
    {
      "cell_type": "code",
      "source": [
        "a=input()\n",
        "b=' '\n",
        "print((a+b)*4)"
      ],
      "metadata": {
        "id": "7d1nGZODP7-r"
      },
      "execution_count": null,
      "outputs": []
    },
    {
      "cell_type": "code",
      "source": [
        "s = input()+' '\n",
        "print(s*4)"
      ],
      "metadata": {
        "colab": {
          "base_uri": "https://localhost:8080/"
        },
        "id": "HLPdRHhqP_2z",
        "outputId": "9acb4f8d-1297-4cf2-9b4e-5114fc1048d2"
      },
      "execution_count": null,
      "outputs": [
        {
          "output_type": "stream",
          "name": "stdout",
          "text": [
            "hi\n",
            "hi hi hi hi \n"
          ]
        }
      ]
    },
    {
      "cell_type": "markdown",
      "source": [
        "### Task"
      ],
      "metadata": {
        "id": "u43RKE5rQiOS"
      }
    },
    {
      "cell_type": "code",
      "source": [
        "phrase = input()\n",
        "print(len(phrase))"
      ],
      "metadata": {
        "colab": {
          "base_uri": "https://localhost:8080/"
        },
        "id": "7TywJ5a1QgoK",
        "outputId": "6278e826-6ed7-44e6-d6fd-fd1f4bbd8f05"
      },
      "execution_count": null,
      "outputs": [
        {
          "output_type": "stream",
          "name": "stdout",
          "text": [
            "day off\n",
            "7\n"
          ]
        }
      ]
    },
    {
      "cell_type": "markdown",
      "source": [
        "### Task"
      ],
      "metadata": {
        "id": "-kC3ujpvTqwa"
      }
    },
    {
      "cell_type": "code",
      "source": [
        "str1 = input()\n",
        "str2 = input()\n",
        "print(str2 + str1)"
      ],
      "metadata": {
        "id": "OfO1VpMETvO6"
      },
      "execution_count": null,
      "outputs": []
    },
    {
      "cell_type": "code",
      "source": [
        "# Какой результат данной операции (1+2)*('4'+'5') ?\n",
        "print((1+2)*('4'+'5'))"
      ],
      "metadata": {
        "colab": {
          "base_uri": "https://localhost:8080/"
        },
        "id": "egrzThMETzIx",
        "outputId": "83cc1ce2-dc80-4317-9bad-ac3dc42b2e70"
      },
      "execution_count": null,
      "outputs": [
        {
          "output_type": "stream",
          "name": "stdout",
          "text": [
            "454545\n"
          ]
        }
      ]
    },
    {
      "cell_type": "markdown",
      "source": [
        "### Task"
      ],
      "metadata": {
        "id": "Y5-3oO_3ZwpP"
      }
    },
    {
      "cell_type": "markdown",
      "source": [
        "Программа принимает на вход три символа через пробел в одну строку. Необходимо вывести код каждого символа при помощи функции ord в определенном формате."
      ],
      "metadata": {
        "id": "6fygQSwpZ1a2"
      }
    },
    {
      "cell_type": "code",
      "source": [
        "a, b, c = input().split()\n",
        "print(\"Simvol code\", a, \"is\", ord(a),end=\".\\n\")\n",
        "print(\"Simvol code\", b, \"is\", ord(b),end=\".\\n\")\n",
        "print(\"Simvol code\", c, \"is\", ord(c),end=\".\\n\")\n",
        "# Sample Input 1:\n",
        "\n",
        "# A , y\n",
        "# Sample Output 1:\n",
        "\n",
        "# Simvol code A is 65.\n",
        "# Simvol code , is 44.\n",
        "# Simvol code y is 121."
      ],
      "metadata": {
        "id": "6b8yjWdCZ5a3",
        "colab": {
          "base_uri": "https://localhost:8080/"
        },
        "outputId": "fcd1dd00-60ad-426a-fe28-2aa2789df780"
      },
      "execution_count": 1,
      "outputs": [
        {
          "output_type": "stream",
          "name": "stdout",
          "text": [
            "A , y\n",
            "Simvol code A is 65.\n",
            "Simvol code , is 44.\n",
            "Simvol code y is 121.\n"
          ]
        }
      ]
    }
  ]
}