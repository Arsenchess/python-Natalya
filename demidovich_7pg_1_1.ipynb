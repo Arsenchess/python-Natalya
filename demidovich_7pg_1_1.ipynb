{
  "nbformat": 4,
  "nbformat_minor": 0,
  "metadata": {
    "colab": {
      "provenance": [],
      "authorship_tag": "ABX9TyM95+klAdpmLxUHtn73mMQF",
      "include_colab_link": true
    },
    "kernelspec": {
      "name": "python3",
      "display_name": "Python 3"
    },
    "language_info": {
      "name": "python"
    }
  },
  "cells": [
    {
      "cell_type": "markdown",
      "metadata": {
        "id": "view-in-github",
        "colab_type": "text"
      },
      "source": [
        "<a href=\"https://colab.research.google.com/github/ProNatalya/python/blob/main/demidovich_7pg_1_1.ipynb\" target=\"_parent\"><img src=\"https://colab.research.google.com/assets/colab-badge.svg\" alt=\"Open In Colab\"/></a>"
      ]
    },
    {
      "cell_type": "markdown",
      "source": [
        "#  Демидович Задача 1.1\n",
        "Доказать, что операция сложения векторов обладает следующими свойствами:\n",
        "\n"
      ],
      "metadata": {
        "id": "pwQ6rePuMhlG"
      }
    },
    {
      "cell_type": "markdown",
      "source": [
        "## a) a + 0 = a;"
      ],
      "metadata": {
        "id": "L4PVStgkhoqU"
      }
    },
    {
      "cell_type": "markdown",
      "source": [
        "# Решение  1.1 а)\n",
        "Для доказательства выражения \"вектор a + 0 = a\" нужно использовать определения и свойства  векторов.\n",
        "\n",
        "Вектор a можно представить как сумму его компонент:a = (a1, a2, a3, ...,an) , где ai - компонента вектора a.\n",
        "\n",
        "0 - нулевой вектор, у которого все компоненты равны нулю: 0 = (0, 0, 0, ..., 0).\n",
        "\n",
        "Тогда, сложение  вектора a и нулевого вектора будет иметь вид:\n",
        "a + 0 = (a1 + 0, a2 + 0, a3 + 0, ..., an) = a.\n",
        "\n",
        "Таким образом доказано, что вектор a + 0 равен вектору a."
      ],
      "metadata": {
        "id": "Zxv7hzkGNNi1"
      }
    },
    {
      "cell_type": "code",
      "execution_count": null,
      "metadata": {
        "colab": {
          "base_uri": "https://localhost:8080/"
        },
        "id": "WFgx-NtAMI_X",
        "outputId": "59a3af35-0d32-49de-a7cc-4f19c8b93779"
      },
      "outputs": [
        {
          "output_type": "execute_result",
          "data": {
            "text/plain": [
              "array([ 2, -4])"
            ]
          },
          "metadata": {},
          "execution_count": 3
        }
      ],
      "source": [
        "import numpy as np\n",
        "a = np.array([2, -4])\n",
        "b = np.array([0, 0])\n",
        "a + b"
      ]
    },
    {
      "cell_type": "markdown",
      "source": [],
      "metadata": {
        "id": "pEsHOqdWYwpx"
      }
    },
    {
      "cell_type": "markdown",
      "source": [
        "## б) a1 + a2 = a2 + a1 (коммутативность);"
      ],
      "metadata": {
        "id": "Oz4TltlbYI9o"
      }
    },
    {
      "cell_type": "markdown",
      "source": [
        "# Решение 1.1 б)\n",
        "Для доказательства коммутативности сложения векторов a1 и a2, нужно использовать определения и свойства векторов.\n",
        "\n",
        "Вектор a1 можно представить как сумму его компонент: a1 = (a11, a12, a13, ..., a1n), где a1i - i-я компонента вектора a1.\n",
        "\n",
        "Аналогично, вектор a2 можно  представить как сумму его компонент: a2 = (a21, a22, a23, ..., a2n), где a2i - i-я компонента аектора a2.\n",
        "\n",
        "Тогда, сложение  векторов a1 и a2 будет  иметь вид:\n",
        "a1 + a2 = (a11 + a21, a12 + a22, a13 + a23, ..., a1n + a2n).\n",
        "\n",
        "А сложение векторов a2 и a1 будет  иметь вид:\n",
        "a2 + a1 = (a21 + a11, a22 + a12, a23 + a13, ..., a2n + a1n).\n",
        "\n",
        "Так как сложение чисел коммутативно, то каждая компонента суммы будет  равна в обоих случаях.\n",
        "\n",
        "Таким образом, доказано, что векторы a1 + a2 и a2 + a1 равны поэлементно и, следовательно , коммутативны."
      ],
      "metadata": {
        "id": "AUikRstaYloh"
      }
    },
    {
      "cell_type": "code",
      "source": [
        "a1 = np.array([7, -4, 3])\n",
        "a2 = np.array([3, -8, 5])\n",
        "print(a1 + a2)\n",
        "print(a2 + a1)"
      ],
      "metadata": {
        "colab": {
          "base_uri": "https://localhost:8080/"
        },
        "id": "fFAGqVCHd7Qf",
        "outputId": "b8cddb2f-16e0-41dd-c1cf-5d55eeea84b4"
      },
      "execution_count": null,
      "outputs": [
        {
          "output_type": "stream",
          "name": "stdout",
          "text": [
            "[ 10 -12   8]\n",
            "[ 10 -12   8]\n"
          ]
        }
      ]
    },
    {
      "cell_type": "markdown",
      "source": [
        "# в) a1 + (a2 + a3) = (a1 + a2) + a3 (ассоциативность);"
      ],
      "metadata": {
        "id": "U2FwEtgFhDfL"
      }
    },
    {
      "cell_type": "markdown",
      "source": [
        "# Решение 1.1 в)\n",
        "Вектор a1 можно  представить как сумму его компонент: a1 = (a1_1, a1_2, a1_3, ..., a1n), где a1_i-я компонента вектора a1.\n",
        "\n",
        "Аналогично, вектор a2 можно  представить как сумму его компонент: a2 = (a2_1, a2_2, a2_3, ..., a2_n), где a2_i - i-я компонента вектора a2.\n",
        "\n",
        "Также, вектор a3 можно  представить как сумму его компонент: a3 = (a3_1, a3_2, a3_3,..., a3_n), где a3_i - i-я компонента вектора a3.\n",
        "\n",
        "Тогда, сложение векторов a2 и a3 будет иметь вид:\n",
        "a2 + a3 = (a2_1 + a3_1, a2_2 + a3_2, a2_3 + a3_3, a2n + a3_n).\n",
        "\n",
        "И сложение векторов a1 и (a2 + a3) будет  иметь вид:\n",
        "a1 + (a2 + a3) = (a1_1 + (a2_1 + a3_1 ), a1_2 + (a2_2 + a3_2), a1_3 +(a2_3 + a3_3, ..., a1_n + (a2_n + a3_n)).\n",
        "\n",
        "А также, сложение векторов (a1 + a2) и a3 будет  иметь вид:\n",
        "(a1 + a2) + a3 = ((a1_1 + a2_1) + a3_1, (a1_2 + a2_2) + a3_2, (a1_3 + a2_3) + a3_3,..., (a1_n + a2_n) + a3_n).\n",
        "\n",
        "Так как сложение чисел ассоциативно, то каждая компонета суммы будет равна в обоих случаях.\n",
        "\n",
        "Таким рбразом доказано , что векторы a1 + (a2 + a3) и (a1 + a2) + a3 равны.\n"
      ],
      "metadata": {
        "id": "0WcZSZ3eh8Q0"
      }
    },
    {
      "cell_type": "code",
      "source": [
        "a1 = np.array([2, 3, 7])\n",
        "a2 = np.array([7, 5, -2])\n",
        "a3 = np.array([0, 2, 5])\n",
        "print(a1 + (a2 + a3))\n",
        "print((a1 + a2) + a3)"
      ],
      "metadata": {
        "colab": {
          "base_uri": "https://localhost:8080/"
        },
        "id": "39PnRdwjMJ4B",
        "outputId": "8c4ef54e-fab9-4baf-a47a-9868b7539908"
      },
      "execution_count": null,
      "outputs": [
        {
          "output_type": "stream",
          "name": "stdout",
          "text": [
            "[ 9 10 10]\n",
            "[ 9 10 10]\n"
          ]
        }
      ]
    },
    {
      "cell_type": "markdown",
      "source": [
        "# г) $\\forall$a $\\exists$! b (a + b = 0) (вектор b называется вектором, противоположным вектору a, и обозначается символом -a);"
      ],
      "metadata": {
        "id": "co4vb15tP_Nb"
      }
    },
    {
      "cell_type": "markdown",
      "source": [
        "# Решение 1.1 г)\n"
      ],
      "metadata": {
        "id": "usCLCSfjWv87"
      }
    },
    {
      "cell_type": "code",
      "source": [
        "import numpy as np\n",
        "a = np.array ([2, 6])\n",
        "b = -a\n",
        "a + b"
      ],
      "metadata": {
        "id": "FueRPT0mVWdv",
        "colab": {
          "base_uri": "https://localhost:8080/"
        },
        "outputId": "4d909bad-7f67-4c39-ac17-e5410465e65a"
      },
      "execution_count": null,
      "outputs": [
        {
          "output_type": "execute_result",
          "data": {
            "text/plain": [
              "array([0, 0])"
            ]
          },
          "metadata": {},
          "execution_count": 31
        }
      ]
    },
    {
      "cell_type": "markdown",
      "source": [
        "# д) $\\forall$a1, a2 $\\exists$! a3 (a1 + a3 = a2) (вектор a3 называется разностью векторов a2 и a1 и обозначается символом a2 - a1)."
      ],
      "metadata": {
        "id": "w6xkwUCBP8Yu"
      }
    },
    {
      "cell_type": "markdown",
      "source": [
        "# Решение 1.1 д)"
      ],
      "metadata": {
        "id": "U3w7f3bag6dX"
      }
    },
    {
      "cell_type": "code",
      "source": [
        "a1 = np.array([5, 8])\n",
        "a2 = np.array([2,6])\n",
        "a3 = a2 - a1\n",
        "a1 + a3 # = a2\n"
      ],
      "metadata": {
        "colab": {
          "base_uri": "https://localhost:8080/"
        },
        "id": "LDcMDq1KePTY",
        "outputId": "c939ee0f-5d84-4532-a8f3-6cd352da5f7f"
      },
      "execution_count": null,
      "outputs": [
        {
          "output_type": "execute_result",
          "data": {
            "text/plain": [
              "array([2, 6])"
            ]
          },
          "metadata": {},
          "execution_count": 34
        }
      ]
    }
  ]
}