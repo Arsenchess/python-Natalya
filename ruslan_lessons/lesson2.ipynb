{
  "nbformat": 4,
  "nbformat_minor": 0,
  "metadata": {
    "colab": {
      "provenance": [],
      "authorship_tag": "ABX9TyP0XWRdlgzn45+09xfgA2EM",
      "include_colab_link": true
    },
    "kernelspec": {
      "name": "python3",
      "display_name": "Python 3"
    },
    "language_info": {
      "name": "python"
    }
  },
  "cells": [
    {
      "cell_type": "markdown",
      "metadata": {
        "id": "view-in-github",
        "colab_type": "text"
      },
      "source": [
        "<a href=\"https://colab.research.google.com/github/ProNatalya/python/blob/main/lesson2.ipynb\" target=\"_parent\"><img src=\"https://colab.research.google.com/assets/colab-badge.svg\" alt=\"Open In Colab\"/></a>"
      ]
    },
    {
      "cell_type": "markdown",
      "source": [
        "2023_07_19_lesson2"
      ],
      "metadata": {
        "id": "c02jrWtus0oK"
      }
    },
    {
      "cell_type": "code",
      "execution_count": null,
      "metadata": {
        "colab": {
          "base_uri": "https://localhost:8080/"
        },
        "id": "T2TtsY_1nEuR",
        "outputId": "b9b94924-d40c-4e43-c960-45f4b4c10b6d"
      },
      "outputs": [
        {
          "output_type": "execute_result",
          "data": {
            "text/plain": [
              "2"
            ]
          },
          "metadata": {},
          "execution_count": 16
        }
      ],
      "source": [
        "1+1\n"
      ]
    },
    {
      "cell_type": "markdown",
      "source": [
        "Математические операторы:  +,-,*,/\n",
        "Доп операторы : // - деление с отбрасыванием остатка\n",
        "                % - деление по модулю, остаток от деления\n",
        "               '*\n",
        "\n",
        "```\n",
        "# Выбран кодовый формат\n",
        "```\n",
        "\n",
        "** - возведение в степень\n",
        "\n"
      ],
      "metadata": {
        "id": "bkoUwaYFn6qx"
      }
    },
    {
      "cell_type": "code",
      "source": [
        "5/3"
      ],
      "metadata": {
        "colab": {
          "base_uri": "https://localhost:8080/"
        },
        "id": "vsqPeDNhpRgP",
        "outputId": "e23bbf7e-353d-4a60-8caf-27a29faf9895"
      },
      "execution_count": null,
      "outputs": [
        {
          "output_type": "execute_result",
          "data": {
            "text/plain": [
              "1.6666666666666667"
            ]
          },
          "metadata": {},
          "execution_count": 2
        }
      ]
    },
    {
      "cell_type": "code",
      "source": [
        "5//3"
      ],
      "metadata": {
        "colab": {
          "base_uri": "https://localhost:8080/"
        },
        "id": "UwDG6CdSpfLE",
        "outputId": "9faa3542-5035-4c79-cf0e-85bfcbf5636c"
      },
      "execution_count": null,
      "outputs": [
        {
          "output_type": "execute_result",
          "data": {
            "text/plain": [
              "1"
            ]
          },
          "metadata": {},
          "execution_count": 3
        }
      ]
    },
    {
      "cell_type": "code",
      "source": [
        "5 % 3"
      ],
      "metadata": {
        "colab": {
          "base_uri": "https://localhost:8080/"
        },
        "id": "C0gQ6kORsFFl",
        "outputId": "b1cf0ada-f07d-456e-b641-d457afd2e3d4"
      },
      "execution_count": null,
      "outputs": [
        {
          "output_type": "execute_result",
          "data": {
            "text/plain": [
              "2"
            ]
          },
          "metadata": {},
          "execution_count": 4
        }
      ]
    },
    {
      "cell_type": "code",
      "source": [
        "2 + 2 * 2"
      ],
      "metadata": {
        "colab": {
          "base_uri": "https://localhost:8080/"
        },
        "id": "6GHAwWeusi0q",
        "outputId": "689a276d-b0e5-4ad3-bf6a-6cb5bb9079f3"
      },
      "execution_count": null,
      "outputs": [
        {
          "output_type": "execute_result",
          "data": {
            "text/plain": [
              "6"
            ]
          },
          "metadata": {},
          "execution_count": 5
        }
      ]
    },
    {
      "cell_type": "code",
      "source": [
        "(2 + 2) * 2"
      ],
      "metadata": {
        "colab": {
          "base_uri": "https://localhost:8080/"
        },
        "id": "3AF8tJzUstvb",
        "outputId": "c3e5c991-3abd-46a3-cc52-63aa36b42922"
      },
      "execution_count": null,
      "outputs": [
        {
          "output_type": "execute_result",
          "data": {
            "text/plain": [
              "8"
            ]
          },
          "metadata": {},
          "execution_count": 11
        }
      ]
    },
    {
      "cell_type": "code",
      "source": [
        "2**5"
      ],
      "metadata": {
        "colab": {
          "base_uri": "https://localhost:8080/"
        },
        "id": "L1gc73Yqs5y-",
        "outputId": "d55f9188-e6ee-46f5-9c77-d810cc2e936b"
      },
      "execution_count": null,
      "outputs": [
        {
          "output_type": "execute_result",
          "data": {
            "text/plain": [
              "32"
            ]
          },
          "metadata": {},
          "execution_count": 7
        }
      ]
    },
    {
      "cell_type": "code",
      "source": [
        "2**0"
      ],
      "metadata": {
        "colab": {
          "base_uri": "https://localhost:8080/"
        },
        "id": "6jp_s9hGtpxW",
        "outputId": "6ff59a28-bb54-407b-83be-898de24271f5"
      },
      "execution_count": null,
      "outputs": [
        {
          "output_type": "execute_result",
          "data": {
            "text/plain": [
              "1"
            ]
          },
          "metadata": {},
          "execution_count": 10
        }
      ]
    },
    {
      "cell_type": "code",
      "source": [
        "# булевые операторы\n",
        "True # => 1\n",
        "False# => 0"
      ],
      "metadata": {
        "id": "VhKQkvGgt2G4"
      },
      "execution_count": null,
      "outputs": []
    },
    {
      "cell_type": "code",
      "source": [
        "# логические операторы\n",
        "and - конъюнкция, or - дизъюнкция, not - инверсия\n"
      ],
      "metadata": {
        "id": "PT0_znhVvIh4"
      },
      "execution_count": null,
      "outputs": []
    },
    {
      "cell_type": "code",
      "source": [
        "!python lesson1.py"
      ],
      "metadata": {
        "id": "IIeIvvsun43v",
        "colab": {
          "base_uri": "https://localhost:8080/"
        },
        "outputId": "7136da20-1537-45cc-eba3-8612bc01b0a0"
      },
      "execution_count": null,
      "outputs": [
        {
          "output_type": "stream",
          "name": "stdout",
          "text": [
            "hello1\n"
          ]
        }
      ]
    },
    {
      "cell_type": "code",
      "source": [
        "#Таблица истинности логических операций\n",
        "\n",
        "False and False # => 0\n",
        "False and True  # => 0\n",
        "True  and False # => 0\n",
        "True  and True  # => 1\n",
        "\n",
        "False or False  # => 0\n",
        "False or True   # => 1\n",
        "True  or False  # => 1\n",
        "True  or True   # => 1\n",
        "\n",
        "# не x = (1 - x)\n",
        "not False # not False = 1 - 0 => 1\n",
        "not False # not False = 1 - 0 => 1\n",
        "not True  # not True = 1 - 1 => 0\n",
        "not True  # not True = 1 - 1 => 0\n",
        "\n",
        "\n"
      ],
      "metadata": {
        "id": "WOievIio2cEw",
        "colab": {
          "base_uri": "https://localhost:8080/"
        },
        "outputId": "3594174e-d9a5-4005-de6d-b6099dd4be31"
      },
      "execution_count": null,
      "outputs": [
        {
          "output_type": "execute_result",
          "data": {
            "text/plain": [
              "False"
            ]
          },
          "metadata": {},
          "execution_count": 3
        }
      ]
    },
    {
      "cell_type": "code",
      "source": [
        "# Преобразование типов\n"
      ],
      "metadata": {
        "id": "-ChG5cOl6v5C"
      },
      "execution_count": null,
      "outputs": []
    },
    {
      "cell_type": "markdown",
      "source": [],
      "metadata": {
        "id": "TIZs9qkW68Yf"
      }
    },
    {
      "cell_type": "code",
      "source": [
        "True + True"
      ],
      "metadata": {
        "colab": {
          "base_uri": "https://localhost:8080/"
        },
        "id": "EgL1a4EN69R9",
        "outputId": "ad364d30-271a-452b-d148-2cb6bfc4a323"
      },
      "execution_count": null,
      "outputs": [
        {
          "output_type": "execute_result",
          "data": {
            "text/plain": [
              "2"
            ]
          },
          "metadata": {},
          "execution_count": 20
        }
      ]
    },
    {
      "cell_type": "code",
      "source": [
        "True * 13"
      ],
      "metadata": {
        "colab": {
          "base_uri": "https://localhost:8080/"
        },
        "id": "bTf24yT-7N3U",
        "outputId": "3681b723-08bf-4013-b664-17bf5c0c7cab"
      },
      "execution_count": null,
      "outputs": [
        {
          "output_type": "execute_result",
          "data": {
            "text/plain": [
              "13"
            ]
          },
          "metadata": {},
          "execution_count": 21
        }
      ]
    },
    {
      "cell_type": "code",
      "source": [
        "False - 10\n"
      ],
      "metadata": {
        "colab": {
          "base_uri": "https://localhost:8080/"
        },
        "id": "qXx59LVb7Tvh",
        "outputId": "7f634ae8-2ab8-4f24-e3b1-e1309a26f8c8"
      },
      "execution_count": null,
      "outputs": [
        {
          "output_type": "execute_result",
          "data": {
            "text/plain": [
              "-10"
            ]
          },
          "metadata": {},
          "execution_count": 22
        }
      ]
    },
    {
      "cell_type": "code",
      "source": [
        "0 == False"
      ],
      "metadata": {
        "colab": {
          "base_uri": "https://localhost:8080/"
        },
        "id": "oM9Ycpki7eDS",
        "outputId": "e39bda54-6bc2-4c1c-8d72-88b56e4e1dc8"
      },
      "execution_count": null,
      "outputs": [
        {
          "output_type": "execute_result",
          "data": {
            "text/plain": [
              "True"
            ]
          },
          "metadata": {},
          "execution_count": 23
        }
      ]
    },
    {
      "cell_type": "code",
      "source": [
        "1 == True"
      ],
      "metadata": {
        "colab": {
          "base_uri": "https://localhost:8080/"
        },
        "id": "lAMGgBEr7r2Q",
        "outputId": "274e4498-8c2f-4df5-d52b-8dc1a5cbac2c"
      },
      "execution_count": null,
      "outputs": [
        {
          "output_type": "execute_result",
          "data": {
            "text/plain": [
              "True"
            ]
          },
          "metadata": {},
          "execution_count": 24
        }
      ]
    },
    {
      "cell_type": "code",
      "source": [
        "2 == True"
      ],
      "metadata": {
        "colab": {
          "base_uri": "https://localhost:8080/"
        },
        "id": "SvPHn6Ix7xd9",
        "outputId": "e5fb59c1-6c55-4132-f4bd-c50b75c6a853"
      },
      "execution_count": null,
      "outputs": [
        {
          "output_type": "execute_result",
          "data": {
            "text/plain": [
              "False"
            ]
          },
          "metadata": {},
          "execution_count": 26
        }
      ]
    },
    {
      "cell_type": "code",
      "source": [
        "-10 != False"
      ],
      "metadata": {
        "colab": {
          "base_uri": "https://localhost:8080/"
        },
        "id": "ZSGEClwi78RI",
        "outputId": "0fae9680-60ad-47da-bda0-763a07e5bd3c"
      },
      "execution_count": null,
      "outputs": [
        {
          "output_type": "execute_result",
          "data": {
            "text/plain": [
              "True"
            ]
          },
          "metadata": {},
          "execution_count": 27
        }
      ]
    }
  ]
}
