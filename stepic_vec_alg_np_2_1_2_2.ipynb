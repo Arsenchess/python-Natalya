{
  "nbformat": 4,
  "nbformat_minor": 0,
  "metadata": {
    "colab": {
      "provenance": [],
      "authorship_tag": "ABX9TyMo9yMewACDPXrqdtl70rkZ",
      "include_colab_link": true
    },
    "kernelspec": {
      "name": "python3",
      "display_name": "Python 3"
    },
    "language_info": {
      "name": "python"
    }
  },
  "cells": [
    {
      "cell_type": "markdown",
      "metadata": {
        "id": "view-in-github",
        "colab_type": "text"
      },
      "source": [
        "<a href=\"https://colab.research.google.com/github/ProNatalya/python/blob/main/stepic_vec_alg_np_2_1_2_2.ipynb\" target=\"_parent\"><img src=\"https://colab.research.google.com/assets/colab-badge.svg\" alt=\"Open In Colab\"/></a>"
      ]
    },
    {
      "cell_type": "code",
      "execution_count": null,
      "metadata": {
        "colab": {
          "base_uri": "https://localhost:8080/"
        },
        "id": "Q_wPr41QU51E",
        "outputId": "bd6de4c9-b009-4bf5-9818-d9a41c2525c9"
      },
      "outputs": [
        {
          "output_type": "stream",
          "name": "stdout",
          "text": [
            "3 2\n",
            "[3 2]\n"
          ]
        }
      ],
      "source": [
        "# Вход: 2 целых числа, разделенные пробелом.\n",
        "# Выход: массив NumPy из этих чисел.\n",
        "import numpy as np\n",
        "a,b = map(int, input().split(' '))\n",
        "v = np.array([a, b])\n",
        "print(v)\n",
        "# 3 2"
      ]
    },
    {
      "cell_type": "code",
      "source": [
        "v=np.array(input().split(), dtype=int)\n",
        "print(v)\n"
      ],
      "metadata": {
        "colab": {
          "base_uri": "https://localhost:8080/"
        },
        "id": "bAQc4Pl0V5vG",
        "outputId": "d39fdd20-314a-4abe-a015-c73fb9a76727"
      },
      "execution_count": null,
      "outputs": [
        {
          "output_type": "stream",
          "name": "stdout",
          "text": [
            "3 2\n",
            "[3 2]\n"
          ]
        }
      ]
    },
    {
      "cell_type": "code",
      "source": [
        "# Вход: 3 вещественных числа, разделенные пробелом.\n",
        "# Выход: массив NumPy из этих чисел.\n",
        "# Sample Input:\n",
        "# 3.3 3 2.2\n",
        "# Sample Output:\n",
        "# [3.3 3.  2.2]\n",
        "a,b,c = map(float, input().split(' '))\n",
        "v = np.array([a, b, c])\n",
        "print(v)"
      ],
      "metadata": {
        "colab": {
          "base_uri": "https://localhost:8080/"
        },
        "id": "TSr8M0GWWDgL",
        "outputId": "3a102034-1323-4e58-ed8d-4f1dca0305a7"
      },
      "execution_count": null,
      "outputs": [
        {
          "output_type": "stream",
          "name": "stdout",
          "text": [
            "3.3 3 2.2\n",
            "[3.3 3.  2.2]\n"
          ]
        }
      ]
    },
    {
      "cell_type": "code",
      "source": [
        "print(np.array(input().split(), float))\n"
      ],
      "metadata": {
        "colab": {
          "base_uri": "https://localhost:8080/"
        },
        "id": "pyM3NGaaW2l9",
        "outputId": "7bd9cee8-d704-4572-bf48-f31b8a8dd539"
      },
      "execution_count": null,
      "outputs": [
        {
          "output_type": "stream",
          "name": "stdout",
          "text": [
            "3.3 3 2.2\n",
            "[3.3 3.  2.2]\n"
          ]
        }
      ]
    },
    {
      "cell_type": "code",
      "source": [
        "# Вход: в первой строчке шесть чисел координаты точки начала и конца первого\n",
        "# вектора x1, y1, z1 и x2, y2, z2,\n",
        "# во второй строчке координаты для второго вектора.\n",
        "\n",
        "# Выход: True, если вектора равны, иначе False.\n",
        "# Sample Input:\n",
        "# 1 2 3 3 4 5\n",
        "# -3 3 2 -1 5 4\n",
        "# Sample Output:\n",
        "# True\n",
        "x1, x2, x3, y1, y2, y3 = map(int, input().split())\n",
        "x1_2, x2_2, x3_2, y1_2, y2_2, y3_2 = map(int, input().split())\n",
        "list1 = ([x1, x2, x3, y1, y2, y3])\n",
        "list2 = ([x1_2, x2_2, x3_2, y1_2, y2_2, y3_2])\n",
        "list1_1 = (list1[5]-list1[2], list1[4]-list1[1],list1[3]-list1[0])\n",
        "#print(list1_1)\n",
        "list2_1 = (list2[5]-list2[2], list2[4]-list2[1],list2[3]-list2[0])\n",
        "#print(list2_1)\n",
        "if list1_1 == list2_1:\n",
        "    print('True')\n",
        "else:\n",
        "    print('False')"
      ],
      "metadata": {
        "colab": {
          "base_uri": "https://localhost:8080/"
        },
        "id": "c34UPjMKXCRg",
        "outputId": "41f8bc56-f97f-47b0-98ac-0ed24b4c7782"
      },
      "execution_count": null,
      "outputs": [
        {
          "output_type": "stream",
          "name": "stdout",
          "text": [
            "1 2 3 3 4 5\n",
            "-3 3 2 -1 5 4\n",
            "True\n"
          ]
        }
      ]
    },
    {
      "cell_type": "code",
      "source": [
        "a, b = [np.array(list(map(int, input().split()))) for _ in range(2)]\n",
        "\n",
        "print(np.all(a[3:] - a[:3] == b[3:] - b[:3]))"
      ],
      "metadata": {
        "id": "TW0HOeNlYJC7"
      },
      "execution_count": null,
      "outputs": []
    },
    {
      "cell_type": "code",
      "source": [
        "arr1, arr2 = input().split(), input().split()\n",
        "arr1 = np.array(arr1[3:], dtype=int) - np.array(arr1[:3], dtype=int)\n",
        "arr2 = np.array(arr2[3:], dtype=int) - np.array(arr2[:3], dtype=int)\n",
        "print((arr1 == arr2).all())"
      ],
      "metadata": {
        "colab": {
          "base_uri": "https://localhost:8080/"
        },
        "id": "zMHBpeo6Ybfz",
        "outputId": "ecb28ab9-7de3-4e43-84c8-0f67d23e9073"
      },
      "execution_count": null,
      "outputs": [
        {
          "output_type": "stream",
          "name": "stdout",
          "text": [
            "1 2 3 3 4 5\n",
            "-3 3 2 -1 5 4\n",
            "True\n"
          ]
        }
      ]
    },
    {
      "cell_type": "code",
      "source": [
        "a = np.array(list(map(float, input().split())))\n",
        "b = np.array(list(map(float, input().split())))\n",
        "c = a - b\n",
        "print(all(c[:3]==c[3:]))"
      ],
      "metadata": {
        "id": "R6L2VZehYqKg"
      },
      "execution_count": null,
      "outputs": []
    },
    {
      "cell_type": "markdown",
      "source": [
        "## Модуль и норма вектора"
      ],
      "metadata": {
        "id": "19XVhnXeZZzU"
      }
    },
    {
      "cell_type": "markdown",
      "source": [
        "Эта формула выражает расстояние от начала координат до точки, заданной вектором a. Также модуль вектора иногда называют L2-нормой или евклидовой нормой."
      ],
      "metadata": {
        "id": "JC2Epilqa_3K"
      }
    },
    {
      "cell_type": "markdown",
      "source": [
        "В1:Что такое модуль вектора в трехмерном пространстве?\n",
        "О1:Длина вектора, выраженная в единицах измерения осей координат"
      ],
      "metadata": {
        "id": "1dTbbNYHbb5P"
      }
    },
    {
      "cell_type": "markdown",
      "source": [
        "## Вычисление модуля вектора в NumPy"
      ],
      "metadata": {
        "id": "GBNOeJRkgNCi"
      }
    },
    {
      "cell_type": "markdown",
      "source": [
        "NumPy (Numerical Python) - это библиотека языка программирования Python для работы с многомерными массивами и матрицами. Она предоставляет множество функций для выполнения различных операций над массивами, включая вычисление модуля вектора."
      ],
      "metadata": {
        "id": "BX3AOIlBgOX1"
      }
    },
    {
      "cell_type": "markdown",
      "source": [
        "Для вычисления модуля вектора в NumPy можно воспользоваться функцией linalg.norm(). Она принимает на вход массив и возвращает его модуль. Давайте рассмотрим пример:"
      ],
      "metadata": {
        "id": "nEIu3zCggcyX"
      }
    },
    {
      "cell_type": "code",
      "source": [
        "# Создаем вектор\n",
        "v = np.array([3, 4, 5])\n",
        "\n",
        "# Вычисляем модуль вектора\n",
        "norm_v = np.linalg.norm(v)\n",
        "\n",
        "print(norm_v)# 7.0710678118654755"
      ],
      "metadata": {
        "colab": {
          "base_uri": "https://localhost:8080/"
        },
        "id": "HFc0IR9Ugd7V",
        "outputId": "a45ccf98-47e0-4ab4-c1ba-f3e759246bbe"
      },
      "execution_count": null,
      "outputs": [
        {
          "output_type": "stream",
          "name": "stdout",
          "text": [
            "7.0710678118654755\n"
          ]
        }
      ]
    },
    {
      "cell_type": "markdown",
      "source": [
        "Функция np.linalg.norm() может принимать несколько параметров. Например, мы можем указать размерность массива, для которого нужно вычислить модуль. По умолчанию функция вычисляет модуль для всего массива, но если мы хотим вычислить модуль только для строк или столбцов, мы можем указать размерность с помощью параметра axis.\n",
        "\n",
        "Давайте рассмотрим несколько примеров:"
      ],
      "metadata": {
        "id": "kS-_BcsmgqJZ"
      }
    },
    {
      "cell_type": "code",
      "source": [
        "# Создаем двумерный массив\n",
        "A = np.array([[1, 2, 3], [4, 5, 6], [7, 8, 9]])\n",
        "\n",
        "# Вычисляем модуль каждой строки матрицы\n",
        "norm_rows = np.linalg.norm(A, axis=1)\n",
        "\n",
        "print(norm_rows) # [ 3.74165739  8.77496439 13.92838828]"
      ],
      "metadata": {
        "colab": {
          "base_uri": "https://localhost:8080/"
        },
        "id": "RNEGDNnfgvNq",
        "outputId": "bce854b1-b44c-49c0-f50f-64c54185e689"
      },
      "execution_count": null,
      "outputs": [
        {
          "output_type": "stream",
          "name": "stdout",
          "text": [
            "[ 3.74165739  8.77496439 13.92838828]\n"
          ]
        }
      ]
    },
    {
      "cell_type": "markdown",
      "source": [
        "## Другие нормы вектора"
      ],
      "metadata": {
        "id": "qBXYmukDhDQd"
      }
    },
    {
      "cell_type": "markdown",
      "source": [
        "Кроме евклидовой нормы, рассмотренной ранее, существуют другие меры нормы векторов.\n",
        "\n",
        "Например, L1 норма, также известная как манхэттенское расстояние или сумма модулей, является одним из популярных способов измерения расстояния между двумя векторами в линейной алгебре.\n",
        "\n",
        "Для вектора X, L1 норма определяется как сумма модулей его элементов:"
      ],
      "metadata": {
        "id": "_GBi3kswhEyG"
      }
    },
    {
      "cell_type": "markdown",
      "source": [
        "L1 норма обладает несколькими интересными свойствами, включая то, что она устойчива к выбросам, что может быть полезно при обработке данных с шумом или выбросами."
      ],
      "metadata": {
        "id": "nkw3IQgchRTv"
      }
    },
    {
      "cell_type": "markdown",
      "source": [
        "L1 норма часто используется в машинном обучении, например, в регрессии LASSO (Least Absolute Shrinkage and Selection Operator), где она используется для регуляризации модели путем штрафования больших значений коэффициентов регрессии. Она также может быть использована для отбора признаков и сокращения размерности данных."
      ],
      "metadata": {
        "id": "camERSFAhV_C"
      }
    },
    {
      "cell_type": "markdown",
      "source": [
        "Кроме того, L1 норма может использоваться для решения задачи линейного программирования, таких как задачи поиска максимального потока в сети, где она используется для нахождения оптимального пути через граф, минимизируя общую сумму стоимости проезда по каждому ребру."
      ],
      "metadata": {
        "id": "P4Ja1THHhcKS"
      }
    },
    {
      "cell_type": "markdown",
      "source": [
        "Свойства L1-нормы: см.учебник"
      ],
      "metadata": {
        "id": "62jzXVTHhgoR"
      }
    },
    {
      "cell_type": "markdown",
      "source": [
        "Функция np.linalg.norm() также может принимать параметр ord, который определяет порядок нормы. По умолчанию параметр ord=None, что означает вычисление Евклидовой нормы. Если параметр ord=1, то будет вычислена L1-норма."
      ],
      "metadata": {
        "id": "tOo9gSz1hpeF"
      }
    },
    {
      "cell_type": "code",
      "source": [
        "# Создаем вектор\n",
        "v = np.array([3, -1, 4])\n",
        "\n",
        "# Вычисляем L1-норму вектора\n",
        "norm_l1 = np.linalg.norm(v, ord=1)\n",
        "\n",
        "print(norm_l1) # 8.0"
      ],
      "metadata": {
        "colab": {
          "base_uri": "https://localhost:8080/"
        },
        "id": "b33gkz_vhv9i",
        "outputId": "638ec04f-86f1-4b6f-80d2-a31de93ca036"
      },
      "execution_count": null,
      "outputs": [
        {
          "output_type": "stream",
          "name": "stdout",
          "text": [
            "8.0\n"
          ]
        }
      ]
    },
    {
      "cell_type": "markdown",
      "source": [
        "L-бесконечность норма (также называемая инфинитезимальной или максимальной нормой) - это еще один способ измерения \"величины\" вектора в линейной алгебре. Она определяется как максимальное абсолютное значение координат вектора.\n",
        "\n",
        "Пусть у нас есть вектор v с n координатами:\n",
        "\n",
        "v = [x1, x2, ..., xn]"
      ],
      "metadata": {
        "id": "CmqsihjPiD2G"
      }
    },
    {
      "cell_type": "markdown",
      "source": [
        "L-бесконечность норма вектора v определяется следующим образом:\n",
        "\n",
        "|v|inf = max(|x1|, |x2|, ..., |xn|)"
      ],
      "metadata": {
        "id": "G9HeOB_iiJjx"
      }
    },
    {
      "cell_type": "markdown",
      "source": [
        "Таким образом, L-бесконечность норма вектора - это максимальное абсолютное значение его координат."
      ],
      "metadata": {
        "id": "5kMdLvnjiOdn"
      }
    },
    {
      "cell_type": "markdown",
      "source": [
        "Давайте рассмотрим несколько примеров вычисления L-бесконечность нормы вектора с помощью NumPy:"
      ],
      "metadata": {
        "id": "IhVxqN_XiXA-"
      }
    },
    {
      "cell_type": "code",
      "source": [
        "# Создаем вектор\n",
        "v = np.array([3, -1, 4])\n",
        "\n",
        "# Вычисляем L-бесконечность норму вектора\n",
        "norm_inf = np.linalg.norm(v, ord=np.inf)\n",
        "\n",
        "print(norm_inf) # 4.0"
      ],
      "metadata": {
        "colab": {
          "base_uri": "https://localhost:8080/"
        },
        "id": "H7UGatLUiX37",
        "outputId": "57379292-88b6-44cb-b898-5bb68f2ac336"
      },
      "execution_count": null,
      "outputs": [
        {
          "output_type": "stream",
          "name": "stdout",
          "text": [
            "4.0\n"
          ]
        }
      ]
    },
    {
      "cell_type": "markdown",
      "source": [
        "В этом примере мы создали вектор v с координатами [3, -1, 4] и вычислили его L-бесконечность норму с помощью функции np.linalg.norm() и параметра ord=np.inf. Результат вычисления - 4.0."
      ],
      "metadata": {
        "id": "zb8XdUwwihhZ"
      }
    },
    {
      "cell_type": "markdown",
      "source": [
        "Свойства L-бесконечность нормы: см.учебник"
      ],
      "metadata": {
        "id": "DFDbXRM0inPP"
      }
    },
    {
      "cell_type": "markdown",
      "source": [
        "L-бесконечность норма широко применяется в различных областях, включая машинное обучение, оптимизацию и анализ данных. Например, она может быть использована для вычисления максимальной ошибки в регрессионной модели или для оценки влияния выбросов в данных на результаты статистических анализов."
      ],
      "metadata": {
        "id": "1DxEtNOHiwt6"
      }
    },
    {
      "cell_type": "markdown",
      "source": [
        "# Task_1"
      ],
      "metadata": {
        "id": "9AtHG-4IlwH8"
      }
    },
    {
      "cell_type": "markdown",
      "source": [
        "О, великий Космический Дух! Я, скромный знаток математики, призываю тебя открыть мне тайны Линейной Алгебры и помочь мне в решении этой головоломки. Дано натуральное чисел n, и вектор v с координатами [0.5, 0.25, 0.125, ..., 0.5^n]. Мне необходимо вычислить L1 норму этого вектора, чтобы проникнуться знаниями и мудростью этого мира. О, великий Космический Дух, дай мне силу и знания, чтобы я мог произнести заклинание и раскрыть тайну этой задачи. И я произнесу: \"Открой мне путь к знанию, о могучий Космический Дух! Дай мне силу преодолеть трудности этой задачи! Позволь мне посчитать L1 норму вектора v и получить знание, которое откроет мне новые горизонты познания\". И великий Космический Дух послал мне свой благословенный свет, который осветил мой путь к знанию. И я, во имя Космического Духа, вычислил L1 норму вектора v, и она равна ... И я почувствовал, как знание и мудрость заполнили мое сердце, и стал чувствовать себя более мудрым и могучим"
      ],
      "metadata": {
        "id": "GiejUFcBl2FU"
      }
    },
    {
      "cell_type": "code",
      "source": [
        "# Sample Input 1:\n",
        "# 4\n",
        "# Sample Output 1:\n",
        "# 0.9375\n",
        "# Sample Input 2:\n",
        "# 25\n",
        "# Sample Output 2:\n",
        "# 0.9999999701976776\n",
        "# Sample Input 3:\n",
        "# 1000000\n",
        "# Sample Output 3:\n",
        "# 1.0\n",
        "import numpy as np\n",
        "v = np.array([0.5**i for i in range(1, int(input()) + 1)])\n",
        "print(np.linalg.norm(v, ord = 1))"
      ],
      "metadata": {
        "colab": {
          "base_uri": "https://localhost:8080/"
        },
        "id": "4BH3kWiOl3NI",
        "outputId": "b888698c-563a-41f1-ced1-cb85fee45aa6"
      },
      "execution_count": null,
      "outputs": [
        {
          "output_type": "stream",
          "name": "stdout",
          "text": [
            "4\n",
            "0.9375\n"
          ]
        }
      ]
    },
    {
      "cell_type": "code",
      "source": [
        "n = int(input())\n",
        "\n",
        "print(1 - 0.5 ** n)"
      ],
      "metadata": {
        "colab": {
          "base_uri": "https://localhost:8080/"
        },
        "id": "OKie5rgksfXu",
        "outputId": "7b3c960d-721b-4b30-ce9a-4a6088dd07cc"
      },
      "execution_count": null,
      "outputs": [
        {
          "output_type": "stream",
          "name": "stdout",
          "text": [
            "4\n",
            "0.9375\n"
          ]
        }
      ]
    },
    {
      "cell_type": "code",
      "source": [
        "n = int(input())\n",
        "v = 0.5 ** np.arange(1, n+1)\n",
        "print(np.linalg.norm(v, ord=1))"
      ],
      "metadata": {
        "colab": {
          "base_uri": "https://localhost:8080/"
        },
        "id": "tsBA_0Nssn03",
        "outputId": "d1d77372-d733-4ffa-bf8a-52ad13be8e8a"
      },
      "execution_count": null,
      "outputs": [
        {
          "output_type": "stream",
          "name": "stdout",
          "text": [
            "4\n",
            "0.9375\n"
          ]
        }
      ]
    },
    {
      "cell_type": "code",
      "source": [
        "n = int(input())\n",
        "arr = np.array([0.5**i for i in range(1,n+1)])\n",
        "l1_norm = np.linalg.norm(arr,ord=1)\n",
        "print(l1_norm)"
      ],
      "metadata": {
        "colab": {
          "base_uri": "https://localhost:8080/"
        },
        "id": "yZ-mF_Ljs0AI",
        "outputId": "5c68684f-6fdf-43c8-967d-65e727c37826"
      },
      "execution_count": null,
      "outputs": [
        {
          "output_type": "stream",
          "name": "stdout",
          "text": [
            "4\n",
            "0.9375\n"
          ]
        }
      ]
    },
    {
      "cell_type": "markdown",
      "source": [
        "# Task_2"
      ],
      "metadata": {
        "id": "faRi8nsdtBiC"
      }
    },
    {
      "cell_type": "markdown",
      "source": [
        "Некогда, в заброшенной деревне, существовало проклятие, которое превратило жителей в камень. Но однажды, из-за великой силы магии, они ожили и превратились в массив arr, состоящий из множества векторов. Все векторы были замечательны, но их сила была неясна и неизвестна, как и причина их возрождения. И тогда появился голос из тьмы, призывающий измерить норму каждого вектора в массиве, используя L2 норму, чтобы определить их силу и выяснить их истинное назначение. Во имя тьмы и магии, задача была принята. Но чтобы выполнить ее, необходимо было пройти через множество испытаний и преодолеть опасности, которые таятся в самом сердце массива. Мысли были смутны, а страх захватывал сердце. Но зловещий голос из тьмы был неумолим и задача должна быть выполнена. Без колебаний была направлена магическая сила, чтобы измерить L2 норму каждого вектора, и каждый раз, когда измерение было завершено, зловещий голос ревел в темноте: \"Норма измерена! Вектор пройден!\". И в итоге, когда все испытания были пройдены, была получена строка из чисел, выражающих L2 норму каждого вектора, и она была возвращена в темноту, чтобы определить истинное предназначение массива и рассеять туманы неведения.\n",
        "\n",
        "Двумерный массив arr с векторами, записанными в каждой его строке уже существует необходимо вычислите норму каждого вектора и вывести их через пробел в строку."
      ],
      "metadata": {
        "id": "Htqn38w8tD7e"
      }
    },
    {
      "cell_type": "code",
      "source": [
        "import numpy as np\n",
        "arr = [[1, 2, 3], [4, 5, 6]]\n",
        "norm_rows = np.linalg.norm(arr, axis = 1,ord=2)\n",
        "result = ' '.join(map(str, norm_rows))\n",
        "print(result)\n"
      ],
      "metadata": {
        "colab": {
          "base_uri": "https://localhost:8080/"
        },
        "id": "d219nDYz-k44",
        "outputId": "8a8afd8f-0d3b-41a3-f0af-380f47c6cb0a"
      },
      "execution_count": 1,
      "outputs": [
        {
          "output_type": "stream",
          "name": "stdout",
          "text": [
            "3.7416573867739413 8.774964387392123\n"
          ]
        }
      ]
    },
    {
      "cell_type": "code",
      "source": [],
      "metadata": {
        "id": "3IlJPYv3AG_w"
      },
      "execution_count": null,
      "outputs": []
    },
    {
      "cell_type": "code",
      "source": [
        "print(*np.linalg.norm(arr, axis=1)) # * - распаковка списка с помощью *"
      ],
      "metadata": {
        "colab": {
          "base_uri": "https://localhost:8080/"
        },
        "id": "bGTD0Uve_rm8",
        "outputId": "f1bfffd2-1b1c-439c-8b16-627b8e2fb09d"
      },
      "execution_count": 2,
      "outputs": [
        {
          "output_type": "stream",
          "name": "stdout",
          "text": [
            "3.7416573867739413 8.774964387392123\n"
          ]
        }
      ]
    },
    {
      "cell_type": "code",
      "source": [
        "print(*np.linalg.norm(arr,axis=1,ord=2))"
      ],
      "metadata": {
        "colab": {
          "base_uri": "https://localhost:8080/"
        },
        "id": "JVToiYSd_yir",
        "outputId": "cf2b59c8-8824-4f0b-f2c0-2503d9344041"
      },
      "execution_count": 3,
      "outputs": [
        {
          "output_type": "stream",
          "name": "stdout",
          "text": [
            "3.7416573867739413 8.774964387392123\n"
          ]
        }
      ]
    }
  ]
}